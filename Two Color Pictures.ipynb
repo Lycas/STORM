{
 "cells": [
  {
   "cell_type": "code",
   "execution_count": 1,
   "metadata": {
    "collapsed": false
   },
   "outputs": [
    {
     "name": "stderr",
     "output_type": "stream",
     "text": [
      "A newer version of GraphLab Create (v2.1) is available! Your current version is v2.0.1.\n",
      "You can use pip to upgrade the graphlab-create package. For more information see https://turi.com/products/create/upgrade.\n"
     ]
    }
   ],
   "source": [
    "import graphlab as gl\n",
    "import matplotlib.pyplot as plt\n",
    "import os\n",
    "import seaborn as sns\n",
    "import numpy as np\n",
    "from mpl_toolkits.mplot3d import Axes3D"
   ]
  },
  {
   "cell_type": "code",
   "execution_count": null,
   "metadata": {
    "collapsed": false,
    "scrolled": true
   },
   "outputs": [
    {
     "data": {
      "text/html": [
       "<pre>Finished parsing file C:\\Users\\jdr248\\DAT V.txt</pre>"
      ],
      "text/plain": [
       "Finished parsing file C:\\Users\\jdr248\\DAT V.txt"
      ]
     },
     "metadata": {},
     "output_type": "display_data"
    },
    {
     "data": {
      "text/html": [
       "<pre>Parsing completed. Parsed 100 lines in 0.043004 secs.</pre>"
      ],
      "text/plain": [
       "Parsing completed. Parsed 100 lines in 0.043004 secs."
      ]
     },
     "metadata": {},
     "output_type": "display_data"
    },
    {
     "name": "stdout",
     "output_type": "stream",
     "text": [
      "------------------------------------------------------\n",
      "Inferred types from first 100 line(s) of file as \n",
      "column_type_hints=[str,float,float,float,float,float,float,float,float,float,float,float,long,long,long,long,long,long]\n",
      "If parsing fails due to incorrect types, you can correct\n",
      "the inferred type list above and pass it to read_csv in\n",
      "the column_type_hints argument\n",
      "------------------------------------------------------\n"
     ]
    },
    {
     "data": {
      "text/html": [
       "<pre>Finished parsing file C:\\Users\\jdr248\\DAT V.txt</pre>"
      ],
      "text/plain": [
       "Finished parsing file C:\\Users\\jdr248\\DAT V.txt"
      ]
     },
     "metadata": {},
     "output_type": "display_data"
    },
    {
     "data": {
      "text/html": [
       "<pre>Parsing completed. Parsed 18422 lines in 0.070804 secs.</pre>"
      ],
      "text/plain": [
       "Parsing completed. Parsed 18422 lines in 0.070804 secs."
      ]
     },
     "metadata": {},
     "output_type": "display_data"
    }
   ],
   "source": [
    "sns.set(style=\"white\", palette=\"muted\", color_codes=True)\n",
    "\n",
    "Raw_Data = gl.SFrame.read_csv('DAT V.txt', delimiter = '\t',header = True)\n",
    "Sauce = gl.SFrame({'X': Raw_Data['Xc']-min(Raw_Data['Xc']),'Y': Raw_Data['Yc']-min(Raw_Data['Yc']),'Channel Name':Raw_Data['Channel Name']})\n",
    "\n",
    "Dataframe = Sauce.to_dataframe()\n",
    "\n",
    "CF568 = Dataframe.loc[Dataframe['Channel Name'] == 'A405/A568']\n",
    "A647 = Dataframe.loc[Dataframe['Channel Name'] == 'A405/A647']\n",
    "sns.kdeplot(A647['X'],A647['Y'],cmap=\"Blues\",bw=20, shade=False, shade_lowest=True)\n",
    "sns.kdeplot(CF568['X'],CF568['Y'],cmap=\"Reds\",bw=20, shade=False, shade_lowest=True)\n",
    "plt.gca().invert_yaxis()\n",
    "plt.axis('off')\n",
    "plt.tight_layout()\n",
    "plt.show()"
   ]
  },
  {
   "cell_type": "code",
   "execution_count": 52,
   "metadata": {
    "collapsed": false,
    "scrolled": true
   },
   "outputs": [
    {
     "data": {
      "text/html": [
       "<pre>Finished parsing file C:\\Users\\jdr248\\002 04.txt</pre>"
      ],
      "text/plain": [
       "Finished parsing file C:\\Users\\jdr248\\002 04.txt"
      ]
     },
     "metadata": {},
     "output_type": "display_data"
    },
    {
     "data": {
      "text/html": [
       "<pre>Parsing completed. Parsed 100 lines in 0.0834 secs.</pre>"
      ],
      "text/plain": [
       "Parsing completed. Parsed 100 lines in 0.0834 secs."
      ]
     },
     "metadata": {},
     "output_type": "display_data"
    },
    {
     "name": "stdout",
     "output_type": "stream",
     "text": [
      "------------------------------------------------------\n",
      "Inferred types from first 100 line(s) of file as \n",
      "column_type_hints=[str,float,float,float,float,float,float,float,float,float,float,float,long,long,long,long,float,float]\n",
      "If parsing fails due to incorrect types, you can correct\n",
      "the inferred type list above and pass it to read_csv in\n",
      "the column_type_hints argument\n",
      "------------------------------------------------------\n"
     ]
    },
    {
     "data": {
      "text/html": [
       "<pre>Finished parsing file C:\\Users\\jdr248\\002 04.txt</pre>"
      ],
      "text/plain": [
       "Finished parsing file C:\\Users\\jdr248\\002 04.txt"
      ]
     },
     "metadata": {},
     "output_type": "display_data"
    },
    {
     "data": {
      "text/html": [
       "<pre>Parsing completed. Parsed 41004 lines in 0.0938 secs.</pre>"
      ],
      "text/plain": [
       "Parsing completed. Parsed 41004 lines in 0.0938 secs."
      ]
     },
     "metadata": {},
     "output_type": "display_data"
    },
    {
     "data": {
      "text/html": [
       "<pre>Starting brute force nearest neighbors model training.</pre>"
      ],
      "text/plain": [
       "Starting brute force nearest neighbors model training."
      ]
     },
     "metadata": {},
     "output_type": "display_data"
    },
    {
     "data": {
      "text/html": [
       "<pre>Starting blockwise similarity graph construction.</pre>"
      ],
      "text/plain": [
       "Starting blockwise similarity graph construction."
      ]
     },
     "metadata": {},
     "output_type": "display_data"
    },
    {
     "data": {
      "text/html": [
       "<pre>max rows per data block: 8189</pre>"
      ],
      "text/plain": [
       "max rows per data block: 8189"
      ]
     },
     "metadata": {},
     "output_type": "display_data"
    },
    {
     "data": {
      "text/html": [
       "<pre>number of reference data blocks: 4</pre>"
      ],
      "text/plain": [
       "number of reference data blocks: 4"
      ]
     },
     "metadata": {},
     "output_type": "display_data"
    },
    {
     "data": {
      "text/html": [
       "<pre>+---------+-------------+--------------+</pre>"
      ],
      "text/plain": [
       "+---------+-------------+--------------+"
      ]
     },
     "metadata": {},
     "output_type": "display_data"
    },
    {
     "data": {
      "text/html": [
       "<pre>| # Pairs | % Complete. | Elapsed Time |</pre>"
      ],
      "text/plain": [
       "| # Pairs | % Complete. | Elapsed Time |"
      ]
     },
     "metadata": {},
     "output_type": "display_data"
    },
    {
     "data": {
      "text/html": [
       "<pre>+---------+-------------+--------------+</pre>"
      ],
      "text/plain": [
       "+---------+-------------+--------------+"
      ]
     },
     "metadata": {},
     "output_type": "display_data"
    },
    {
     "data": {
      "text/html": [
       "<pre>| 6e+007  | 29.9886     | 978.2ms      |</pre>"
      ],
      "text/plain": [
       "| 6e+007  | 29.9886     | 978.2ms      |"
      ]
     },
     "metadata": {},
     "output_type": "display_data"
    },
    {
     "data": {
      "text/html": [
       "<pre>| 2e+008  | 79.9772     | 2.07s        |</pre>"
      ],
      "text/plain": [
       "| 2e+008  | 79.9772     | 2.07s        |"
      ]
     },
     "metadata": {},
     "output_type": "display_data"
    },
    {
     "data": {
      "text/html": [
       "<pre>| 2e+008  | 99.9772     | 3.19s        |</pre>"
      ],
      "text/plain": [
       "| 2e+008  | 99.9772     | 3.19s        |"
      ]
     },
     "metadata": {},
     "output_type": "display_data"
    },
    {
     "data": {
      "text/html": [
       "<pre>| 2e+008  | 100         | 3.19s        |</pre>"
      ],
      "text/plain": [
       "| 2e+008  | 100         | 3.19s        |"
      ]
     },
     "metadata": {},
     "output_type": "display_data"
    },
    {
     "data": {
      "text/html": [
       "<pre>+---------+-------------+--------------+</pre>"
      ],
      "text/plain": [
       "+---------+-------------+--------------+"
      ]
     },
     "metadata": {},
     "output_type": "display_data"
    },
    {
     "name": "stderr",
     "output_type": "stream",
     "text": [
      "[INFO] graphlab.toolkits.clustering.dbscan: Identifying noise points and core points.\n",
      "[INFO] graphlab.toolkits.clustering.dbscan: Constructing the core point similarity graph.\n"
     ]
    },
    {
     "data": {
      "text/html": [
       "<pre>+-----------------------------+</pre>"
      ],
      "text/plain": [
       "+-----------------------------+"
      ]
     },
     "metadata": {},
     "output_type": "display_data"
    },
    {
     "data": {
      "text/html": [
       "<pre>| Number of components merged |</pre>"
      ],
      "text/plain": [
       "| Number of components merged |"
      ]
     },
     "metadata": {},
     "output_type": "display_data"
    },
    {
     "data": {
      "text/html": [
       "<pre>+-----------------------------+</pre>"
      ],
      "text/plain": [
       "+-----------------------------+"
      ]
     },
     "metadata": {},
     "output_type": "display_data"
    },
    {
     "data": {
      "text/html": [
       "<pre>| 36773                       |</pre>"
      ],
      "text/plain": [
       "| 36773                       |"
      ]
     },
     "metadata": {},
     "output_type": "display_data"
    },
    {
     "data": {
      "text/html": [
       "<pre>| 0                           |</pre>"
      ],
      "text/plain": [
       "| 0                           |"
      ]
     },
     "metadata": {},
     "output_type": "display_data"
    },
    {
     "data": {
      "text/html": [
       "<pre>+-----------------------------+</pre>"
      ],
      "text/plain": [
       "+-----------------------------+"
      ]
     },
     "metadata": {},
     "output_type": "display_data"
    },
    {
     "name": "stderr",
     "output_type": "stream",
     "text": [
      "[INFO] graphlab.toolkits.clustering.dbscan: Processing boundary points.\n"
     ]
    },
    {
     "name": "stdout",
     "output_type": "stream",
     "text": [
      "+--------+--------+--------+---------+------------+----------+\n",
      "| row_id |   X    |   Y    |    Z    | cluster_id |   type   |\n",
      "+--------+--------+--------+---------+------------+----------+\n",
      "|   0    | 3485.7 | 653.5  | 175.119 |     31     |   core   |\n",
      "|   1    | 1690.1 | 1712.9 | 114.855 |     33     |   core   |\n",
      "|   2    | 1768.6 | 1872.3 | 245.103 |     33     |   core   |\n",
      "|   3    | 3516.2 | 622.3  | 195.207 |     31     |   core   |\n",
      "|   4    | 3474.7 | 719.9  |  86.343 |     31     | boundary |\n",
      "|   5    | 2100.4 | 2155.7 | 347.536 |    None    |  noise   |\n",
      "|   6    | 3486.1 | 695.3  |  96.711 |    None    |  noise   |\n",
      "|   7    | 1635.4 | 1432.2 | 183.543 |     33     |   core   |\n",
      "|   8    | 3440.9 | 761.6  |  37.095 |    None    |  noise   |\n",
      "|   9    | 3464.9 | 746.6  | 152.439 |     31     |   core   |\n",
      "+--------+--------+--------+---------+------------+----------+\n",
      "[17570 rows x 6 columns]\n",
      "Note: Only the head of the SFrame is printed.\n",
      "You can use print_rows(num_rows=m, num_columns=n) to print more rows and columns.\n"
     ]
    }
   ],
   "source": [
    "\n",
    "plt.close()\n",
    "Raw_Data = gl.SFrame.read_csv('002 04.txt', delimiter = '\t',header = True)\n",
    "Sauce = gl.SFrame({'X': Raw_Data['Xc']-min(Raw_Data['Xc']),'Y': Raw_Data['Yc']-min(Raw_Data['Yc']),'Z':Raw_Data['Zc']-min(Raw_Data['Zc']),'Channel Name':Raw_Data['Channel Name']})\n",
    "\n",
    "Dataframe = Sauce.to_dataframe()\n",
    "\n",
    "CF568 = Dataframe.loc[Dataframe['Channel Name'] == 'A405/A568']\n",
    "A647 = Dataframe.loc[Dataframe['Channel Name'] == 'A405/A647']\n",
    "\n",
    "DAT= A647.ix[:,'X':]\n",
    "VMAT2= CF568.ix[:,'X':]\n",
    "\n",
    "DATpts= gl.SFrame(data=DAT)\n",
    "VMAT2pts = gl.SFrame(data=VMAT2)\n",
    "Cluster = gl.dbscan.create(DATpts, radius = 40, min_core_neighbors = 8)\n",
    "DATpts = DATpts.add_row_number('row_id')\n",
    "DATpts = DATpts.join(Cluster['cluster_id'], on='row_id', how='left')\n",
    "print DATpts\n",
    "\n",
    "core_mask = DATpts['type'] == 'core'\n",
    "boundary_mask = DATpts['type'] == 'boundary'\n",
    "noise_mask = DATpts['type'] == 'noise'\n",
    "\n",
    "\n",
    "\n",
    "fig = plt.figure()\n",
    "ax = fig.add_subplot(111, projection='3d')\n",
    "                  \n",
    "ax.scatter(DATpts['X'][core_mask],DATpts['Y'][core_mask],DATpts['Z'][core_mask],c='red',alpha = 0.5, s=50)\n",
    "ax.scatter(DATpts['X'][boundary_mask],DATpts['Y'][boundary_mask],DATpts['Z'][boundary_mask],c='blue',alpha = 0.5)\n",
    "ax.scatter(DATpts['X'][noise_mask],DATpts['Y'][noise_mask],DATpts['Z'][noise_mask],c='grey',alpha = 0.3)\n",
    "#ax.scatter(A647['X'],A647['Y'],A647['Z'],c='red',alpha = 0.5)\n",
    "ax.scatter(CF568['X'],CF568['Y'],CF568['Z'],c='yellow',alpha = 0.5, s=50)\n",
    "\n",
    "#ax.set_xlim3d(1400, 2000)\n",
    "#ax.set_ylim3d(1400, 2000)\n",
    "ax.set_zlim3d(-1000,2000)\n",
    "ax.set_xlabel('X axis')\n",
    "ax.set_ylabel('Y axis')\n",
    "ax.set_zlabel('Z axis')\n",
    "plt.tight_layout()\n",
    "plt.show()\n"
   ]
  },
  {
   "cell_type": "code",
   "execution_count": null,
   "metadata": {
    "collapsed": true
   },
   "outputs": [],
   "source": []
  }
 ],
 "metadata": {
  "kernelspec": {
   "display_name": "Python 2",
   "language": "python",
   "name": "python2"
  },
  "language_info": {
   "codemirror_mode": {
    "name": "ipython",
    "version": 2
   },
   "file_extension": ".py",
   "mimetype": "text/x-python",
   "name": "python",
   "nbconvert_exporter": "python",
   "pygments_lexer": "ipython2",
   "version": "2.7.11"
  }
 },
 "nbformat": 4,
 "nbformat_minor": 0
}
