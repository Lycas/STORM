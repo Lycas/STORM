{
 "cells": [
  {
   "cell_type": "code",
   "execution_count": 1,
   "metadata": {
    "collapsed": true
   },
   "outputs": [],
   "source": [
    "import graphlab as gl\n",
    "import matplotlib.pyplot as plt\n",
    "import os\n",
    "import graphlab.aggregate as agg"
   ]
  },
  {
   "cell_type": "code",
   "execution_count": 6,
   "metadata": {
    "collapsed": false
   },
   "outputs": [],
   "source": [
    "def Cluster_Volume(filename):    \n",
    "    def Edges(P):\n",
    "        points = sorted(set(P))\n",
    "        def cross(o, a, b):\n",
    "            return (a[0] - o[0]) * (b[1] - o[1]) - (a[1] - o[1]) * (b[0] - o[0])\n",
    "        lower = []\n",
    "        for count in points:\n",
    "                while len(lower) >= 2 and cross(lower[-2], lower[-1], count) <= 0:\n",
    "                    lower.pop()\n",
    "                lower.append(count)\n",
    "        upper = []\n",
    "        for count in reversed(points):\n",
    "                while len(upper) >= 2 and cross(upper[-2], upper[-1], count) <= 0:\n",
    "                    upper.pop()\n",
    "                upper.append(count)\n",
    "        shape = lower[:-1] + upper[:-1]\n",
    "        return shape\n",
    "\n",
    "    def Area(shape):\n",
    "        Area = 0\n",
    "        Add = 0\n",
    "        Sub = 0\n",
    "        for a in range(len(shape)):\n",
    "            if a != (len(shape)-1):\n",
    "                Add = Add + shape[a][0]* shape[a+1][1]\n",
    "                Sub = Sub + shape[a][1]* shape[a+1][0]\n",
    "            else:\n",
    "                Add = Add + shape[a][0]* shape[0][1]\n",
    "                Sub = Sub + shape[a][1]* shape[0][0]\n",
    "        Area = (((Add - Sub)**2)**0.5)* 0.5\n",
    "        return Area\n",
    "\n",
    "\n",
    "\n",
    " \n",
    "    Raw_Image = gl.SFrame.read_csv(filename, delimiter = '\t',header = True)\n",
    "\n",
    "    #shift points so the min is (0,0)\n",
    "    Sauce = gl.SFrame({'X': Raw_Image['Xc']-min(Raw_Image['Xc']),'Y': Raw_Image['Yc']-min(Raw_Image['Yc'])})\n",
    "    \n",
    "    #Runs DBSCAN on the points\n",
    "    Image_C = gl.dbscan.create(Sauce, radius = 30, min_core_neighbors = 20)\n",
    "    Weak = gl.dbscan.create(Sauce, radius = 60, min_core_neighbors = 30)\n",
    "    #Give each point its own identification number\n",
    "    Sauce = Sauce.add_row_number('row_id')\n",
    "\n",
    "    #Add the cluster identity to each point \n",
    "    Image_Pts = Sauce.join(Image_C['cluster_id'], on='row_id', how='left')\n",
    "    Weak_s = Sauce.join(Weak['cluster_id'], on='row_id', how='left')\n",
    "    core_mask = Image_Pts['type'] == 'core'\n",
    "    boundary_mask = Image_Pts['type'] == 'boundary'\n",
    "    plt.style.use('ggplot')\n",
    "    #plt.axis([0, 5000, 0, 4000])\n",
    "    plt.scatter(Sauce['X'],Sauce['Y'],s=5,c = 'black')\n",
    "    plt.scatter(Image_Pts['X'][core_mask],Image_Pts['Y'][core_mask],s=5,c=Image_Pts['cluster_id'][core_mask],alpha = 0.9)\n",
    "    plt.scatter(Image_Pts['X'][boundary_mask],Image_Pts['Y'][boundary_mask],s=5,c=Image_Pts['cluster_id'][boundary_mask],alpha = 0.5)\n",
    "    \n",
    "    \n",
    "    #Image_Pts.show()\n",
    "    \n",
    "    \n",
    "    Weak_s = Weak_s[Weak_s['cluster_id']>=0]\n",
    "    #number of clusters\n",
    "    #Num_C = (Image_Pts.sort('cluster_id', ascending = False))[0]['cluster_id']\n",
    "    \n",
    "    if (Image_Pts.sort('cluster_id', ascending = False))[0]['cluster_id'] == None:\n",
    "        return #gl.SFrame({'cluster_id':[0],'Num_points':[0],\n",
    "                #   'Clus_Vol':[0.0],\n",
    "                 #  'Clus_Dens':[0.0],'Treatment':[Treat], 'File':[filename],\n",
    "                  # 'Subject':[Subject],'% Tot Clus':[0],'Total Area':[0],\n",
    "                   #'Total Clustered':[0]})\n",
    "    else:\n",
    "        Num_C = int((Image_Pts.sort('cluster_id', ascending = False))[0]['cluster_id'])\n",
    "    \n",
    "    Image_Pts = Image_Pts[Image_Pts['cluster_id']>=0] #Removes all non-clustered points\n",
    "        \n",
    "    #Results = gl.Sframe({})\n",
    "    Area_t = 0\n",
    "    if filename.find('++') > 0:\n",
    "        Treat = 'Antagonist'\n",
    "        #Treat = 'CytD'\n",
    "    elif filename.find('+-')>0:\n",
    "        Treat = 'KCl'\n",
    "        #Treat = 'Nicotine'\n",
    "        #Treat = 'mbCD'\n",
    "        \n",
    "    else :\n",
    "        Treat = \"Control\"\n",
    "\n",
    "    if filename.find('E')>0:\n",
    "        Subject= 'Extension'\n",
    "    elif filename.find('V')>0:\n",
    "        Subject ='Varicosity' \n",
    "    else:\n",
    "        Subject ='Soma'\n",
    "        \n",
    "    Clus_Vol = gl.SArray(data=[])\n",
    "    \n",
    "    for c in range(0,Num_C+1):\n",
    "        cluster_mask = Image_Pts['cluster_id'] == c\n",
    "        x,y = Image_Pts['X'][cluster_mask],Image_Pts['Y'][cluster_mask]\n",
    "        P = zip(x,y)\n",
    "        shape_c = Edges(P)\n",
    "        shapex,shapey = zip(*shape_c)\n",
    "        plt.scatter(shapex,shapey,edgecolors ='red',s=5)\n",
    "        Area_c = Area(shape_c)\n",
    "        Area_t = Area_c + Area_t\n",
    "        qwe = gl.SArray(data=[Area_c])\n",
    "        Clus_Vol = Clus_Vol.append(qwe)\n",
    "        #print Area_c\n",
    "        #print c\n",
    "    \n",
    "\n",
    "    x,y = Weak_s['X'],Weak_s['Y']\n",
    "    P = zip(x,y)\n",
    "    if len(P) >= 1:\n",
    "        shape_V = Edges(P)\n",
    "        shapex,shapey = zip(*shape_V)\n",
    "        plt.scatter(shapex,shapey,s = 5, c ='orange')\n",
    "        Area_Var = Area(shape_V)\n",
    "    else:\n",
    "        Area_Var = 0\n",
    "    \n",
    "    \n",
    "    Total = Image_Pts.groupby(key_columns='cluster_id',operations={'Num_points':agg.COUNT('row_id')})\n",
    "    Total = Total.sort('cluster_id')\n",
    "    Total = Total.add_column(Clus_Vol,name ='Clus_Vol')\n",
    "    Total = Total.add_column(Total['Num_points']/Total['Clus_Vol'],name='Clus_Dens')\n",
    "    \n",
    "    Total['Treatment']=Treat\n",
    "    Total['Subject']=Subject\n",
    "    Total['% Tot Clus']= Area_t / Area_Var\n",
    "    Total['Total Area']= Area_Var\n",
    "    Total['Total Clustered']= Area_t\n",
    "    Total['File']=filename\n",
    "    plt.savefig(filename +'.png', bbox_inches='tight')\n",
    "    plt.close()\n",
    "    return Total\n",
    "    #print Area_Var\n",
    "    \n",
    "    #print Area_t/Area_Var\n",
    "    \n",
    "    #plt.show()\n",
    "\n",
    "\n"
   ]
  },
  {
   "cell_type": "code",
   "execution_count": null,
   "metadata": {
    "collapsed": false
   },
   "outputs": [],
   "source": []
  },
  {
   "cell_type": "code",
   "execution_count": 8,
   "metadata": {
    "collapsed": false
   },
   "outputs": [
    {
     "data": {
      "text/html": [
       "<pre>Finished parsing file C:\\Users\\jdr248\\160521 ++ V 003.txt</pre>"
      ],
      "text/plain": [
       "Finished parsing file C:\\Users\\jdr248\\160521 ++ V 003.txt"
      ]
     },
     "metadata": {},
     "output_type": "display_data"
    },
    {
     "data": {
      "text/html": [
       "<pre>Parsing completed. Parsed 100 lines in 0.032003 secs.</pre>"
      ],
      "text/plain": [
       "Parsing completed. Parsed 100 lines in 0.032003 secs."
      ]
     },
     "metadata": {},
     "output_type": "display_data"
    },
    {
     "name": "stdout",
     "output_type": "stream",
     "text": [
      "------------------------------------------------------\n",
      "Inferred types from first 100 line(s) of file as \n",
      "column_type_hints=[float,float,str,str,str,str,float,str,str,long,long,long,long,long,long]\n",
      "If parsing fails due to incorrect types, you can correct\n",
      "the inferred type list above and pass it to read_csv in\n",
      "the column_type_hints argument\n",
      "------------------------------------------------------\n"
     ]
    },
    {
     "data": {
      "text/html": [
       "<pre>Finished parsing file C:\\Users\\jdr248\\160521 ++ V 003.txt</pre>"
      ],
      "text/plain": [
       "Finished parsing file C:\\Users\\jdr248\\160521 ++ V 003.txt"
      ]
     },
     "metadata": {},
     "output_type": "display_data"
    },
    {
     "data": {
      "text/html": [
       "<pre>Parsing completed. Parsed 4749 lines in 0.039003 secs.</pre>"
      ],
      "text/plain": [
       "Parsing completed. Parsed 4749 lines in 0.039003 secs."
      ]
     },
     "metadata": {},
     "output_type": "display_data"
    },
    {
     "data": {
      "text/html": [
       "<pre>Starting brute force nearest neighbors model training.</pre>"
      ],
      "text/plain": [
       "Starting brute force nearest neighbors model training."
      ]
     },
     "metadata": {},
     "output_type": "display_data"
    },
    {
     "data": {
      "text/html": [
       "<pre>Starting blockwise similarity graph construction.</pre>"
      ],
      "text/plain": [
       "Starting blockwise similarity graph construction."
      ]
     },
     "metadata": {},
     "output_type": "display_data"
    },
    {
     "data": {
      "text/html": [
       "<pre>max rows per data block: 8190</pre>"
      ],
      "text/plain": [
       "max rows per data block: 8190"
      ]
     },
     "metadata": {},
     "output_type": "display_data"
    },
    {
     "data": {
      "text/html": [
       "<pre>number of reference data blocks: 4</pre>"
      ],
      "text/plain": [
       "number of reference data blocks: 4"
      ]
     },
     "metadata": {},
     "output_type": "display_data"
    },
    {
     "data": {
      "text/html": [
       "<pre>+---------+-------------+--------------+</pre>"
      ],
      "text/plain": [
       "+---------+-------------+--------------+"
      ]
     },
     "metadata": {},
     "output_type": "display_data"
    },
    {
     "data": {
      "text/html": [
       "<pre>| # Pairs | % Complete. | Elapsed Time |</pre>"
      ],
      "text/plain": [
       "| # Pairs | % Complete. | Elapsed Time |"
      ]
     },
     "metadata": {},
     "output_type": "display_data"
    },
    {
     "data": {
      "text/html": [
       "<pre>+---------+-------------+--------------+</pre>"
      ],
      "text/plain": [
       "+---------+-------------+--------------+"
      ]
     },
     "metadata": {},
     "output_type": "display_data"
    },
    {
     "data": {
      "text/html": [
       "<pre>| 4226907 | 29.9495     | 62.006ms     |</pre>"
      ],
      "text/plain": [
       "| 4226907 | 29.9495     | 62.006ms     |"
      ]
     },
     "metadata": {},
     "output_type": "display_data"
    },
    {
     "data": {
      "text/html": [
       "<pre>| 1e+007  | 100         | 243.022ms    |</pre>"
      ],
      "text/plain": [
       "| 1e+007  | 100         | 243.022ms    |"
      ]
     },
     "metadata": {},
     "output_type": "display_data"
    },
    {
     "data": {
      "text/html": [
       "<pre>+---------+-------------+--------------+</pre>"
      ],
      "text/plain": [
       "+---------+-------------+--------------+"
      ]
     },
     "metadata": {},
     "output_type": "display_data"
    },
    {
     "name": "stderr",
     "output_type": "stream",
     "text": [
      "[INFO] graphlab.toolkits.clustering.dbscan: Identifying noise points and core points.\n",
      "[INFO] graphlab.toolkits.clustering.dbscan: Constructing the core point similarity graph.\n"
     ]
    },
    {
     "data": {
      "text/html": [
       "<pre>+-----------------------------+</pre>"
      ],
      "text/plain": [
       "+-----------------------------+"
      ]
     },
     "metadata": {},
     "output_type": "display_data"
    },
    {
     "data": {
      "text/html": [
       "<pre>| Number of components merged |</pre>"
      ],
      "text/plain": [
       "| Number of components merged |"
      ]
     },
     "metadata": {},
     "output_type": "display_data"
    },
    {
     "data": {
      "text/html": [
       "<pre>+-----------------------------+</pre>"
      ],
      "text/plain": [
       "+-----------------------------+"
      ]
     },
     "metadata": {},
     "output_type": "display_data"
    },
    {
     "data": {
      "text/html": [
       "<pre>| 6300                        |</pre>"
      ],
      "text/plain": [
       "| 6300                        |"
      ]
     },
     "metadata": {},
     "output_type": "display_data"
    },
    {
     "data": {
      "text/html": [
       "<pre>| 0                           |</pre>"
      ],
      "text/plain": [
       "| 0                           |"
      ]
     },
     "metadata": {},
     "output_type": "display_data"
    },
    {
     "data": {
      "text/html": [
       "<pre>+-----------------------------+</pre>"
      ],
      "text/plain": [
       "+-----------------------------+"
      ]
     },
     "metadata": {},
     "output_type": "display_data"
    },
    {
     "name": "stderr",
     "output_type": "stream",
     "text": [
      "[INFO] graphlab.toolkits.clustering.dbscan: Processing boundary points.\n"
     ]
    },
    {
     "data": {
      "text/html": [
       "<pre>Starting brute force nearest neighbors model training.</pre>"
      ],
      "text/plain": [
       "Starting brute force nearest neighbors model training."
      ]
     },
     "metadata": {},
     "output_type": "display_data"
    },
    {
     "data": {
      "text/html": [
       "<pre>Starting blockwise similarity graph construction.</pre>"
      ],
      "text/plain": [
       "Starting blockwise similarity graph construction."
      ]
     },
     "metadata": {},
     "output_type": "display_data"
    },
    {
     "data": {
      "text/html": [
       "<pre>max rows per data block: 8190</pre>"
      ],
      "text/plain": [
       "max rows per data block: 8190"
      ]
     },
     "metadata": {},
     "output_type": "display_data"
    },
    {
     "data": {
      "text/html": [
       "<pre>number of reference data blocks: 4</pre>"
      ],
      "text/plain": [
       "number of reference data blocks: 4"
      ]
     },
     "metadata": {},
     "output_type": "display_data"
    },
    {
     "data": {
      "text/html": [
       "<pre>+---------+-------------+--------------+</pre>"
      ],
      "text/plain": [
       "+---------+-------------+--------------+"
      ]
     },
     "metadata": {},
     "output_type": "display_data"
    },
    {
     "data": {
      "text/html": [
       "<pre>| # Pairs | % Complete. | Elapsed Time |</pre>"
      ],
      "text/plain": [
       "| # Pairs | % Complete. | Elapsed Time |"
      ]
     },
     "metadata": {},
     "output_type": "display_data"
    },
    {
     "data": {
      "text/html": [
       "<pre>+---------+-------------+--------------+</pre>"
      ],
      "text/plain": [
       "+---------+-------------+--------------+"
      ]
     },
     "metadata": {},
     "output_type": "display_data"
    },
    {
     "data": {
      "text/html": [
       "<pre>| 4226907 | 29.9495     | 69.006ms     |</pre>"
      ],
      "text/plain": [
       "| 4226907 | 29.9495     | 69.006ms     |"
      ]
     },
     "metadata": {},
     "output_type": "display_data"
    },
    {
     "data": {
      "text/html": [
       "<pre>| 1e+007  | 100         | 214.019ms    |</pre>"
      ],
      "text/plain": [
       "| 1e+007  | 100         | 214.019ms    |"
      ]
     },
     "metadata": {},
     "output_type": "display_data"
    },
    {
     "data": {
      "text/html": [
       "<pre>+---------+-------------+--------------+</pre>"
      ],
      "text/plain": [
       "+---------+-------------+--------------+"
      ]
     },
     "metadata": {},
     "output_type": "display_data"
    },
    {
     "name": "stderr",
     "output_type": "stream",
     "text": [
      "[INFO] graphlab.toolkits.clustering.dbscan: Identifying noise points and core points.\n",
      "[INFO] graphlab.toolkits.clustering.dbscan: Constructing the core point similarity graph.\n"
     ]
    },
    {
     "data": {
      "text/html": [
       "<pre>+-----------------------------+</pre>"
      ],
      "text/plain": [
       "+-----------------------------+"
      ]
     },
     "metadata": {},
     "output_type": "display_data"
    },
    {
     "data": {
      "text/html": [
       "<pre>| Number of components merged |</pre>"
      ],
      "text/plain": [
       "| Number of components merged |"
      ]
     },
     "metadata": {},
     "output_type": "display_data"
    },
    {
     "data": {
      "text/html": [
       "<pre>+-----------------------------+</pre>"
      ],
      "text/plain": [
       "+-----------------------------+"
      ]
     },
     "metadata": {},
     "output_type": "display_data"
    },
    {
     "data": {
      "text/html": [
       "<pre>| 13331                       |</pre>"
      ],
      "text/plain": [
       "| 13331                       |"
      ]
     },
     "metadata": {},
     "output_type": "display_data"
    },
    {
     "data": {
      "text/html": [
       "<pre>| 0                           |</pre>"
      ],
      "text/plain": [
       "| 0                           |"
      ]
     },
     "metadata": {},
     "output_type": "display_data"
    },
    {
     "data": {
      "text/html": [
       "<pre>+-----------------------------+</pre>"
      ],
      "text/plain": [
       "+-----------------------------+"
      ]
     },
     "metadata": {},
     "output_type": "display_data"
    },
    {
     "name": "stderr",
     "output_type": "stream",
     "text": [
      "[INFO] graphlab.toolkits.clustering.dbscan: Processing boundary points.\n"
     ]
    },
    {
     "data": {
      "text/html": [
       "<pre>Finished parsing file C:\\Users\\jdr248\\160521 ++ V 004.txt</pre>"
      ],
      "text/plain": [
       "Finished parsing file C:\\Users\\jdr248\\160521 ++ V 004.txt"
      ]
     },
     "metadata": {},
     "output_type": "display_data"
    },
    {
     "data": {
      "text/html": [
       "<pre>Parsing completed. Parsed 100 lines in 0.020002 secs.</pre>"
      ],
      "text/plain": [
       "Parsing completed. Parsed 100 lines in 0.020002 secs."
      ]
     },
     "metadata": {},
     "output_type": "display_data"
    },
    {
     "name": "stdout",
     "output_type": "stream",
     "text": [
      "------------------------------------------------------\n",
      "Inferred types from first 100 line(s) of file as \n",
      "column_type_hints=[float,float,str,str,str,str,float,str,str,long,long,long,long,long,long]\n",
      "If parsing fails due to incorrect types, you can correct\n",
      "the inferred type list above and pass it to read_csv in\n",
      "the column_type_hints argument\n",
      "------------------------------------------------------\n"
     ]
    },
    {
     "data": {
      "text/html": [
       "<pre>Finished parsing file C:\\Users\\jdr248\\160521 ++ V 004.txt</pre>"
      ],
      "text/plain": [
       "Finished parsing file C:\\Users\\jdr248\\160521 ++ V 004.txt"
      ]
     },
     "metadata": {},
     "output_type": "display_data"
    },
    {
     "data": {
      "text/html": [
       "<pre>Parsing completed. Parsed 6069 lines in 0.039003 secs.</pre>"
      ],
      "text/plain": [
       "Parsing completed. Parsed 6069 lines in 0.039003 secs."
      ]
     },
     "metadata": {},
     "output_type": "display_data"
    },
    {
     "data": {
      "text/html": [
       "<pre>Starting brute force nearest neighbors model training.</pre>"
      ],
      "text/plain": [
       "Starting brute force nearest neighbors model training."
      ]
     },
     "metadata": {},
     "output_type": "display_data"
    },
    {
     "data": {
      "text/html": [
       "<pre>Starting blockwise similarity graph construction.</pre>"
      ],
      "text/plain": [
       "Starting blockwise similarity graph construction."
      ]
     },
     "metadata": {},
     "output_type": "display_data"
    },
    {
     "data": {
      "text/html": [
       "<pre>max rows per data block: 8190</pre>"
      ],
      "text/plain": [
       "max rows per data block: 8190"
      ]
     },
     "metadata": {},
     "output_type": "display_data"
    },
    {
     "data": {
      "text/html": [
       "<pre>number of reference data blocks: 4</pre>"
      ],
      "text/plain": [
       "number of reference data blocks: 4"
      ]
     },
     "metadata": {},
     "output_type": "display_data"
    },
    {
     "data": {
      "text/html": [
       "<pre>+---------+-------------+--------------+</pre>"
      ],
      "text/plain": [
       "+---------+-------------+--------------+"
      ]
     },
     "metadata": {},
     "output_type": "display_data"
    },
    {
     "data": {
      "text/html": [
       "<pre>| # Pairs | % Complete. | Elapsed Time |</pre>"
      ],
      "text/plain": [
       "| # Pairs | % Complete. | Elapsed Time |"
      ]
     },
     "metadata": {},
     "output_type": "display_data"
    },
    {
     "data": {
      "text/html": [
       "<pre>+---------+-------------+--------------+</pre>"
      ],
      "text/plain": [
       "+---------+-------------+--------------+"
      ]
     },
     "metadata": {},
     "output_type": "display_data"
    },
    {
     "data": {
      "text/html": [
       "<pre>| 6903867 | 29.9605     | 88.009ms     |</pre>"
      ],
      "text/plain": [
       "| 6903867 | 29.9605     | 88.009ms     |"
      ]
     },
     "metadata": {},
     "output_type": "display_data"
    },
    {
     "data": {
      "text/html": [
       "<pre>| 2e+007  | 100         | 329.029ms    |</pre>"
      ],
      "text/plain": [
       "| 2e+007  | 100         | 329.029ms    |"
      ]
     },
     "metadata": {},
     "output_type": "display_data"
    },
    {
     "data": {
      "text/html": [
       "<pre>+---------+-------------+--------------+</pre>"
      ],
      "text/plain": [
       "+---------+-------------+--------------+"
      ]
     },
     "metadata": {},
     "output_type": "display_data"
    },
    {
     "name": "stderr",
     "output_type": "stream",
     "text": [
      "[INFO] graphlab.toolkits.clustering.dbscan: Identifying noise points and core points.\n",
      "[INFO] graphlab.toolkits.clustering.dbscan: Constructing the core point similarity graph.\n"
     ]
    },
    {
     "data": {
      "text/html": [
       "<pre>+-----------------------------+</pre>"
      ],
      "text/plain": [
       "+-----------------------------+"
      ]
     },
     "metadata": {},
     "output_type": "display_data"
    },
    {
     "data": {
      "text/html": [
       "<pre>| Number of components merged |</pre>"
      ],
      "text/plain": [
       "| Number of components merged |"
      ]
     },
     "metadata": {},
     "output_type": "display_data"
    },
    {
     "data": {
      "text/html": [
       "<pre>+-----------------------------+</pre>"
      ],
      "text/plain": [
       "+-----------------------------+"
      ]
     },
     "metadata": {},
     "output_type": "display_data"
    },
    {
     "data": {
      "text/html": [
       "<pre>| 7491                        |</pre>"
      ],
      "text/plain": [
       "| 7491                        |"
      ]
     },
     "metadata": {},
     "output_type": "display_data"
    },
    {
     "data": {
      "text/html": [
       "<pre>| 0                           |</pre>"
      ],
      "text/plain": [
       "| 0                           |"
      ]
     },
     "metadata": {},
     "output_type": "display_data"
    },
    {
     "data": {
      "text/html": [
       "<pre>+-----------------------------+</pre>"
      ],
      "text/plain": [
       "+-----------------------------+"
      ]
     },
     "metadata": {},
     "output_type": "display_data"
    },
    {
     "name": "stderr",
     "output_type": "stream",
     "text": [
      "[INFO] graphlab.toolkits.clustering.dbscan: Processing boundary points.\n"
     ]
    },
    {
     "data": {
      "text/html": [
       "<pre>Starting brute force nearest neighbors model training.</pre>"
      ],
      "text/plain": [
       "Starting brute force nearest neighbors model training."
      ]
     },
     "metadata": {},
     "output_type": "display_data"
    },
    {
     "data": {
      "text/html": [
       "<pre>Starting blockwise similarity graph construction.</pre>"
      ],
      "text/plain": [
       "Starting blockwise similarity graph construction."
      ]
     },
     "metadata": {},
     "output_type": "display_data"
    },
    {
     "data": {
      "text/html": [
       "<pre>max rows per data block: 8190</pre>"
      ],
      "text/plain": [
       "max rows per data block: 8190"
      ]
     },
     "metadata": {},
     "output_type": "display_data"
    },
    {
     "data": {
      "text/html": [
       "<pre>number of reference data blocks: 4</pre>"
      ],
      "text/plain": [
       "number of reference data blocks: 4"
      ]
     },
     "metadata": {},
     "output_type": "display_data"
    },
    {
     "data": {
      "text/html": [
       "<pre>+---------+-------------+--------------+</pre>"
      ],
      "text/plain": [
       "+---------+-------------+--------------+"
      ]
     },
     "metadata": {},
     "output_type": "display_data"
    },
    {
     "data": {
      "text/html": [
       "<pre>| # Pairs | % Complete. | Elapsed Time |</pre>"
      ],
      "text/plain": [
       "| # Pairs | % Complete. | Elapsed Time |"
      ]
     },
     "metadata": {},
     "output_type": "display_data"
    },
    {
     "data": {
      "text/html": [
       "<pre>+---------+-------------+--------------+</pre>"
      ],
      "text/plain": [
       "+---------+-------------+--------------+"
      ]
     },
     "metadata": {},
     "output_type": "display_data"
    },
    {
     "data": {
      "text/html": [
       "<pre>| 6903867 | 29.9605     | 64.007ms     |</pre>"
      ],
      "text/plain": [
       "| 6903867 | 29.9605     | 64.007ms     |"
      ]
     },
     "metadata": {},
     "output_type": "display_data"
    },
    {
     "data": {
      "text/html": [
       "<pre>| 2e+007  | 100         | 304.026ms    |</pre>"
      ],
      "text/plain": [
       "| 2e+007  | 100         | 304.026ms    |"
      ]
     },
     "metadata": {},
     "output_type": "display_data"
    },
    {
     "data": {
      "text/html": [
       "<pre>+---------+-------------+--------------+</pre>"
      ],
      "text/plain": [
       "+---------+-------------+--------------+"
      ]
     },
     "metadata": {},
     "output_type": "display_data"
    },
    {
     "name": "stderr",
     "output_type": "stream",
     "text": [
      "[INFO] graphlab.toolkits.clustering.dbscan: Identifying noise points and core points.\n",
      "[INFO] graphlab.toolkits.clustering.dbscan: Constructing the core point similarity graph.\n"
     ]
    },
    {
     "data": {
      "text/html": [
       "<pre>+-----------------------------+</pre>"
      ],
      "text/plain": [
       "+-----------------------------+"
      ]
     },
     "metadata": {},
     "output_type": "display_data"
    },
    {
     "data": {
      "text/html": [
       "<pre>| Number of components merged |</pre>"
      ],
      "text/plain": [
       "| Number of components merged |"
      ]
     },
     "metadata": {},
     "output_type": "display_data"
    },
    {
     "data": {
      "text/html": [
       "<pre>+-----------------------------+</pre>"
      ],
      "text/plain": [
       "+-----------------------------+"
      ]
     },
     "metadata": {},
     "output_type": "display_data"
    },
    {
     "data": {
      "text/html": [
       "<pre>| 17273                       |</pre>"
      ],
      "text/plain": [
       "| 17273                       |"
      ]
     },
     "metadata": {},
     "output_type": "display_data"
    },
    {
     "data": {
      "text/html": [
       "<pre>| 0                           |</pre>"
      ],
      "text/plain": [
       "| 0                           |"
      ]
     },
     "metadata": {},
     "output_type": "display_data"
    },
    {
     "data": {
      "text/html": [
       "<pre>+-----------------------------+</pre>"
      ],
      "text/plain": [
       "+-----------------------------+"
      ]
     },
     "metadata": {},
     "output_type": "display_data"
    },
    {
     "name": "stderr",
     "output_type": "stream",
     "text": [
      "[INFO] graphlab.toolkits.clustering.dbscan: Processing boundary points.\n"
     ]
    },
    {
     "data": {
      "text/html": [
       "<pre>Finished parsing file C:\\Users\\jdr248\\160521 ++ V 005.txt</pre>"
      ],
      "text/plain": [
       "Finished parsing file C:\\Users\\jdr248\\160521 ++ V 005.txt"
      ]
     },
     "metadata": {},
     "output_type": "display_data"
    },
    {
     "data": {
      "text/html": [
       "<pre>Parsing completed. Parsed 100 lines in 0.030002 secs.</pre>"
      ],
      "text/plain": [
       "Parsing completed. Parsed 100 lines in 0.030002 secs."
      ]
     },
     "metadata": {},
     "output_type": "display_data"
    },
    {
     "name": "stdout",
     "output_type": "stream",
     "text": [
      "------------------------------------------------------\n",
      "Inferred types from first 100 line(s) of file as \n",
      "column_type_hints=[float,float,str,str,str,str,float,str,str,long,long,long,long,long,long]\n",
      "If parsing fails due to incorrect types, you can correct\n",
      "the inferred type list above and pass it to read_csv in\n",
      "the column_type_hints argument\n",
      "------------------------------------------------------\n"
     ]
    },
    {
     "data": {
      "text/html": [
       "<pre>Finished parsing file C:\\Users\\jdr248\\160521 ++ V 005.txt</pre>"
      ],
      "text/plain": [
       "Finished parsing file C:\\Users\\jdr248\\160521 ++ V 005.txt"
      ]
     },
     "metadata": {},
     "output_type": "display_data"
    },
    {
     "data": {
      "text/html": [
       "<pre>Parsing completed. Parsed 7569 lines in 0.034003 secs.</pre>"
      ],
      "text/plain": [
       "Parsing completed. Parsed 7569 lines in 0.034003 secs."
      ]
     },
     "metadata": {},
     "output_type": "display_data"
    },
    {
     "data": {
      "text/html": [
       "<pre>Starting brute force nearest neighbors model training.</pre>"
      ],
      "text/plain": [
       "Starting brute force nearest neighbors model training."
      ]
     },
     "metadata": {},
     "output_type": "display_data"
    },
    {
     "data": {
      "text/html": [
       "<pre>Starting blockwise similarity graph construction.</pre>"
      ],
      "text/plain": [
       "Starting blockwise similarity graph construction."
      ]
     },
     "metadata": {},
     "output_type": "display_data"
    },
    {
     "data": {
      "text/html": [
       "<pre>max rows per data block: 8190</pre>"
      ],
      "text/plain": [
       "max rows per data block: 8190"
      ]
     },
     "metadata": {},
     "output_type": "display_data"
    },
    {
     "data": {
      "text/html": [
       "<pre>number of reference data blocks: 4</pre>"
      ],
      "text/plain": [
       "number of reference data blocks: 4"
      ]
     },
     "metadata": {},
     "output_type": "display_data"
    },
    {
     "data": {
      "text/html": [
       "<pre>+---------+-------------+--------------+</pre>"
      ],
      "text/plain": [
       "+---------+-------------+--------------+"
      ]
     },
     "metadata": {},
     "output_type": "display_data"
    },
    {
     "data": {
      "text/html": [
       "<pre>| # Pairs | % Complete. | Elapsed Time |</pre>"
      ],
      "text/plain": [
       "| # Pairs | % Complete. | Elapsed Time |"
      ]
     },
     "metadata": {},
     "output_type": "display_data"
    },
    {
     "data": {
      "text/html": [
       "<pre>+---------+-------------+--------------+</pre>"
      ],
      "text/plain": [
       "+---------+-------------+--------------+"
      ]
     },
     "metadata": {},
     "output_type": "display_data"
    },
    {
     "data": {
      "text/html": [
       "<pre>| 1e+007  | 29.9683     | 121.012ms    |</pre>"
      ],
      "text/plain": [
       "| 1e+007  | 29.9683     | 121.012ms    |"
      ]
     },
     "metadata": {},
     "output_type": "display_data"
    },
    {
     "data": {
      "text/html": [
       "<pre>| 4e+007  | 100         | 469.042ms    |</pre>"
      ],
      "text/plain": [
       "| 4e+007  | 100         | 469.042ms    |"
      ]
     },
     "metadata": {},
     "output_type": "display_data"
    },
    {
     "data": {
      "text/html": [
       "<pre>+---------+-------------+--------------+</pre>"
      ],
      "text/plain": [
       "+---------+-------------+--------------+"
      ]
     },
     "metadata": {},
     "output_type": "display_data"
    },
    {
     "name": "stderr",
     "output_type": "stream",
     "text": [
      "[INFO] graphlab.toolkits.clustering.dbscan: Identifying noise points and core points.\n",
      "[INFO] graphlab.toolkits.clustering.dbscan: Constructing the core point similarity graph.\n"
     ]
    },
    {
     "data": {
      "text/html": [
       "<pre>+-----------------------------+</pre>"
      ],
      "text/plain": [
       "+-----------------------------+"
      ]
     },
     "metadata": {},
     "output_type": "display_data"
    },
    {
     "data": {
      "text/html": [
       "<pre>| Number of components merged |</pre>"
      ],
      "text/plain": [
       "| Number of components merged |"
      ]
     },
     "metadata": {},
     "output_type": "display_data"
    },
    {
     "data": {
      "text/html": [
       "<pre>+-----------------------------+</pre>"
      ],
      "text/plain": [
       "+-----------------------------+"
      ]
     },
     "metadata": {},
     "output_type": "display_data"
    },
    {
     "data": {
      "text/html": [
       "<pre>| 8585                        |</pre>"
      ],
      "text/plain": [
       "| 8585                        |"
      ]
     },
     "metadata": {},
     "output_type": "display_data"
    },
    {
     "data": {
      "text/html": [
       "<pre>| 0                           |</pre>"
      ],
      "text/plain": [
       "| 0                           |"
      ]
     },
     "metadata": {},
     "output_type": "display_data"
    },
    {
     "data": {
      "text/html": [
       "<pre>+-----------------------------+</pre>"
      ],
      "text/plain": [
       "+-----------------------------+"
      ]
     },
     "metadata": {},
     "output_type": "display_data"
    },
    {
     "name": "stderr",
     "output_type": "stream",
     "text": [
      "[INFO] graphlab.toolkits.clustering.dbscan: Processing boundary points.\n"
     ]
    },
    {
     "data": {
      "text/html": [
       "<pre>Starting brute force nearest neighbors model training.</pre>"
      ],
      "text/plain": [
       "Starting brute force nearest neighbors model training."
      ]
     },
     "metadata": {},
     "output_type": "display_data"
    },
    {
     "data": {
      "text/html": [
       "<pre>Starting blockwise similarity graph construction.</pre>"
      ],
      "text/plain": [
       "Starting blockwise similarity graph construction."
      ]
     },
     "metadata": {},
     "output_type": "display_data"
    },
    {
     "data": {
      "text/html": [
       "<pre>max rows per data block: 8190</pre>"
      ],
      "text/plain": [
       "max rows per data block: 8190"
      ]
     },
     "metadata": {},
     "output_type": "display_data"
    },
    {
     "data": {
      "text/html": [
       "<pre>number of reference data blocks: 4</pre>"
      ],
      "text/plain": [
       "number of reference data blocks: 4"
      ]
     },
     "metadata": {},
     "output_type": "display_data"
    },
    {
     "data": {
      "text/html": [
       "<pre>+---------+-------------+--------------+</pre>"
      ],
      "text/plain": [
       "+---------+-------------+--------------+"
      ]
     },
     "metadata": {},
     "output_type": "display_data"
    },
    {
     "data": {
      "text/html": [
       "<pre>| # Pairs | % Complete. | Elapsed Time |</pre>"
      ],
      "text/plain": [
       "| # Pairs | % Complete. | Elapsed Time |"
      ]
     },
     "metadata": {},
     "output_type": "display_data"
    },
    {
     "data": {
      "text/html": [
       "<pre>+---------+-------------+--------------+</pre>"
      ],
      "text/plain": [
       "+---------+-------------+--------------+"
      ]
     },
     "metadata": {},
     "output_type": "display_data"
    },
    {
     "data": {
      "text/html": [
       "<pre>| 1e+007  | 29.9683     | 108.009ms    |</pre>"
      ],
      "text/plain": [
       "| 1e+007  | 29.9683     | 108.009ms    |"
      ]
     },
     "metadata": {},
     "output_type": "display_data"
    },
    {
     "data": {
      "text/html": [
       "<pre>| 4e+007  | 100         | 479.039ms    |</pre>"
      ],
      "text/plain": [
       "| 4e+007  | 100         | 479.039ms    |"
      ]
     },
     "metadata": {},
     "output_type": "display_data"
    },
    {
     "data": {
      "text/html": [
       "<pre>+---------+-------------+--------------+</pre>"
      ],
      "text/plain": [
       "+---------+-------------+--------------+"
      ]
     },
     "metadata": {},
     "output_type": "display_data"
    },
    {
     "name": "stderr",
     "output_type": "stream",
     "text": [
      "[INFO] graphlab.toolkits.clustering.dbscan: Identifying noise points and core points.\n",
      "[INFO] graphlab.toolkits.clustering.dbscan: Constructing the core point similarity graph.\n"
     ]
    },
    {
     "data": {
      "text/html": [
       "<pre>+-----------------------------+</pre>"
      ],
      "text/plain": [
       "+-----------------------------+"
      ]
     },
     "metadata": {},
     "output_type": "display_data"
    },
    {
     "data": {
      "text/html": [
       "<pre>| Number of components merged |</pre>"
      ],
      "text/plain": [
       "| Number of components merged |"
      ]
     },
     "metadata": {},
     "output_type": "display_data"
    },
    {
     "data": {
      "text/html": [
       "<pre>+-----------------------------+</pre>"
      ],
      "text/plain": [
       "+-----------------------------+"
      ]
     },
     "metadata": {},
     "output_type": "display_data"
    },
    {
     "data": {
      "text/html": [
       "<pre>| 20071                       |</pre>"
      ],
      "text/plain": [
       "| 20071                       |"
      ]
     },
     "metadata": {},
     "output_type": "display_data"
    },
    {
     "data": {
      "text/html": [
       "<pre>| 0                           |</pre>"
      ],
      "text/plain": [
       "| 0                           |"
      ]
     },
     "metadata": {},
     "output_type": "display_data"
    },
    {
     "data": {
      "text/html": [
       "<pre>+-----------------------------+</pre>"
      ],
      "text/plain": [
       "+-----------------------------+"
      ]
     },
     "metadata": {},
     "output_type": "display_data"
    },
    {
     "name": "stderr",
     "output_type": "stream",
     "text": [
      "[INFO] graphlab.toolkits.clustering.dbscan: Processing boundary points.\n"
     ]
    },
    {
     "data": {
      "text/html": [
       "<pre>Finished parsing file C:\\Users\\jdr248\\160521 ++ V 006.txt</pre>"
      ],
      "text/plain": [
       "Finished parsing file C:\\Users\\jdr248\\160521 ++ V 006.txt"
      ]
     },
     "metadata": {},
     "output_type": "display_data"
    },
    {
     "data": {
      "text/html": [
       "<pre>Parsing completed. Parsed 100 lines in 0.030001 secs.</pre>"
      ],
      "text/plain": [
       "Parsing completed. Parsed 100 lines in 0.030001 secs."
      ]
     },
     "metadata": {},
     "output_type": "display_data"
    },
    {
     "name": "stdout",
     "output_type": "stream",
     "text": [
      "------------------------------------------------------\n",
      "Inferred types from first 100 line(s) of file as \n",
      "column_type_hints=[float,float,str,str,str,str,float,str,str,long,long,long,long,long,long]\n",
      "If parsing fails due to incorrect types, you can correct\n",
      "the inferred type list above and pass it to read_csv in\n",
      "the column_type_hints argument\n",
      "------------------------------------------------------\n"
     ]
    },
    {
     "data": {
      "text/html": [
       "<pre>Finished parsing file C:\\Users\\jdr248\\160521 ++ V 006.txt</pre>"
      ],
      "text/plain": [
       "Finished parsing file C:\\Users\\jdr248\\160521 ++ V 006.txt"
      ]
     },
     "metadata": {},
     "output_type": "display_data"
    },
    {
     "data": {
      "text/html": [
       "<pre>Parsing completed. Parsed 9754 lines in 0.039003 secs.</pre>"
      ],
      "text/plain": [
       "Parsing completed. Parsed 9754 lines in 0.039003 secs."
      ]
     },
     "metadata": {},
     "output_type": "display_data"
    },
    {
     "data": {
      "text/html": [
       "<pre>Starting brute force nearest neighbors model training.</pre>"
      ],
      "text/plain": [
       "Starting brute force nearest neighbors model training."
      ]
     },
     "metadata": {},
     "output_type": "display_data"
    },
    {
     "data": {
      "text/html": [
       "<pre>Starting blockwise similarity graph construction.</pre>"
      ],
      "text/plain": [
       "Starting blockwise similarity graph construction."
      ]
     },
     "metadata": {},
     "output_type": "display_data"
    },
    {
     "data": {
      "text/html": [
       "<pre>max rows per data block: 8190</pre>"
      ],
      "text/plain": [
       "max rows per data block: 8190"
      ]
     },
     "metadata": {},
     "output_type": "display_data"
    },
    {
     "data": {
      "text/html": [
       "<pre>number of reference data blocks: 4</pre>"
      ],
      "text/plain": [
       "number of reference data blocks: 4"
      ]
     },
     "metadata": {},
     "output_type": "display_data"
    },
    {
     "data": {
      "text/html": [
       "<pre>+---------+-------------+--------------+</pre>"
      ],
      "text/plain": [
       "+---------+-------------+--------------+"
      ]
     },
     "metadata": {},
     "output_type": "display_data"
    },
    {
     "data": {
      "text/html": [
       "<pre>| # Pairs | % Complete. | Elapsed Time |</pre>"
      ],
      "text/plain": [
       "| # Pairs | % Complete. | Elapsed Time |"
      ]
     },
     "metadata": {},
     "output_type": "display_data"
    },
    {
     "data": {
      "text/html": [
       "<pre>+---------+-------------+--------------+</pre>"
      ],
      "text/plain": [
       "+---------+-------------+--------------+"
      ]
     },
     "metadata": {},
     "output_type": "display_data"
    },
    {
     "data": {
      "text/html": [
       "<pre>| 2e+007  | 29.9795     | 211.019ms    |</pre>"
      ],
      "text/plain": [
       "| 2e+007  | 29.9795     | 211.019ms    |"
      ]
     },
     "metadata": {},
     "output_type": "display_data"
    },
    {
     "data": {
      "text/html": [
       "<pre>| 6e+007  | 100         | 824.07ms     |</pre>"
      ],
      "text/plain": [
       "| 6e+007  | 100         | 824.07ms     |"
      ]
     },
     "metadata": {},
     "output_type": "display_data"
    },
    {
     "data": {
      "text/html": [
       "<pre>+---------+-------------+--------------+</pre>"
      ],
      "text/plain": [
       "+---------+-------------+--------------+"
      ]
     },
     "metadata": {},
     "output_type": "display_data"
    },
    {
     "name": "stderr",
     "output_type": "stream",
     "text": [
      "[INFO] graphlab.toolkits.clustering.dbscan: Identifying noise points and core points.\n",
      "[INFO] graphlab.toolkits.clustering.dbscan: Constructing the core point similarity graph.\n"
     ]
    },
    {
     "data": {
      "text/html": [
       "<pre>+-----------------------------+</pre>"
      ],
      "text/plain": [
       "+-----------------------------+"
      ]
     },
     "metadata": {},
     "output_type": "display_data"
    },
    {
     "data": {
      "text/html": [
       "<pre>| Number of components merged |</pre>"
      ],
      "text/plain": [
       "| Number of components merged |"
      ]
     },
     "metadata": {},
     "output_type": "display_data"
    },
    {
     "data": {
      "text/html": [
       "<pre>+-----------------------------+</pre>"
      ],
      "text/plain": [
       "+-----------------------------+"
      ]
     },
     "metadata": {},
     "output_type": "display_data"
    },
    {
     "data": {
      "text/html": [
       "<pre>| 8270                        |</pre>"
      ],
      "text/plain": [
       "| 8270                        |"
      ]
     },
     "metadata": {},
     "output_type": "display_data"
    },
    {
     "data": {
      "text/html": [
       "<pre>| 0                           |</pre>"
      ],
      "text/plain": [
       "| 0                           |"
      ]
     },
     "metadata": {},
     "output_type": "display_data"
    },
    {
     "data": {
      "text/html": [
       "<pre>+-----------------------------+</pre>"
      ],
      "text/plain": [
       "+-----------------------------+"
      ]
     },
     "metadata": {},
     "output_type": "display_data"
    },
    {
     "name": "stderr",
     "output_type": "stream",
     "text": [
      "[INFO] graphlab.toolkits.clustering.dbscan: Processing boundary points.\n"
     ]
    },
    {
     "data": {
      "text/html": [
       "<pre>Starting brute force nearest neighbors model training.</pre>"
      ],
      "text/plain": [
       "Starting brute force nearest neighbors model training."
      ]
     },
     "metadata": {},
     "output_type": "display_data"
    },
    {
     "data": {
      "text/html": [
       "<pre>Starting blockwise similarity graph construction.</pre>"
      ],
      "text/plain": [
       "Starting blockwise similarity graph construction."
      ]
     },
     "metadata": {},
     "output_type": "display_data"
    },
    {
     "data": {
      "text/html": [
       "<pre>max rows per data block: 8190</pre>"
      ],
      "text/plain": [
       "max rows per data block: 8190"
      ]
     },
     "metadata": {},
     "output_type": "display_data"
    },
    {
     "data": {
      "text/html": [
       "<pre>number of reference data blocks: 4</pre>"
      ],
      "text/plain": [
       "number of reference data blocks: 4"
      ]
     },
     "metadata": {},
     "output_type": "display_data"
    },
    {
     "data": {
      "text/html": [
       "<pre>+---------+-------------+--------------+</pre>"
      ],
      "text/plain": [
       "+---------+-------------+--------------+"
      ]
     },
     "metadata": {},
     "output_type": "display_data"
    },
    {
     "data": {
      "text/html": [
       "<pre>| # Pairs | % Complete. | Elapsed Time |</pre>"
      ],
      "text/plain": [
       "| # Pairs | % Complete. | Elapsed Time |"
      ]
     },
     "metadata": {},
     "output_type": "display_data"
    },
    {
     "data": {
      "text/html": [
       "<pre>+---------+-------------+--------------+</pre>"
      ],
      "text/plain": [
       "+---------+-------------+--------------+"
      ]
     },
     "metadata": {},
     "output_type": "display_data"
    },
    {
     "data": {
      "text/html": [
       "<pre>| 2e+007  | 29.9795     | 201.018ms    |</pre>"
      ],
      "text/plain": [
       "| 2e+007  | 29.9795     | 201.018ms    |"
      ]
     },
     "metadata": {},
     "output_type": "display_data"
    },
    {
     "data": {
      "text/html": [
       "<pre>| 6e+007  | 100         | 872.072ms    |</pre>"
      ],
      "text/plain": [
       "| 6e+007  | 100         | 872.072ms    |"
      ]
     },
     "metadata": {},
     "output_type": "display_data"
    },
    {
     "data": {
      "text/html": [
       "<pre>+---------+-------------+--------------+</pre>"
      ],
      "text/plain": [
       "+---------+-------------+--------------+"
      ]
     },
     "metadata": {},
     "output_type": "display_data"
    },
    {
     "name": "stderr",
     "output_type": "stream",
     "text": [
      "[INFO] graphlab.toolkits.clustering.dbscan: Identifying noise points and core points.\n",
      "[INFO] graphlab.toolkits.clustering.dbscan: Constructing the core point similarity graph.\n"
     ]
    },
    {
     "data": {
      "text/html": [
       "<pre>+-----------------------------+</pre>"
      ],
      "text/plain": [
       "+-----------------------------+"
      ]
     },
     "metadata": {},
     "output_type": "display_data"
    },
    {
     "data": {
      "text/html": [
       "<pre>| Number of components merged |</pre>"
      ],
      "text/plain": [
       "| Number of components merged |"
      ]
     },
     "metadata": {},
     "output_type": "display_data"
    },
    {
     "data": {
      "text/html": [
       "<pre>+-----------------------------+</pre>"
      ],
      "text/plain": [
       "+-----------------------------+"
      ]
     },
     "metadata": {},
     "output_type": "display_data"
    },
    {
     "data": {
      "text/html": [
       "<pre>| 23300                       |</pre>"
      ],
      "text/plain": [
       "| 23300                       |"
      ]
     },
     "metadata": {},
     "output_type": "display_data"
    },
    {
     "data": {
      "text/html": [
       "<pre>| 0                           |</pre>"
      ],
      "text/plain": [
       "| 0                           |"
      ]
     },
     "metadata": {},
     "output_type": "display_data"
    },
    {
     "data": {
      "text/html": [
       "<pre>+-----------------------------+</pre>"
      ],
      "text/plain": [
       "+-----------------------------+"
      ]
     },
     "metadata": {},
     "output_type": "display_data"
    },
    {
     "name": "stderr",
     "output_type": "stream",
     "text": [
      "[INFO] graphlab.toolkits.clustering.dbscan: Processing boundary points.\n"
     ]
    },
    {
     "data": {
      "text/html": [
       "<pre>Finished parsing file C:\\Users\\jdr248\\160521 ++ V 007.txt</pre>"
      ],
      "text/plain": [
       "Finished parsing file C:\\Users\\jdr248\\160521 ++ V 007.txt"
      ]
     },
     "metadata": {},
     "output_type": "display_data"
    },
    {
     "data": {
      "text/html": [
       "<pre>Parsing completed. Parsed 100 lines in 0.020001 secs.</pre>"
      ],
      "text/plain": [
       "Parsing completed. Parsed 100 lines in 0.020001 secs."
      ]
     },
     "metadata": {},
     "output_type": "display_data"
    },
    {
     "name": "stdout",
     "output_type": "stream",
     "text": [
      "------------------------------------------------------\n",
      "Inferred types from first 100 line(s) of file as \n",
      "column_type_hints=[float,float,str,str,str,str,float,str,str,long,long,long,long,long,long]\n",
      "If parsing fails due to incorrect types, you can correct\n",
      "the inferred type list above and pass it to read_csv in\n",
      "the column_type_hints argument\n",
      "------------------------------------------------------\n"
     ]
    },
    {
     "data": {
      "text/html": [
       "<pre>Finished parsing file C:\\Users\\jdr248\\160521 ++ V 007.txt</pre>"
      ],
      "text/plain": [
       "Finished parsing file C:\\Users\\jdr248\\160521 ++ V 007.txt"
      ]
     },
     "metadata": {},
     "output_type": "display_data"
    },
    {
     "data": {
      "text/html": [
       "<pre>Parsing completed. Parsed 4669 lines in 0.019002 secs.</pre>"
      ],
      "text/plain": [
       "Parsing completed. Parsed 4669 lines in 0.019002 secs."
      ]
     },
     "metadata": {},
     "output_type": "display_data"
    },
    {
     "data": {
      "text/html": [
       "<pre>Starting brute force nearest neighbors model training.</pre>"
      ],
      "text/plain": [
       "Starting brute force nearest neighbors model training."
      ]
     },
     "metadata": {},
     "output_type": "display_data"
    },
    {
     "data": {
      "text/html": [
       "<pre>Starting blockwise similarity graph construction.</pre>"
      ],
      "text/plain": [
       "Starting blockwise similarity graph construction."
      ]
     },
     "metadata": {},
     "output_type": "display_data"
    },
    {
     "data": {
      "text/html": [
       "<pre>max rows per data block: 8190</pre>"
      ],
      "text/plain": [
       "max rows per data block: 8190"
      ]
     },
     "metadata": {},
     "output_type": "display_data"
    },
    {
     "data": {
      "text/html": [
       "<pre>number of reference data blocks: 4</pre>"
      ],
      "text/plain": [
       "number of reference data blocks: 4"
      ]
     },
     "metadata": {},
     "output_type": "display_data"
    },
    {
     "data": {
      "text/html": [
       "<pre>+---------+-------------+--------------+</pre>"
      ],
      "text/plain": [
       "+---------+-------------+--------------+"
      ]
     },
     "metadata": {},
     "output_type": "display_data"
    },
    {
     "data": {
      "text/html": [
       "<pre>| # Pairs | % Complete. | Elapsed Time |</pre>"
      ],
      "text/plain": [
       "| # Pairs | % Complete. | Elapsed Time |"
      ]
     },
     "metadata": {},
     "output_type": "display_data"
    },
    {
     "data": {
      "text/html": [
       "<pre>+---------+-------------+--------------+</pre>"
      ],
      "text/plain": [
       "+---------+-------------+--------------+"
      ]
     },
     "metadata": {},
     "output_type": "display_data"
    },
    {
     "data": {
      "text/html": [
       "<pre>| 4085667 | 29.9487     | 48.005ms     |</pre>"
      ],
      "text/plain": [
       "| 4085667 | 29.9487     | 48.005ms     |"
      ]
     },
     "metadata": {},
     "output_type": "display_data"
    },
    {
     "data": {
      "text/html": [
       "<pre>| 1e+007  | 100         | 195.017ms    |</pre>"
      ],
      "text/plain": [
       "| 1e+007  | 100         | 195.017ms    |"
      ]
     },
     "metadata": {},
     "output_type": "display_data"
    },
    {
     "data": {
      "text/html": [
       "<pre>+---------+-------------+--------------+</pre>"
      ],
      "text/plain": [
       "+---------+-------------+--------------+"
      ]
     },
     "metadata": {},
     "output_type": "display_data"
    },
    {
     "name": "stderr",
     "output_type": "stream",
     "text": [
      "[INFO] graphlab.toolkits.clustering.dbscan: Identifying noise points and core points.\n",
      "[INFO] graphlab.toolkits.clustering.dbscan: Constructing the core point similarity graph.\n"
     ]
    },
    {
     "data": {
      "text/html": [
       "<pre>+-----------------------------+</pre>"
      ],
      "text/plain": [
       "+-----------------------------+"
      ]
     },
     "metadata": {},
     "output_type": "display_data"
    },
    {
     "data": {
      "text/html": [
       "<pre>| Number of components merged |</pre>"
      ],
      "text/plain": [
       "| Number of components merged |"
      ]
     },
     "metadata": {},
     "output_type": "display_data"
    },
    {
     "data": {
      "text/html": [
       "<pre>+-----------------------------+</pre>"
      ],
      "text/plain": [
       "+-----------------------------+"
      ]
     },
     "metadata": {},
     "output_type": "display_data"
    },
    {
     "data": {
      "text/html": [
       "<pre>| 3465                        |</pre>"
      ],
      "text/plain": [
       "| 3465                        |"
      ]
     },
     "metadata": {},
     "output_type": "display_data"
    },
    {
     "data": {
      "text/html": [
       "<pre>| 0                           |</pre>"
      ],
      "text/plain": [
       "| 0                           |"
      ]
     },
     "metadata": {},
     "output_type": "display_data"
    },
    {
     "data": {
      "text/html": [
       "<pre>+-----------------------------+</pre>"
      ],
      "text/plain": [
       "+-----------------------------+"
      ]
     },
     "metadata": {},
     "output_type": "display_data"
    },
    {
     "name": "stderr",
     "output_type": "stream",
     "text": [
      "[INFO] graphlab.toolkits.clustering.dbscan: Processing boundary points.\n"
     ]
    },
    {
     "data": {
      "text/html": [
       "<pre>Starting brute force nearest neighbors model training.</pre>"
      ],
      "text/plain": [
       "Starting brute force nearest neighbors model training."
      ]
     },
     "metadata": {},
     "output_type": "display_data"
    },
    {
     "data": {
      "text/html": [
       "<pre>Starting blockwise similarity graph construction.</pre>"
      ],
      "text/plain": [
       "Starting blockwise similarity graph construction."
      ]
     },
     "metadata": {},
     "output_type": "display_data"
    },
    {
     "data": {
      "text/html": [
       "<pre>max rows per data block: 8190</pre>"
      ],
      "text/plain": [
       "max rows per data block: 8190"
      ]
     },
     "metadata": {},
     "output_type": "display_data"
    },
    {
     "data": {
      "text/html": [
       "<pre>number of reference data blocks: 4</pre>"
      ],
      "text/plain": [
       "number of reference data blocks: 4"
      ]
     },
     "metadata": {},
     "output_type": "display_data"
    },
    {
     "data": {
      "text/html": [
       "<pre>+---------+-------------+--------------+</pre>"
      ],
      "text/plain": [
       "+---------+-------------+--------------+"
      ]
     },
     "metadata": {},
     "output_type": "display_data"
    },
    {
     "data": {
      "text/html": [
       "<pre>| # Pairs | % Complete. | Elapsed Time |</pre>"
      ],
      "text/plain": [
       "| # Pairs | % Complete. | Elapsed Time |"
      ]
     },
     "metadata": {},
     "output_type": "display_data"
    },
    {
     "data": {
      "text/html": [
       "<pre>+---------+-------------+--------------+</pre>"
      ],
      "text/plain": [
       "+---------+-------------+--------------+"
      ]
     },
     "metadata": {},
     "output_type": "display_data"
    },
    {
     "data": {
      "text/html": [
       "<pre>| 4085667 | 29.9487     | 28.003ms     |</pre>"
      ],
      "text/plain": [
       "| 4085667 | 29.9487     | 28.003ms     |"
      ]
     },
     "metadata": {},
     "output_type": "display_data"
    },
    {
     "data": {
      "text/html": [
       "<pre>| 1e+007  | 100         | 182.016ms    |</pre>"
      ],
      "text/plain": [
       "| 1e+007  | 100         | 182.016ms    |"
      ]
     },
     "metadata": {},
     "output_type": "display_data"
    },
    {
     "data": {
      "text/html": [
       "<pre>+---------+-------------+--------------+</pre>"
      ],
      "text/plain": [
       "+---------+-------------+--------------+"
      ]
     },
     "metadata": {},
     "output_type": "display_data"
    },
    {
     "name": "stderr",
     "output_type": "stream",
     "text": [
      "[INFO] graphlab.toolkits.clustering.dbscan: Identifying noise points and core points.\n",
      "[INFO] graphlab.toolkits.clustering.dbscan: Constructing the core point similarity graph.\n"
     ]
    },
    {
     "data": {
      "text/html": [
       "<pre>+-----------------------------+</pre>"
      ],
      "text/plain": [
       "+-----------------------------+"
      ]
     },
     "metadata": {},
     "output_type": "display_data"
    },
    {
     "data": {
      "text/html": [
       "<pre>| Number of components merged |</pre>"
      ],
      "text/plain": [
       "| Number of components merged |"
      ]
     },
     "metadata": {},
     "output_type": "display_data"
    },
    {
     "data": {
      "text/html": [
       "<pre>+-----------------------------+</pre>"
      ],
      "text/plain": [
       "+-----------------------------+"
      ]
     },
     "metadata": {},
     "output_type": "display_data"
    },
    {
     "data": {
      "text/html": [
       "<pre>| 10295                       |</pre>"
      ],
      "text/plain": [
       "| 10295                       |"
      ]
     },
     "metadata": {},
     "output_type": "display_data"
    },
    {
     "data": {
      "text/html": [
       "<pre>| 0                           |</pre>"
      ],
      "text/plain": [
       "| 0                           |"
      ]
     },
     "metadata": {},
     "output_type": "display_data"
    },
    {
     "data": {
      "text/html": [
       "<pre>+-----------------------------+</pre>"
      ],
      "text/plain": [
       "+-----------------------------+"
      ]
     },
     "metadata": {},
     "output_type": "display_data"
    },
    {
     "name": "stderr",
     "output_type": "stream",
     "text": [
      "[INFO] graphlab.toolkits.clustering.dbscan: Processing boundary points.\n"
     ]
    },
    {
     "data": {
      "text/html": [
       "<pre>Finished parsing file C:\\Users\\jdr248\\160521 ++ V 008.txt</pre>"
      ],
      "text/plain": [
       "Finished parsing file C:\\Users\\jdr248\\160521 ++ V 008.txt"
      ]
     },
     "metadata": {},
     "output_type": "display_data"
    },
    {
     "data": {
      "text/html": [
       "<pre>Parsing completed. Parsed 100 lines in 0.030001 secs.</pre>"
      ],
      "text/plain": [
       "Parsing completed. Parsed 100 lines in 0.030001 secs."
      ]
     },
     "metadata": {},
     "output_type": "display_data"
    },
    {
     "name": "stdout",
     "output_type": "stream",
     "text": [
      "------------------------------------------------------\n",
      "Inferred types from first 100 line(s) of file as \n",
      "column_type_hints=[float,float,str,str,str,str,float,str,str,long,long,long,long,long,long]\n",
      "If parsing fails due to incorrect types, you can correct\n",
      "the inferred type list above and pass it to read_csv in\n",
      "the column_type_hints argument\n",
      "------------------------------------------------------\n"
     ]
    },
    {
     "data": {
      "text/html": [
       "<pre>Finished parsing file C:\\Users\\jdr248\\160521 ++ V 008.txt</pre>"
      ],
      "text/plain": [
       "Finished parsing file C:\\Users\\jdr248\\160521 ++ V 008.txt"
      ]
     },
     "metadata": {},
     "output_type": "display_data"
    },
    {
     "data": {
      "text/html": [
       "<pre>Parsing completed. Parsed 8845 lines in 0.044002 secs.</pre>"
      ],
      "text/plain": [
       "Parsing completed. Parsed 8845 lines in 0.044002 secs."
      ]
     },
     "metadata": {},
     "output_type": "display_data"
    },
    {
     "data": {
      "text/html": [
       "<pre>Starting brute force nearest neighbors model training.</pre>"
      ],
      "text/plain": [
       "Starting brute force nearest neighbors model training."
      ]
     },
     "metadata": {},
     "output_type": "display_data"
    },
    {
     "data": {
      "text/html": [
       "<pre>Starting blockwise similarity graph construction.</pre>"
      ],
      "text/plain": [
       "Starting blockwise similarity graph construction."
      ]
     },
     "metadata": {},
     "output_type": "display_data"
    },
    {
     "data": {
      "text/html": [
       "<pre>max rows per data block: 8190</pre>"
      ],
      "text/plain": [
       "max rows per data block: 8190"
      ]
     },
     "metadata": {},
     "output_type": "display_data"
    },
    {
     "data": {
      "text/html": [
       "<pre>number of reference data blocks: 4</pre>"
      ],
      "text/plain": [
       "number of reference data blocks: 4"
      ]
     },
     "metadata": {},
     "output_type": "display_data"
    },
    {
     "data": {
      "text/html": [
       "<pre>+---------+-------------+--------------+</pre>"
      ],
      "text/plain": [
       "+---------+-------------+--------------+"
      ]
     },
     "metadata": {},
     "output_type": "display_data"
    },
    {
     "data": {
      "text/html": [
       "<pre>| # Pairs | % Complete. | Elapsed Time |</pre>"
      ],
      "text/plain": [
       "| # Pairs | % Complete. | Elapsed Time |"
      ]
     },
     "metadata": {},
     "output_type": "display_data"
    },
    {
     "data": {
      "text/html": [
       "<pre>+---------+-------------+--------------+</pre>"
      ],
      "text/plain": [
       "+---------+-------------+--------------+"
      ]
     },
     "metadata": {},
     "output_type": "display_data"
    },
    {
     "data": {
      "text/html": [
       "<pre>| 1e+007  | 29.9729     | 186.017ms    |</pre>"
      ],
      "text/plain": [
       "| 1e+007  | 29.9729     | 186.017ms    |"
      ]
     },
     "metadata": {},
     "output_type": "display_data"
    },
    {
     "data": {
      "text/html": [
       "<pre>| 5e+007  | 100         | 667.057ms    |</pre>"
      ],
      "text/plain": [
       "| 5e+007  | 100         | 667.057ms    |"
      ]
     },
     "metadata": {},
     "output_type": "display_data"
    },
    {
     "data": {
      "text/html": [
       "<pre>+---------+-------------+--------------+</pre>"
      ],
      "text/plain": [
       "+---------+-------------+--------------+"
      ]
     },
     "metadata": {},
     "output_type": "display_data"
    },
    {
     "name": "stderr",
     "output_type": "stream",
     "text": [
      "[INFO] graphlab.toolkits.clustering.dbscan: Identifying noise points and core points.\n",
      "[INFO] graphlab.toolkits.clustering.dbscan: Constructing the core point similarity graph.\n"
     ]
    },
    {
     "data": {
      "text/html": [
       "<pre>+-----------------------------+</pre>"
      ],
      "text/plain": [
       "+-----------------------------+"
      ]
     },
     "metadata": {},
     "output_type": "display_data"
    },
    {
     "data": {
      "text/html": [
       "<pre>| Number of components merged |</pre>"
      ],
      "text/plain": [
       "| Number of components merged |"
      ]
     },
     "metadata": {},
     "output_type": "display_data"
    },
    {
     "data": {
      "text/html": [
       "<pre>+-----------------------------+</pre>"
      ],
      "text/plain": [
       "+-----------------------------+"
      ]
     },
     "metadata": {},
     "output_type": "display_data"
    },
    {
     "data": {
      "text/html": [
       "<pre>| 11421                       |</pre>"
      ],
      "text/plain": [
       "| 11421                       |"
      ]
     },
     "metadata": {},
     "output_type": "display_data"
    },
    {
     "data": {
      "text/html": [
       "<pre>| 0                           |</pre>"
      ],
      "text/plain": [
       "| 0                           |"
      ]
     },
     "metadata": {},
     "output_type": "display_data"
    },
    {
     "data": {
      "text/html": [
       "<pre>+-----------------------------+</pre>"
      ],
      "text/plain": [
       "+-----------------------------+"
      ]
     },
     "metadata": {},
     "output_type": "display_data"
    },
    {
     "name": "stderr",
     "output_type": "stream",
     "text": [
      "[INFO] graphlab.toolkits.clustering.dbscan: Processing boundary points.\n"
     ]
    },
    {
     "data": {
      "text/html": [
       "<pre>Starting brute force nearest neighbors model training.</pre>"
      ],
      "text/plain": [
       "Starting brute force nearest neighbors model training."
      ]
     },
     "metadata": {},
     "output_type": "display_data"
    },
    {
     "data": {
      "text/html": [
       "<pre>Starting blockwise similarity graph construction.</pre>"
      ],
      "text/plain": [
       "Starting blockwise similarity graph construction."
      ]
     },
     "metadata": {},
     "output_type": "display_data"
    },
    {
     "data": {
      "text/html": [
       "<pre>max rows per data block: 8190</pre>"
      ],
      "text/plain": [
       "max rows per data block: 8190"
      ]
     },
     "metadata": {},
     "output_type": "display_data"
    },
    {
     "data": {
      "text/html": [
       "<pre>number of reference data blocks: 4</pre>"
      ],
      "text/plain": [
       "number of reference data blocks: 4"
      ]
     },
     "metadata": {},
     "output_type": "display_data"
    },
    {
     "data": {
      "text/html": [
       "<pre>+---------+-------------+--------------+</pre>"
      ],
      "text/plain": [
       "+---------+-------------+--------------+"
      ]
     },
     "metadata": {},
     "output_type": "display_data"
    },
    {
     "data": {
      "text/html": [
       "<pre>| # Pairs | % Complete. | Elapsed Time |</pre>"
      ],
      "text/plain": [
       "| # Pairs | % Complete. | Elapsed Time |"
      ]
     },
     "metadata": {},
     "output_type": "display_data"
    },
    {
     "data": {
      "text/html": [
       "<pre>+---------+-------------+--------------+</pre>"
      ],
      "text/plain": [
       "+---------+-------------+--------------+"
      ]
     },
     "metadata": {},
     "output_type": "display_data"
    },
    {
     "data": {
      "text/html": [
       "<pre>| 1e+007  | 29.9729     | 158.016ms    |</pre>"
      ],
      "text/plain": [
       "| 1e+007  | 29.9729     | 158.016ms    |"
      ]
     },
     "metadata": {},
     "output_type": "display_data"
    },
    {
     "data": {
      "text/html": [
       "<pre>| 5e+007  | 100         | 672.058ms    |</pre>"
      ],
      "text/plain": [
       "| 5e+007  | 100         | 672.058ms    |"
      ]
     },
     "metadata": {},
     "output_type": "display_data"
    },
    {
     "data": {
      "text/html": [
       "<pre>+---------+-------------+--------------+</pre>"
      ],
      "text/plain": [
       "+---------+-------------+--------------+"
      ]
     },
     "metadata": {},
     "output_type": "display_data"
    },
    {
     "name": "stderr",
     "output_type": "stream",
     "text": [
      "[INFO] graphlab.toolkits.clustering.dbscan: Identifying noise points and core points.\n",
      "[INFO] graphlab.toolkits.clustering.dbscan: Constructing the core point similarity graph.\n"
     ]
    },
    {
     "data": {
      "text/html": [
       "<pre>+-----------------------------+</pre>"
      ],
      "text/plain": [
       "+-----------------------------+"
      ]
     },
     "metadata": {},
     "output_type": "display_data"
    },
    {
     "data": {
      "text/html": [
       "<pre>| Number of components merged |</pre>"
      ],
      "text/plain": [
       "| Number of components merged |"
      ]
     },
     "metadata": {},
     "output_type": "display_data"
    },
    {
     "data": {
      "text/html": [
       "<pre>+-----------------------------+</pre>"
      ],
      "text/plain": [
       "+-----------------------------+"
      ]
     },
     "metadata": {},
     "output_type": "display_data"
    },
    {
     "data": {
      "text/html": [
       "<pre>| 27318                       |</pre>"
      ],
      "text/plain": [
       "| 27318                       |"
      ]
     },
     "metadata": {},
     "output_type": "display_data"
    },
    {
     "data": {
      "text/html": [
       "<pre>| 0                           |</pre>"
      ],
      "text/plain": [
       "| 0                           |"
      ]
     },
     "metadata": {},
     "output_type": "display_data"
    },
    {
     "data": {
      "text/html": [
       "<pre>+-----------------------------+</pre>"
      ],
      "text/plain": [
       "+-----------------------------+"
      ]
     },
     "metadata": {},
     "output_type": "display_data"
    },
    {
     "name": "stderr",
     "output_type": "stream",
     "text": [
      "[INFO] graphlab.toolkits.clustering.dbscan: Processing boundary points.\n"
     ]
    },
    {
     "data": {
      "text/html": [
       "<pre>Finished parsing file C:\\Users\\jdr248\\160521 ++ V 010.txt</pre>"
      ],
      "text/plain": [
       "Finished parsing file C:\\Users\\jdr248\\160521 ++ V 010.txt"
      ]
     },
     "metadata": {},
     "output_type": "display_data"
    },
    {
     "data": {
      "text/html": [
       "<pre>Parsing completed. Parsed 100 lines in 0.030002 secs.</pre>"
      ],
      "text/plain": [
       "Parsing completed. Parsed 100 lines in 0.030002 secs."
      ]
     },
     "metadata": {},
     "output_type": "display_data"
    },
    {
     "name": "stdout",
     "output_type": "stream",
     "text": [
      "------------------------------------------------------\n",
      "Inferred types from first 100 line(s) of file as \n",
      "column_type_hints=[float,float,str,str,str,str,float,str,str,long,long,long,long,long,long]\n",
      "If parsing fails due to incorrect types, you can correct\n",
      "the inferred type list above and pass it to read_csv in\n",
      "the column_type_hints argument\n",
      "------------------------------------------------------\n"
     ]
    },
    {
     "data": {
      "text/html": [
       "<pre>Finished parsing file C:\\Users\\jdr248\\160521 ++ V 010.txt</pre>"
      ],
      "text/plain": [
       "Finished parsing file C:\\Users\\jdr248\\160521 ++ V 010.txt"
      ]
     },
     "metadata": {},
     "output_type": "display_data"
    },
    {
     "data": {
      "text/html": [
       "<pre>Parsing completed. Parsed 8710 lines in 0.044003 secs.</pre>"
      ],
      "text/plain": [
       "Parsing completed. Parsed 8710 lines in 0.044003 secs."
      ]
     },
     "metadata": {},
     "output_type": "display_data"
    },
    {
     "data": {
      "text/html": [
       "<pre>Starting brute force nearest neighbors model training.</pre>"
      ],
      "text/plain": [
       "Starting brute force nearest neighbors model training."
      ]
     },
     "metadata": {},
     "output_type": "display_data"
    },
    {
     "data": {
      "text/html": [
       "<pre>Starting blockwise similarity graph construction.</pre>"
      ],
      "text/plain": [
       "Starting blockwise similarity graph construction."
      ]
     },
     "metadata": {},
     "output_type": "display_data"
    },
    {
     "data": {
      "text/html": [
       "<pre>max rows per data block: 8190</pre>"
      ],
      "text/plain": [
       "max rows per data block: 8190"
      ]
     },
     "metadata": {},
     "output_type": "display_data"
    },
    {
     "data": {
      "text/html": [
       "<pre>number of reference data blocks: 4</pre>"
      ],
      "text/plain": [
       "number of reference data blocks: 4"
      ]
     },
     "metadata": {},
     "output_type": "display_data"
    },
    {
     "data": {
      "text/html": [
       "<pre>+---------+-------------+--------------+</pre>"
      ],
      "text/plain": [
       "+---------+-------------+--------------+"
      ]
     },
     "metadata": {},
     "output_type": "display_data"
    },
    {
     "data": {
      "text/html": [
       "<pre>| # Pairs | % Complete. | Elapsed Time |</pre>"
      ],
      "text/plain": [
       "| # Pairs | % Complete. | Elapsed Time |"
      ]
     },
     "metadata": {},
     "output_type": "display_data"
    },
    {
     "data": {
      "text/html": [
       "<pre>+---------+-------------+--------------+</pre>"
      ],
      "text/plain": [
       "+---------+-------------+--------------+"
      ]
     },
     "metadata": {},
     "output_type": "display_data"
    },
    {
     "data": {
      "text/html": [
       "<pre>| 1e+007  | 29.977      | 174.017ms    |</pre>"
      ],
      "text/plain": [
       "| 1e+007  | 29.977      | 174.017ms    |"
      ]
     },
     "metadata": {},
     "output_type": "display_data"
    },
    {
     "data": {
      "text/html": [
       "<pre>| 5e+007  | 100         | 632.056ms    |</pre>"
      ],
      "text/plain": [
       "| 5e+007  | 100         | 632.056ms    |"
      ]
     },
     "metadata": {},
     "output_type": "display_data"
    },
    {
     "data": {
      "text/html": [
       "<pre>+---------+-------------+--------------+</pre>"
      ],
      "text/plain": [
       "+---------+-------------+--------------+"
      ]
     },
     "metadata": {},
     "output_type": "display_data"
    },
    {
     "name": "stderr",
     "output_type": "stream",
     "text": [
      "[INFO] graphlab.toolkits.clustering.dbscan: Identifying noise points and core points.\n",
      "[INFO] graphlab.toolkits.clustering.dbscan: Constructing the core point similarity graph.\n"
     ]
    },
    {
     "data": {
      "text/html": [
       "<pre>+-----------------------------+</pre>"
      ],
      "text/plain": [
       "+-----------------------------+"
      ]
     },
     "metadata": {},
     "output_type": "display_data"
    },
    {
     "data": {
      "text/html": [
       "<pre>| Number of components merged |</pre>"
      ],
      "text/plain": [
       "| Number of components merged |"
      ]
     },
     "metadata": {},
     "output_type": "display_data"
    },
    {
     "data": {
      "text/html": [
       "<pre>+-----------------------------+</pre>"
      ],
      "text/plain": [
       "+-----------------------------+"
      ]
     },
     "metadata": {},
     "output_type": "display_data"
    },
    {
     "data": {
      "text/html": [
       "<pre>| 11549                       |</pre>"
      ],
      "text/plain": [
       "| 11549                       |"
      ]
     },
     "metadata": {},
     "output_type": "display_data"
    },
    {
     "data": {
      "text/html": [
       "<pre>| 0                           |</pre>"
      ],
      "text/plain": [
       "| 0                           |"
      ]
     },
     "metadata": {},
     "output_type": "display_data"
    },
    {
     "data": {
      "text/html": [
       "<pre>+-----------------------------+</pre>"
      ],
      "text/plain": [
       "+-----------------------------+"
      ]
     },
     "metadata": {},
     "output_type": "display_data"
    },
    {
     "name": "stderr",
     "output_type": "stream",
     "text": [
      "[INFO] graphlab.toolkits.clustering.dbscan: Processing boundary points.\n"
     ]
    },
    {
     "data": {
      "text/html": [
       "<pre>Starting brute force nearest neighbors model training.</pre>"
      ],
      "text/plain": [
       "Starting brute force nearest neighbors model training."
      ]
     },
     "metadata": {},
     "output_type": "display_data"
    },
    {
     "data": {
      "text/html": [
       "<pre>Starting blockwise similarity graph construction.</pre>"
      ],
      "text/plain": [
       "Starting blockwise similarity graph construction."
      ]
     },
     "metadata": {},
     "output_type": "display_data"
    },
    {
     "data": {
      "text/html": [
       "<pre>max rows per data block: 8190</pre>"
      ],
      "text/plain": [
       "max rows per data block: 8190"
      ]
     },
     "metadata": {},
     "output_type": "display_data"
    },
    {
     "data": {
      "text/html": [
       "<pre>number of reference data blocks: 4</pre>"
      ],
      "text/plain": [
       "number of reference data blocks: 4"
      ]
     },
     "metadata": {},
     "output_type": "display_data"
    },
    {
     "data": {
      "text/html": [
       "<pre>+---------+-------------+--------------+</pre>"
      ],
      "text/plain": [
       "+---------+-------------+--------------+"
      ]
     },
     "metadata": {},
     "output_type": "display_data"
    },
    {
     "data": {
      "text/html": [
       "<pre>| # Pairs | % Complete. | Elapsed Time |</pre>"
      ],
      "text/plain": [
       "| # Pairs | % Complete. | Elapsed Time |"
      ]
     },
     "metadata": {},
     "output_type": "display_data"
    },
    {
     "data": {
      "text/html": [
       "<pre>+---------+-------------+--------------+</pre>"
      ],
      "text/plain": [
       "+---------+-------------+--------------+"
      ]
     },
     "metadata": {},
     "output_type": "display_data"
    },
    {
     "data": {
      "text/html": [
       "<pre>| 1e+007  | 29.977      | 159.016ms    |</pre>"
      ],
      "text/plain": [
       "| 1e+007  | 29.977      | 159.016ms    |"
      ]
     },
     "metadata": {},
     "output_type": "display_data"
    },
    {
     "data": {
      "text/html": [
       "<pre>| 5e+007  | 100         | 654.058ms    |</pre>"
      ],
      "text/plain": [
       "| 5e+007  | 100         | 654.058ms    |"
      ]
     },
     "metadata": {},
     "output_type": "display_data"
    },
    {
     "data": {
      "text/html": [
       "<pre>+---------+-------------+--------------+</pre>"
      ],
      "text/plain": [
       "+---------+-------------+--------------+"
      ]
     },
     "metadata": {},
     "output_type": "display_data"
    },
    {
     "name": "stderr",
     "output_type": "stream",
     "text": [
      "[INFO] graphlab.toolkits.clustering.dbscan: Identifying noise points and core points.\n",
      "[INFO] graphlab.toolkits.clustering.dbscan: Constructing the core point similarity graph.\n"
     ]
    },
    {
     "data": {
      "text/html": [
       "<pre>+-----------------------------+</pre>"
      ],
      "text/plain": [
       "+-----------------------------+"
      ]
     },
     "metadata": {},
     "output_type": "display_data"
    },
    {
     "data": {
      "text/html": [
       "<pre>| Number of components merged |</pre>"
      ],
      "text/plain": [
       "| Number of components merged |"
      ]
     },
     "metadata": {},
     "output_type": "display_data"
    },
    {
     "data": {
      "text/html": [
       "<pre>+-----------------------------+</pre>"
      ],
      "text/plain": [
       "+-----------------------------+"
      ]
     },
     "metadata": {},
     "output_type": "display_data"
    },
    {
     "data": {
      "text/html": [
       "<pre>| 25544                       |</pre>"
      ],
      "text/plain": [
       "| 25544                       |"
      ]
     },
     "metadata": {},
     "output_type": "display_data"
    },
    {
     "data": {
      "text/html": [
       "<pre>| 0                           |</pre>"
      ],
      "text/plain": [
       "| 0                           |"
      ]
     },
     "metadata": {},
     "output_type": "display_data"
    },
    {
     "data": {
      "text/html": [
       "<pre>+-----------------------------+</pre>"
      ],
      "text/plain": [
       "+-----------------------------+"
      ]
     },
     "metadata": {},
     "output_type": "display_data"
    },
    {
     "name": "stderr",
     "output_type": "stream",
     "text": [
      "[INFO] graphlab.toolkits.clustering.dbscan: Processing boundary points.\n"
     ]
    },
    {
     "data": {
      "text/html": [
       "<pre>Finished parsing file C:\\Users\\jdr248\\160521 ++ V 012.txt</pre>"
      ],
      "text/plain": [
       "Finished parsing file C:\\Users\\jdr248\\160521 ++ V 012.txt"
      ]
     },
     "metadata": {},
     "output_type": "display_data"
    },
    {
     "data": {
      "text/html": [
       "<pre>Parsing completed. Parsed 100 lines in 0.020001 secs.</pre>"
      ],
      "text/plain": [
       "Parsing completed. Parsed 100 lines in 0.020001 secs."
      ]
     },
     "metadata": {},
     "output_type": "display_data"
    },
    {
     "name": "stdout",
     "output_type": "stream",
     "text": [
      "------------------------------------------------------\n",
      "Inferred types from first 100 line(s) of file as \n",
      "column_type_hints=[float,float,str,str,str,str,float,str,str,long,long,long,long,long,long]\n",
      "If parsing fails due to incorrect types, you can correct\n",
      "the inferred type list above and pass it to read_csv in\n",
      "the column_type_hints argument\n",
      "------------------------------------------------------\n"
     ]
    },
    {
     "data": {
      "text/html": [
       "<pre>Finished parsing file C:\\Users\\jdr248\\160521 ++ V 012.txt</pre>"
      ],
      "text/plain": [
       "Finished parsing file C:\\Users\\jdr248\\160521 ++ V 012.txt"
      ]
     },
     "metadata": {},
     "output_type": "display_data"
    },
    {
     "data": {
      "text/html": [
       "<pre>Parsing completed. Parsed 6941 lines in 0.040003 secs.</pre>"
      ],
      "text/plain": [
       "Parsing completed. Parsed 6941 lines in 0.040003 secs."
      ]
     },
     "metadata": {},
     "output_type": "display_data"
    },
    {
     "data": {
      "text/html": [
       "<pre>Starting brute force nearest neighbors model training.</pre>"
      ],
      "text/plain": [
       "Starting brute force nearest neighbors model training."
      ]
     },
     "metadata": {},
     "output_type": "display_data"
    },
    {
     "data": {
      "text/html": [
       "<pre>Starting blockwise similarity graph construction.</pre>"
      ],
      "text/plain": [
       "Starting blockwise similarity graph construction."
      ]
     },
     "metadata": {},
     "output_type": "display_data"
    },
    {
     "data": {
      "text/html": [
       "<pre>max rows per data block: 8190</pre>"
      ],
      "text/plain": [
       "max rows per data block: 8190"
      ]
     },
     "metadata": {},
     "output_type": "display_data"
    },
    {
     "data": {
      "text/html": [
       "<pre>number of reference data blocks: 4</pre>"
      ],
      "text/plain": [
       "number of reference data blocks: 4"
      ]
     },
     "metadata": {},
     "output_type": "display_data"
    },
    {
     "data": {
      "text/html": [
       "<pre>+---------+-------------+--------------+</pre>"
      ],
      "text/plain": [
       "+---------+-------------+--------------+"
      ]
     },
     "metadata": {},
     "output_type": "display_data"
    },
    {
     "data": {
      "text/html": [
       "<pre>| # Pairs | % Complete. | Elapsed Time |</pre>"
      ],
      "text/plain": [
       "| # Pairs | % Complete. | Elapsed Time |"
      ]
     },
     "metadata": {},
     "output_type": "display_data"
    },
    {
     "data": {
      "text/html": [
       "<pre>+---------+-------------+--------------+</pre>"
      ],
      "text/plain": [
       "+---------+-------------+--------------+"
      ]
     },
     "metadata": {},
     "output_type": "display_data"
    },
    {
     "data": {
      "text/html": [
       "<pre>| 9030675 | 29.9654     | 110.011ms    |</pre>"
      ],
      "text/plain": [
       "| 9030675 | 29.9654     | 110.011ms    |"
      ]
     },
     "metadata": {},
     "output_type": "display_data"
    },
    {
     "data": {
      "text/html": [
       "<pre>| 3e+007  | 100         | 407.036ms    |</pre>"
      ],
      "text/plain": [
       "| 3e+007  | 100         | 407.036ms    |"
      ]
     },
     "metadata": {},
     "output_type": "display_data"
    },
    {
     "data": {
      "text/html": [
       "<pre>+---------+-------------+--------------+</pre>"
      ],
      "text/plain": [
       "+---------+-------------+--------------+"
      ]
     },
     "metadata": {},
     "output_type": "display_data"
    },
    {
     "name": "stderr",
     "output_type": "stream",
     "text": [
      "[INFO] graphlab.toolkits.clustering.dbscan: Identifying noise points and core points.\n",
      "[INFO] graphlab.toolkits.clustering.dbscan: Constructing the core point similarity graph.\n"
     ]
    },
    {
     "data": {
      "text/html": [
       "<pre>+-----------------------------+</pre>"
      ],
      "text/plain": [
       "+-----------------------------+"
      ]
     },
     "metadata": {},
     "output_type": "display_data"
    },
    {
     "data": {
      "text/html": [
       "<pre>| Number of components merged |</pre>"
      ],
      "text/plain": [
       "| Number of components merged |"
      ]
     },
     "metadata": {},
     "output_type": "display_data"
    },
    {
     "data": {
      "text/html": [
       "<pre>+-----------------------------+</pre>"
      ],
      "text/plain": [
       "+-----------------------------+"
      ]
     },
     "metadata": {},
     "output_type": "display_data"
    },
    {
     "data": {
      "text/html": [
       "<pre>| 7438                        |</pre>"
      ],
      "text/plain": [
       "| 7438                        |"
      ]
     },
     "metadata": {},
     "output_type": "display_data"
    },
    {
     "data": {
      "text/html": [
       "<pre>| 0                           |</pre>"
      ],
      "text/plain": [
       "| 0                           |"
      ]
     },
     "metadata": {},
     "output_type": "display_data"
    },
    {
     "data": {
      "text/html": [
       "<pre>+-----------------------------+</pre>"
      ],
      "text/plain": [
       "+-----------------------------+"
      ]
     },
     "metadata": {},
     "output_type": "display_data"
    },
    {
     "name": "stderr",
     "output_type": "stream",
     "text": [
      "[INFO] graphlab.toolkits.clustering.dbscan: Processing boundary points.\n"
     ]
    },
    {
     "data": {
      "text/html": [
       "<pre>Starting brute force nearest neighbors model training.</pre>"
      ],
      "text/plain": [
       "Starting brute force nearest neighbors model training."
      ]
     },
     "metadata": {},
     "output_type": "display_data"
    },
    {
     "data": {
      "text/html": [
       "<pre>Starting blockwise similarity graph construction.</pre>"
      ],
      "text/plain": [
       "Starting blockwise similarity graph construction."
      ]
     },
     "metadata": {},
     "output_type": "display_data"
    },
    {
     "data": {
      "text/html": [
       "<pre>max rows per data block: 8190</pre>"
      ],
      "text/plain": [
       "max rows per data block: 8190"
      ]
     },
     "metadata": {},
     "output_type": "display_data"
    },
    {
     "data": {
      "text/html": [
       "<pre>number of reference data blocks: 4</pre>"
      ],
      "text/plain": [
       "number of reference data blocks: 4"
      ]
     },
     "metadata": {},
     "output_type": "display_data"
    },
    {
     "data": {
      "text/html": [
       "<pre>+---------+-------------+--------------+</pre>"
      ],
      "text/plain": [
       "+---------+-------------+--------------+"
      ]
     },
     "metadata": {},
     "output_type": "display_data"
    },
    {
     "data": {
      "text/html": [
       "<pre>| # Pairs | % Complete. | Elapsed Time |</pre>"
      ],
      "text/plain": [
       "| # Pairs | % Complete. | Elapsed Time |"
      ]
     },
     "metadata": {},
     "output_type": "display_data"
    },
    {
     "data": {
      "text/html": [
       "<pre>+---------+-------------+--------------+</pre>"
      ],
      "text/plain": [
       "+---------+-------------+--------------+"
      ]
     },
     "metadata": {},
     "output_type": "display_data"
    },
    {
     "data": {
      "text/html": [
       "<pre>| 9030675 | 29.9654     | 97.01ms      |</pre>"
      ],
      "text/plain": [
       "| 9030675 | 29.9654     | 97.01ms      |"
      ]
     },
     "metadata": {},
     "output_type": "display_data"
    },
    {
     "data": {
      "text/html": [
       "<pre>| 3e+007  | 100         | 431.038ms    |</pre>"
      ],
      "text/plain": [
       "| 3e+007  | 100         | 431.038ms    |"
      ]
     },
     "metadata": {},
     "output_type": "display_data"
    },
    {
     "data": {
      "text/html": [
       "<pre>+---------+-------------+--------------+</pre>"
      ],
      "text/plain": [
       "+---------+-------------+--------------+"
      ]
     },
     "metadata": {},
     "output_type": "display_data"
    },
    {
     "name": "stderr",
     "output_type": "stream",
     "text": [
      "[INFO] graphlab.toolkits.clustering.dbscan: Identifying noise points and core points.\n",
      "[INFO] graphlab.toolkits.clustering.dbscan: Constructing the core point similarity graph.\n"
     ]
    },
    {
     "data": {
      "text/html": [
       "<pre>+-----------------------------+</pre>"
      ],
      "text/plain": [
       "+-----------------------------+"
      ]
     },
     "metadata": {},
     "output_type": "display_data"
    },
    {
     "data": {
      "text/html": [
       "<pre>| Number of components merged |</pre>"
      ],
      "text/plain": [
       "| Number of components merged |"
      ]
     },
     "metadata": {},
     "output_type": "display_data"
    },
    {
     "data": {
      "text/html": [
       "<pre>+-----------------------------+</pre>"
      ],
      "text/plain": [
       "+-----------------------------+"
      ]
     },
     "metadata": {},
     "output_type": "display_data"
    },
    {
     "data": {
      "text/html": [
       "<pre>| 17931                       |</pre>"
      ],
      "text/plain": [
       "| 17931                       |"
      ]
     },
     "metadata": {},
     "output_type": "display_data"
    },
    {
     "data": {
      "text/html": [
       "<pre>| 0                           |</pre>"
      ],
      "text/plain": [
       "| 0                           |"
      ]
     },
     "metadata": {},
     "output_type": "display_data"
    },
    {
     "data": {
      "text/html": [
       "<pre>+-----------------------------+</pre>"
      ],
      "text/plain": [
       "+-----------------------------+"
      ]
     },
     "metadata": {},
     "output_type": "display_data"
    },
    {
     "name": "stderr",
     "output_type": "stream",
     "text": [
      "[INFO] graphlab.toolkits.clustering.dbscan: Processing boundary points.\n"
     ]
    },
    {
     "data": {
      "text/html": [
       "<pre>Finished parsing file C:\\Users\\jdr248\\160521 ++ V 013.txt</pre>"
      ],
      "text/plain": [
       "Finished parsing file C:\\Users\\jdr248\\160521 ++ V 013.txt"
      ]
     },
     "metadata": {},
     "output_type": "display_data"
    },
    {
     "data": {
      "text/html": [
       "<pre>Parsing completed. Parsed 100 lines in 0.030001 secs.</pre>"
      ],
      "text/plain": [
       "Parsing completed. Parsed 100 lines in 0.030001 secs."
      ]
     },
     "metadata": {},
     "output_type": "display_data"
    },
    {
     "name": "stdout",
     "output_type": "stream",
     "text": [
      "------------------------------------------------------\n",
      "Inferred types from first 100 line(s) of file as \n",
      "column_type_hints=[float,float,str,str,str,str,float,str,str,long,long,long,long,long,long]\n",
      "If parsing fails due to incorrect types, you can correct\n",
      "the inferred type list above and pass it to read_csv in\n",
      "the column_type_hints argument\n",
      "------------------------------------------------------\n"
     ]
    },
    {
     "data": {
      "text/html": [
       "<pre>Finished parsing file C:\\Users\\jdr248\\160521 ++ V 013.txt</pre>"
      ],
      "text/plain": [
       "Finished parsing file C:\\Users\\jdr248\\160521 ++ V 013.txt"
      ]
     },
     "metadata": {},
     "output_type": "display_data"
    },
    {
     "data": {
      "text/html": [
       "<pre>Parsing completed. Parsed 7355 lines in 0.025003 secs.</pre>"
      ],
      "text/plain": [
       "Parsing completed. Parsed 7355 lines in 0.025003 secs."
      ]
     },
     "metadata": {},
     "output_type": "display_data"
    },
    {
     "data": {
      "text/html": [
       "<pre>Starting brute force nearest neighbors model training.</pre>"
      ],
      "text/plain": [
       "Starting brute force nearest neighbors model training."
      ]
     },
     "metadata": {},
     "output_type": "display_data"
    },
    {
     "data": {
      "text/html": [
       "<pre>Starting blockwise similarity graph construction.</pre>"
      ],
      "text/plain": [
       "Starting blockwise similarity graph construction."
      ]
     },
     "metadata": {},
     "output_type": "display_data"
    },
    {
     "data": {
      "text/html": [
       "<pre>max rows per data block: 8190</pre>"
      ],
      "text/plain": [
       "max rows per data block: 8190"
      ]
     },
     "metadata": {},
     "output_type": "display_data"
    },
    {
     "data": {
      "text/html": [
       "<pre>number of reference data blocks: 4</pre>"
      ],
      "text/plain": [
       "number of reference data blocks: 4"
      ]
     },
     "metadata": {},
     "output_type": "display_data"
    },
    {
     "data": {
      "text/html": [
       "<pre>+---------+-------------+--------------+</pre>"
      ],
      "text/plain": [
       "+---------+-------------+--------------+"
      ]
     },
     "metadata": {},
     "output_type": "display_data"
    },
    {
     "data": {
      "text/html": [
       "<pre>| # Pairs | % Complete. | Elapsed Time |</pre>"
      ],
      "text/plain": [
       "| # Pairs | % Complete. | Elapsed Time |"
      ]
     },
     "metadata": {},
     "output_type": "display_data"
    },
    {
     "data": {
      "text/html": [
       "<pre>+---------+-------------+--------------+</pre>"
      ],
      "text/plain": [
       "+---------+-------------+--------------+"
      ]
     },
     "metadata": {},
     "output_type": "display_data"
    },
    {
     "data": {
      "text/html": [
       "<pre>| 1e+007  | 29.9837     | 109.011ms    |</pre>"
      ],
      "text/plain": [
       "| 1e+007  | 29.9837     | 109.011ms    |"
      ]
     },
     "metadata": {},
     "output_type": "display_data"
    },
    {
     "data": {
      "text/html": [
       "<pre>| 3e+007  | 100         | 434.036ms    |</pre>"
      ],
      "text/plain": [
       "| 3e+007  | 100         | 434.036ms    |"
      ]
     },
     "metadata": {},
     "output_type": "display_data"
    },
    {
     "data": {
      "text/html": [
       "<pre>+---------+-------------+--------------+</pre>"
      ],
      "text/plain": [
       "+---------+-------------+--------------+"
      ]
     },
     "metadata": {},
     "output_type": "display_data"
    },
    {
     "name": "stderr",
     "output_type": "stream",
     "text": [
      "[INFO] graphlab.toolkits.clustering.dbscan: Identifying noise points and core points.\n",
      "[INFO] graphlab.toolkits.clustering.dbscan: Constructing the core point similarity graph.\n"
     ]
    },
    {
     "data": {
      "text/html": [
       "<pre>+-----------------------------+</pre>"
      ],
      "text/plain": [
       "+-----------------------------+"
      ]
     },
     "metadata": {},
     "output_type": "display_data"
    },
    {
     "data": {
      "text/html": [
       "<pre>| Number of components merged |</pre>"
      ],
      "text/plain": [
       "| Number of components merged |"
      ]
     },
     "metadata": {},
     "output_type": "display_data"
    },
    {
     "data": {
      "text/html": [
       "<pre>+-----------------------------+</pre>"
      ],
      "text/plain": [
       "+-----------------------------+"
      ]
     },
     "metadata": {},
     "output_type": "display_data"
    },
    {
     "data": {
      "text/html": [
       "<pre>| 15263                       |</pre>"
      ],
      "text/plain": [
       "| 15263                       |"
      ]
     },
     "metadata": {},
     "output_type": "display_data"
    },
    {
     "data": {
      "text/html": [
       "<pre>| 0                           |</pre>"
      ],
      "text/plain": [
       "| 0                           |"
      ]
     },
     "metadata": {},
     "output_type": "display_data"
    },
    {
     "data": {
      "text/html": [
       "<pre>+-----------------------------+</pre>"
      ],
      "text/plain": [
       "+-----------------------------+"
      ]
     },
     "metadata": {},
     "output_type": "display_data"
    },
    {
     "name": "stderr",
     "output_type": "stream",
     "text": [
      "[INFO] graphlab.toolkits.clustering.dbscan: Processing boundary points.\n"
     ]
    },
    {
     "data": {
      "text/html": [
       "<pre>Starting brute force nearest neighbors model training.</pre>"
      ],
      "text/plain": [
       "Starting brute force nearest neighbors model training."
      ]
     },
     "metadata": {},
     "output_type": "display_data"
    },
    {
     "data": {
      "text/html": [
       "<pre>Starting blockwise similarity graph construction.</pre>"
      ],
      "text/plain": [
       "Starting blockwise similarity graph construction."
      ]
     },
     "metadata": {},
     "output_type": "display_data"
    },
    {
     "data": {
      "text/html": [
       "<pre>max rows per data block: 8190</pre>"
      ],
      "text/plain": [
       "max rows per data block: 8190"
      ]
     },
     "metadata": {},
     "output_type": "display_data"
    },
    {
     "data": {
      "text/html": [
       "<pre>number of reference data blocks: 4</pre>"
      ],
      "text/plain": [
       "number of reference data blocks: 4"
      ]
     },
     "metadata": {},
     "output_type": "display_data"
    },
    {
     "data": {
      "text/html": [
       "<pre>+---------+-------------+--------------+</pre>"
      ],
      "text/plain": [
       "+---------+-------------+--------------+"
      ]
     },
     "metadata": {},
     "output_type": "display_data"
    },
    {
     "data": {
      "text/html": [
       "<pre>| # Pairs | % Complete. | Elapsed Time |</pre>"
      ],
      "text/plain": [
       "| # Pairs | % Complete. | Elapsed Time |"
      ]
     },
     "metadata": {},
     "output_type": "display_data"
    },
    {
     "data": {
      "text/html": [
       "<pre>+---------+-------------+--------------+</pre>"
      ],
      "text/plain": [
       "+---------+-------------+--------------+"
      ]
     },
     "metadata": {},
     "output_type": "display_data"
    },
    {
     "data": {
      "text/html": [
       "<pre>| 1e+007  | 29.9837     | 148.015ms    |</pre>"
      ],
      "text/plain": [
       "| 1e+007  | 29.9837     | 148.015ms    |"
      ]
     },
     "metadata": {},
     "output_type": "display_data"
    },
    {
     "data": {
      "text/html": [
       "<pre>| 3e+007  | 100         | 483.042ms    |</pre>"
      ],
      "text/plain": [
       "| 3e+007  | 100         | 483.042ms    |"
      ]
     },
     "metadata": {},
     "output_type": "display_data"
    },
    {
     "data": {
      "text/html": [
       "<pre>+---------+-------------+--------------+</pre>"
      ],
      "text/plain": [
       "+---------+-------------+--------------+"
      ]
     },
     "metadata": {},
     "output_type": "display_data"
    },
    {
     "name": "stderr",
     "output_type": "stream",
     "text": [
      "[INFO] graphlab.toolkits.clustering.dbscan: Identifying noise points and core points.\n",
      "[INFO] graphlab.toolkits.clustering.dbscan: Constructing the core point similarity graph.\n"
     ]
    },
    {
     "data": {
      "text/html": [
       "<pre>+-----------------------------+</pre>"
      ],
      "text/plain": [
       "+-----------------------------+"
      ]
     },
     "metadata": {},
     "output_type": "display_data"
    },
    {
     "data": {
      "text/html": [
       "<pre>| Number of components merged |</pre>"
      ],
      "text/plain": [
       "| Number of components merged |"
      ]
     },
     "metadata": {},
     "output_type": "display_data"
    },
    {
     "data": {
      "text/html": [
       "<pre>+-----------------------------+</pre>"
      ],
      "text/plain": [
       "+-----------------------------+"
      ]
     },
     "metadata": {},
     "output_type": "display_data"
    },
    {
     "data": {
      "text/html": [
       "<pre>| 24492                       |</pre>"
      ],
      "text/plain": [
       "| 24492                       |"
      ]
     },
     "metadata": {},
     "output_type": "display_data"
    },
    {
     "data": {
      "text/html": [
       "<pre>| 0                           |</pre>"
      ],
      "text/plain": [
       "| 0                           |"
      ]
     },
     "metadata": {},
     "output_type": "display_data"
    },
    {
     "data": {
      "text/html": [
       "<pre>+-----------------------------+</pre>"
      ],
      "text/plain": [
       "+-----------------------------+"
      ]
     },
     "metadata": {},
     "output_type": "display_data"
    },
    {
     "name": "stderr",
     "output_type": "stream",
     "text": [
      "[INFO] graphlab.toolkits.clustering.dbscan: Processing boundary points.\n"
     ]
    },
    {
     "data": {
      "text/html": [
       "<pre>Finished parsing file C:\\Users\\jdr248\\160525 +- E 002 01.txt</pre>"
      ],
      "text/plain": [
       "Finished parsing file C:\\Users\\jdr248\\160525 +- E 002 01.txt"
      ]
     },
     "metadata": {},
     "output_type": "display_data"
    },
    {
     "data": {
      "text/html": [
       "<pre>Parsing completed. Parsed 100 lines in 0.020001 secs.</pre>"
      ],
      "text/plain": [
       "Parsing completed. Parsed 100 lines in 0.020001 secs."
      ]
     },
     "metadata": {},
     "output_type": "display_data"
    },
    {
     "name": "stdout",
     "output_type": "stream",
     "text": [
      "------------------------------------------------------\n",
      "Inferred types from first 100 line(s) of file as \n",
      "column_type_hints=[float,float,str,str,str,str,float,str,str,long,long,long,long,long,long]\n",
      "If parsing fails due to incorrect types, you can correct\n",
      "the inferred type list above and pass it to read_csv in\n",
      "the column_type_hints argument\n",
      "------------------------------------------------------\n"
     ]
    },
    {
     "data": {
      "text/html": [
       "<pre>Finished parsing file C:\\Users\\jdr248\\160525 +- E 002 01.txt</pre>"
      ],
      "text/plain": [
       "Finished parsing file C:\\Users\\jdr248\\160525 +- E 002 01.txt"
      ]
     },
     "metadata": {},
     "output_type": "display_data"
    },
    {
     "data": {
      "text/html": [
       "<pre>Parsing completed. Parsed 2582 lines in 0.015001 secs.</pre>"
      ],
      "text/plain": [
       "Parsing completed. Parsed 2582 lines in 0.015001 secs."
      ]
     },
     "metadata": {},
     "output_type": "display_data"
    },
    {
     "data": {
      "text/html": [
       "<pre>Starting brute force nearest neighbors model training.</pre>"
      ],
      "text/plain": [
       "Starting brute force nearest neighbors model training."
      ]
     },
     "metadata": {},
     "output_type": "display_data"
    },
    {
     "data": {
      "text/html": [
       "<pre>Starting blockwise similarity graph construction.</pre>"
      ],
      "text/plain": [
       "Starting blockwise similarity graph construction."
      ]
     },
     "metadata": {},
     "output_type": "display_data"
    },
    {
     "data": {
      "text/html": [
       "<pre>max rows per data block: 8190</pre>"
      ],
      "text/plain": [
       "max rows per data block: 8190"
      ]
     },
     "metadata": {},
     "output_type": "display_data"
    },
    {
     "data": {
      "text/html": [
       "<pre>number of reference data blocks: 4</pre>"
      ],
      "text/plain": [
       "number of reference data blocks: 4"
      ]
     },
     "metadata": {},
     "output_type": "display_data"
    },
    {
     "data": {
      "text/html": [
       "<pre>+---------+-------------+--------------+</pre>"
      ],
      "text/plain": [
       "+---------+-------------+--------------+"
      ]
     },
     "metadata": {},
     "output_type": "display_data"
    },
    {
     "data": {
      "text/html": [
       "<pre>| # Pairs | % Complete. | Elapsed Time |</pre>"
      ],
      "text/plain": [
       "| # Pairs | % Complete. | Elapsed Time |"
      ]
     },
     "metadata": {},
     "output_type": "display_data"
    },
    {
     "data": {
      "text/html": [
       "<pre>+---------+-------------+--------------+</pre>"
      ],
      "text/plain": [
       "+---------+-------------+--------------+"
      ]
     },
     "metadata": {},
     "output_type": "display_data"
    },
    {
     "data": {
      "text/html": [
       "<pre>| 1248720 | 29.9226     | 13.001ms     |</pre>"
      ],
      "text/plain": [
       "| 1248720 | 29.9226     | 13.001ms     |"
      ]
     },
     "metadata": {},
     "output_type": "display_data"
    },
    {
     "data": {
      "text/html": [
       "<pre>| 4173160 | 100         | 56.005ms     |</pre>"
      ],
      "text/plain": [
       "| 4173160 | 100         | 56.005ms     |"
      ]
     },
     "metadata": {},
     "output_type": "display_data"
    },
    {
     "data": {
      "text/html": [
       "<pre>+---------+-------------+--------------+</pre>"
      ],
      "text/plain": [
       "+---------+-------------+--------------+"
      ]
     },
     "metadata": {},
     "output_type": "display_data"
    },
    {
     "name": "stderr",
     "output_type": "stream",
     "text": [
      "[INFO] graphlab.toolkits.clustering.dbscan: Identifying noise points and core points.\n",
      "[INFO] graphlab.toolkits.clustering.dbscan: Constructing the core point similarity graph.\n"
     ]
    },
    {
     "data": {
      "text/html": [
       "<pre>+-----------------------------+</pre>"
      ],
      "text/plain": [
       "+-----------------------------+"
      ]
     },
     "metadata": {},
     "output_type": "display_data"
    },
    {
     "data": {
      "text/html": [
       "<pre>| Number of components merged |</pre>"
      ],
      "text/plain": [
       "| Number of components merged |"
      ]
     },
     "metadata": {},
     "output_type": "display_data"
    },
    {
     "data": {
      "text/html": [
       "<pre>+-----------------------------+</pre>"
      ],
      "text/plain": [
       "+-----------------------------+"
      ]
     },
     "metadata": {},
     "output_type": "display_data"
    },
    {
     "data": {
      "text/html": [
       "<pre>| 3063                        |</pre>"
      ],
      "text/plain": [
       "| 3063                        |"
      ]
     },
     "metadata": {},
     "output_type": "display_data"
    },
    {
     "data": {
      "text/html": [
       "<pre>| 0                           |</pre>"
      ],
      "text/plain": [
       "| 0                           |"
      ]
     },
     "metadata": {},
     "output_type": "display_data"
    },
    {
     "data": {
      "text/html": [
       "<pre>+-----------------------------+</pre>"
      ],
      "text/plain": [
       "+-----------------------------+"
      ]
     },
     "metadata": {},
     "output_type": "display_data"
    },
    {
     "name": "stderr",
     "output_type": "stream",
     "text": [
      "[INFO] graphlab.toolkits.clustering.dbscan: Processing boundary points.\n"
     ]
    },
    {
     "data": {
      "text/html": [
       "<pre>Starting brute force nearest neighbors model training.</pre>"
      ],
      "text/plain": [
       "Starting brute force nearest neighbors model training."
      ]
     },
     "metadata": {},
     "output_type": "display_data"
    },
    {
     "data": {
      "text/html": [
       "<pre>Starting blockwise similarity graph construction.</pre>"
      ],
      "text/plain": [
       "Starting blockwise similarity graph construction."
      ]
     },
     "metadata": {},
     "output_type": "display_data"
    },
    {
     "data": {
      "text/html": [
       "<pre>max rows per data block: 8190</pre>"
      ],
      "text/plain": [
       "max rows per data block: 8190"
      ]
     },
     "metadata": {},
     "output_type": "display_data"
    },
    {
     "data": {
      "text/html": [
       "<pre>number of reference data blocks: 4</pre>"
      ],
      "text/plain": [
       "number of reference data blocks: 4"
      ]
     },
     "metadata": {},
     "output_type": "display_data"
    },
    {
     "data": {
      "text/html": [
       "<pre>+---------+-------------+--------------+</pre>"
      ],
      "text/plain": [
       "+---------+-------------+--------------+"
      ]
     },
     "metadata": {},
     "output_type": "display_data"
    },
    {
     "data": {
      "text/html": [
       "<pre>| # Pairs | % Complete. | Elapsed Time |</pre>"
      ],
      "text/plain": [
       "| # Pairs | % Complete. | Elapsed Time |"
      ]
     },
     "metadata": {},
     "output_type": "display_data"
    },
    {
     "data": {
      "text/html": [
       "<pre>+---------+-------------+--------------+</pre>"
      ],
      "text/plain": [
       "+---------+-------------+--------------+"
      ]
     },
     "metadata": {},
     "output_type": "display_data"
    },
    {
     "data": {
      "text/html": [
       "<pre>| 1248720 | 29.9226     | 4ms          |</pre>"
      ],
      "text/plain": [
       "| 1248720 | 29.9226     | 4ms          |"
      ]
     },
     "metadata": {},
     "output_type": "display_data"
    },
    {
     "data": {
      "text/html": [
       "<pre>| 4173160 | 100         | 53.005ms     |</pre>"
      ],
      "text/plain": [
       "| 4173160 | 100         | 53.005ms     |"
      ]
     },
     "metadata": {},
     "output_type": "display_data"
    },
    {
     "data": {
      "text/html": [
       "<pre>+---------+-------------+--------------+</pre>"
      ],
      "text/plain": [
       "+---------+-------------+--------------+"
      ]
     },
     "metadata": {},
     "output_type": "display_data"
    },
    {
     "name": "stderr",
     "output_type": "stream",
     "text": [
      "[INFO] graphlab.toolkits.clustering.dbscan: Identifying noise points and core points.\n",
      "[INFO] graphlab.toolkits.clustering.dbscan: Constructing the core point similarity graph.\n"
     ]
    },
    {
     "data": {
      "text/html": [
       "<pre>+-----------------------------+</pre>"
      ],
      "text/plain": [
       "+-----------------------------+"
      ]
     },
     "metadata": {},
     "output_type": "display_data"
    },
    {
     "data": {
      "text/html": [
       "<pre>| Number of components merged |</pre>"
      ],
      "text/plain": [
       "| Number of components merged |"
      ]
     },
     "metadata": {},
     "output_type": "display_data"
    },
    {
     "data": {
      "text/html": [
       "<pre>+-----------------------------+</pre>"
      ],
      "text/plain": [
       "+-----------------------------+"
      ]
     },
     "metadata": {},
     "output_type": "display_data"
    },
    {
     "data": {
      "text/html": [
       "<pre>| 5872                        |</pre>"
      ],
      "text/plain": [
       "| 5872                        |"
      ]
     },
     "metadata": {},
     "output_type": "display_data"
    },
    {
     "data": {
      "text/html": [
       "<pre>| 0                           |</pre>"
      ],
      "text/plain": [
       "| 0                           |"
      ]
     },
     "metadata": {},
     "output_type": "display_data"
    },
    {
     "data": {
      "text/html": [
       "<pre>+-----------------------------+</pre>"
      ],
      "text/plain": [
       "+-----------------------------+"
      ]
     },
     "metadata": {},
     "output_type": "display_data"
    },
    {
     "name": "stderr",
     "output_type": "stream",
     "text": [
      "[INFO] graphlab.toolkits.clustering.dbscan: Processing boundary points.\n"
     ]
    },
    {
     "data": {
      "text/html": [
       "<pre>Finished parsing file C:\\Users\\jdr248\\160525 +- E 002 02.txt</pre>"
      ],
      "text/plain": [
       "Finished parsing file C:\\Users\\jdr248\\160525 +- E 002 02.txt"
      ]
     },
     "metadata": {},
     "output_type": "display_data"
    },
    {
     "data": {
      "text/html": [
       "<pre>Parsing completed. Parsed 100 lines in 0.01 secs.</pre>"
      ],
      "text/plain": [
       "Parsing completed. Parsed 100 lines in 0.01 secs."
      ]
     },
     "metadata": {},
     "output_type": "display_data"
    },
    {
     "name": "stdout",
     "output_type": "stream",
     "text": [
      "------------------------------------------------------\n",
      "Inferred types from first 100 line(s) of file as \n",
      "column_type_hints=[float,float,str,str,str,str,float,str,str,long,long,long,long,long,long]\n",
      "If parsing fails due to incorrect types, you can correct\n",
      "the inferred type list above and pass it to read_csv in\n",
      "the column_type_hints argument\n",
      "------------------------------------------------------\n"
     ]
    },
    {
     "data": {
      "text/html": [
       "<pre>Finished parsing file C:\\Users\\jdr248\\160525 +- E 002 02.txt</pre>"
      ],
      "text/plain": [
       "Finished parsing file C:\\Users\\jdr248\\160525 +- E 002 02.txt"
      ]
     },
     "metadata": {},
     "output_type": "display_data"
    },
    {
     "data": {
      "text/html": [
       "<pre>Parsing completed. Parsed 729 lines in 0.012002 secs.</pre>"
      ],
      "text/plain": [
       "Parsing completed. Parsed 729 lines in 0.012002 secs."
      ]
     },
     "metadata": {},
     "output_type": "display_data"
    },
    {
     "data": {
      "text/html": [
       "<pre>Starting brute force nearest neighbors model training.</pre>"
      ],
      "text/plain": [
       "Starting brute force nearest neighbors model training."
      ]
     },
     "metadata": {},
     "output_type": "display_data"
    },
    {
     "data": {
      "text/html": [
       "<pre>Starting blockwise similarity graph construction.</pre>"
      ],
      "text/plain": [
       "Starting blockwise similarity graph construction."
      ]
     },
     "metadata": {},
     "output_type": "display_data"
    },
    {
     "data": {
      "text/html": [
       "<pre>max rows per data block: 8190</pre>"
      ],
      "text/plain": [
       "max rows per data block: 8190"
      ]
     },
     "metadata": {},
     "output_type": "display_data"
    },
    {
     "data": {
      "text/html": [
       "<pre>number of reference data blocks: 4</pre>"
      ],
      "text/plain": [
       "number of reference data blocks: 4"
      ]
     },
     "metadata": {},
     "output_type": "display_data"
    },
    {
     "data": {
      "text/html": [
       "<pre>+---------+-------------+--------------+</pre>"
      ],
      "text/plain": [
       "+---------+-------------+--------------+"
      ]
     },
     "metadata": {},
     "output_type": "display_data"
    },
    {
     "data": {
      "text/html": [
       "<pre>| # Pairs | % Complete. | Elapsed Time |</pre>"
      ],
      "text/plain": [
       "| # Pairs | % Complete. | Elapsed Time |"
      ]
     },
     "metadata": {},
     "output_type": "display_data"
    },
    {
     "data": {
      "text/html": [
       "<pre>+---------+-------------+--------------+</pre>"
      ],
      "text/plain": [
       "+---------+-------------+--------------+"
      ]
     },
     "metadata": {},
     "output_type": "display_data"
    },
    {
     "data": {
      "text/html": [
       "<pre>| 99372   | 29.673      | 1ms          |</pre>"
      ],
      "text/plain": [
       "| 99372   | 29.673      | 1ms          |"
      ]
     },
     "metadata": {},
     "output_type": "display_data"
    },
    {
     "data": {
      "text/html": [
       "<pre>| 334890  | 100         | 2ms          |</pre>"
      ],
      "text/plain": [
       "| 334890  | 100         | 2ms          |"
      ]
     },
     "metadata": {},
     "output_type": "display_data"
    },
    {
     "data": {
      "text/html": [
       "<pre>+---------+-------------+--------------+</pre>"
      ],
      "text/plain": [
       "+---------+-------------+--------------+"
      ]
     },
     "metadata": {},
     "output_type": "display_data"
    },
    {
     "name": "stderr",
     "output_type": "stream",
     "text": [
      "[INFO] graphlab.toolkits.clustering.dbscan: Identifying noise points and core points.\n",
      "[INFO] graphlab.toolkits.clustering.dbscan: Constructing the core point similarity graph.\n"
     ]
    },
    {
     "data": {
      "text/html": [
       "<pre>+-----------------------------+</pre>"
      ],
      "text/plain": [
       "+-----------------------------+"
      ]
     },
     "metadata": {},
     "output_type": "display_data"
    },
    {
     "data": {
      "text/html": [
       "<pre>| Number of components merged |</pre>"
      ],
      "text/plain": [
       "| Number of components merged |"
      ]
     },
     "metadata": {},
     "output_type": "display_data"
    },
    {
     "data": {
      "text/html": [
       "<pre>+-----------------------------+</pre>"
      ],
      "text/plain": [
       "+-----------------------------+"
      ]
     },
     "metadata": {},
     "output_type": "display_data"
    },
    {
     "data": {
      "text/html": [
       "<pre>| 439                         |</pre>"
      ],
      "text/plain": [
       "| 439                         |"
      ]
     },
     "metadata": {},
     "output_type": "display_data"
    },
    {
     "data": {
      "text/html": [
       "<pre>| 0                           |</pre>"
      ],
      "text/plain": [
       "| 0                           |"
      ]
     },
     "metadata": {},
     "output_type": "display_data"
    },
    {
     "data": {
      "text/html": [
       "<pre>+-----------------------------+</pre>"
      ],
      "text/plain": [
       "+-----------------------------+"
      ]
     },
     "metadata": {},
     "output_type": "display_data"
    },
    {
     "name": "stderr",
     "output_type": "stream",
     "text": [
      "[INFO] graphlab.toolkits.clustering.dbscan: Processing boundary points.\n"
     ]
    },
    {
     "data": {
      "text/html": [
       "<pre>Starting brute force nearest neighbors model training.</pre>"
      ],
      "text/plain": [
       "Starting brute force nearest neighbors model training."
      ]
     },
     "metadata": {},
     "output_type": "display_data"
    },
    {
     "data": {
      "text/html": [
       "<pre>Starting blockwise similarity graph construction.</pre>"
      ],
      "text/plain": [
       "Starting blockwise similarity graph construction."
      ]
     },
     "metadata": {},
     "output_type": "display_data"
    },
    {
     "data": {
      "text/html": [
       "<pre>max rows per data block: 8190</pre>"
      ],
      "text/plain": [
       "max rows per data block: 8190"
      ]
     },
     "metadata": {},
     "output_type": "display_data"
    },
    {
     "data": {
      "text/html": [
       "<pre>number of reference data blocks: 4</pre>"
      ],
      "text/plain": [
       "number of reference data blocks: 4"
      ]
     },
     "metadata": {},
     "output_type": "display_data"
    },
    {
     "data": {
      "text/html": [
       "<pre>+---------+-------------+--------------+</pre>"
      ],
      "text/plain": [
       "+---------+-------------+--------------+"
      ]
     },
     "metadata": {},
     "output_type": "display_data"
    },
    {
     "data": {
      "text/html": [
       "<pre>| # Pairs | % Complete. | Elapsed Time |</pre>"
      ],
      "text/plain": [
       "| # Pairs | % Complete. | Elapsed Time |"
      ]
     },
     "metadata": {},
     "output_type": "display_data"
    },
    {
     "data": {
      "text/html": [
       "<pre>+---------+-------------+--------------+</pre>"
      ],
      "text/plain": [
       "+---------+-------------+--------------+"
      ]
     },
     "metadata": {},
     "output_type": "display_data"
    },
    {
     "data": {
      "text/html": [
       "<pre>| 99372   | 29.673      | 0us          |</pre>"
      ],
      "text/plain": [
       "| 99372   | 29.673      | 0us          |"
      ]
     },
     "metadata": {},
     "output_type": "display_data"
    },
    {
     "data": {
      "text/html": [
       "<pre>| 334890  | 100         | 0us          |</pre>"
      ],
      "text/plain": [
       "| 334890  | 100         | 0us          |"
      ]
     },
     "metadata": {},
     "output_type": "display_data"
    },
    {
     "data": {
      "text/html": [
       "<pre>+---------+-------------+--------------+</pre>"
      ],
      "text/plain": [
       "+---------+-------------+--------------+"
      ]
     },
     "metadata": {},
     "output_type": "display_data"
    },
    {
     "name": "stderr",
     "output_type": "stream",
     "text": [
      "[INFO] graphlab.toolkits.clustering.dbscan: Identifying noise points and core points.\n",
      "[INFO] graphlab.toolkits.clustering.dbscan: Constructing the core point similarity graph.\n"
     ]
    },
    {
     "data": {
      "text/html": [
       "<pre>+-----------------------------+</pre>"
      ],
      "text/plain": [
       "+-----------------------------+"
      ]
     },
     "metadata": {},
     "output_type": "display_data"
    },
    {
     "data": {
      "text/html": [
       "<pre>| Number of components merged |</pre>"
      ],
      "text/plain": [
       "| Number of components merged |"
      ]
     },
     "metadata": {},
     "output_type": "display_data"
    },
    {
     "data": {
      "text/html": [
       "<pre>+-----------------------------+</pre>"
      ],
      "text/plain": [
       "+-----------------------------+"
      ]
     },
     "metadata": {},
     "output_type": "display_data"
    },
    {
     "data": {
      "text/html": [
       "<pre>| 857                         |</pre>"
      ],
      "text/plain": [
       "| 857                         |"
      ]
     },
     "metadata": {},
     "output_type": "display_data"
    },
    {
     "data": {
      "text/html": [
       "<pre>| 0                           |</pre>"
      ],
      "text/plain": [
       "| 0                           |"
      ]
     },
     "metadata": {},
     "output_type": "display_data"
    },
    {
     "data": {
      "text/html": [
       "<pre>+-----------------------------+</pre>"
      ],
      "text/plain": [
       "+-----------------------------+"
      ]
     },
     "metadata": {},
     "output_type": "display_data"
    },
    {
     "name": "stderr",
     "output_type": "stream",
     "text": [
      "[INFO] graphlab.toolkits.clustering.dbscan: Processing boundary points.\n"
     ]
    },
    {
     "data": {
      "text/html": [
       "<pre>Finished parsing file C:\\Users\\jdr248\\160525 +- E 003.txt</pre>"
      ],
      "text/plain": [
       "Finished parsing file C:\\Users\\jdr248\\160525 +- E 003.txt"
      ]
     },
     "metadata": {},
     "output_type": "display_data"
    },
    {
     "data": {
      "text/html": [
       "<pre>Parsing completed. Parsed 100 lines in 0.030002 secs.</pre>"
      ],
      "text/plain": [
       "Parsing completed. Parsed 100 lines in 0.030002 secs."
      ]
     },
     "metadata": {},
     "output_type": "display_data"
    },
    {
     "name": "stdout",
     "output_type": "stream",
     "text": [
      "------------------------------------------------------\n",
      "Inferred types from first 100 line(s) of file as \n",
      "column_type_hints=[float,float,str,str,str,str,float,str,str,long,long,long,long,long,long]\n",
      "If parsing fails due to incorrect types, you can correct\n",
      "the inferred type list above and pass it to read_csv in\n",
      "the column_type_hints argument\n",
      "------------------------------------------------------\n"
     ]
    },
    {
     "data": {
      "text/html": [
       "<pre>Finished parsing file C:\\Users\\jdr248\\160525 +- E 003.txt</pre>"
      ],
      "text/plain": [
       "Finished parsing file C:\\Users\\jdr248\\160525 +- E 003.txt"
      ]
     },
     "metadata": {},
     "output_type": "display_data"
    },
    {
     "data": {
      "text/html": [
       "<pre>Parsing completed. Parsed 5379 lines in 0.033003 secs.</pre>"
      ],
      "text/plain": [
       "Parsing completed. Parsed 5379 lines in 0.033003 secs."
      ]
     },
     "metadata": {},
     "output_type": "display_data"
    },
    {
     "data": {
      "text/html": [
       "<pre>Starting brute force nearest neighbors model training.</pre>"
      ],
      "text/plain": [
       "Starting brute force nearest neighbors model training."
      ]
     },
     "metadata": {},
     "output_type": "display_data"
    },
    {
     "data": {
      "text/html": [
       "<pre>Starting blockwise similarity graph construction.</pre>"
      ],
      "text/plain": [
       "Starting blockwise similarity graph construction."
      ]
     },
     "metadata": {},
     "output_type": "display_data"
    },
    {
     "data": {
      "text/html": [
       "<pre>max rows per data block: 8190</pre>"
      ],
      "text/plain": [
       "max rows per data block: 8190"
      ]
     },
     "metadata": {},
     "output_type": "display_data"
    },
    {
     "data": {
      "text/html": [
       "<pre>number of reference data blocks: 4</pre>"
      ],
      "text/plain": [
       "number of reference data blocks: 4"
      ]
     },
     "metadata": {},
     "output_type": "display_data"
    },
    {
     "data": {
      "text/html": [
       "<pre>+---------+-------------+--------------+</pre>"
      ],
      "text/plain": [
       "+---------+-------------+--------------+"
      ]
     },
     "metadata": {},
     "output_type": "display_data"
    },
    {
     "data": {
      "text/html": [
       "<pre>| # Pairs | % Complete. | Elapsed Time |</pre>"
      ],
      "text/plain": [
       "| # Pairs | % Complete. | Elapsed Time |"
      ]
     },
     "metadata": {},
     "output_type": "display_data"
    },
    {
     "data": {
      "text/html": [
       "<pre>+---------+-------------+--------------+</pre>"
      ],
      "text/plain": [
       "+---------+-------------+--------------+"
      ]
     },
     "metadata": {},
     "output_type": "display_data"
    },
    {
     "data": {
      "text/html": [
       "<pre>| 5423041 | 29.9777     | 64.007ms     |</pre>"
      ],
      "text/plain": [
       "| 5423041 | 29.9777     | 64.007ms     |"
      ]
     },
     "metadata": {},
     "output_type": "display_data"
    },
    {
     "data": {
      "text/html": [
       "<pre>| 2e+007  | 100         | 262.024ms    |</pre>"
      ],
      "text/plain": [
       "| 2e+007  | 100         | 262.024ms    |"
      ]
     },
     "metadata": {},
     "output_type": "display_data"
    },
    {
     "data": {
      "text/html": [
       "<pre>+---------+-------------+--------------+</pre>"
      ],
      "text/plain": [
       "+---------+-------------+--------------+"
      ]
     },
     "metadata": {},
     "output_type": "display_data"
    },
    {
     "name": "stderr",
     "output_type": "stream",
     "text": [
      "[INFO] graphlab.toolkits.clustering.dbscan: Identifying noise points and core points.\n",
      "[INFO] graphlab.toolkits.clustering.dbscan: Constructing the core point similarity graph.\n"
     ]
    },
    {
     "data": {
      "text/html": [
       "<pre>+-----------------------------+</pre>"
      ],
      "text/plain": [
       "+-----------------------------+"
      ]
     },
     "metadata": {},
     "output_type": "display_data"
    },
    {
     "data": {
      "text/html": [
       "<pre>| Number of components merged |</pre>"
      ],
      "text/plain": [
       "| Number of components merged |"
      ]
     },
     "metadata": {},
     "output_type": "display_data"
    },
    {
     "data": {
      "text/html": [
       "<pre>+-----------------------------+</pre>"
      ],
      "text/plain": [
       "+-----------------------------+"
      ]
     },
     "metadata": {},
     "output_type": "display_data"
    },
    {
     "data": {
      "text/html": [
       "<pre>| 10963                       |</pre>"
      ],
      "text/plain": [
       "| 10963                       |"
      ]
     },
     "metadata": {},
     "output_type": "display_data"
    },
    {
     "data": {
      "text/html": [
       "<pre>| 0                           |</pre>"
      ],
      "text/plain": [
       "| 0                           |"
      ]
     },
     "metadata": {},
     "output_type": "display_data"
    },
    {
     "data": {
      "text/html": [
       "<pre>+-----------------------------+</pre>"
      ],
      "text/plain": [
       "+-----------------------------+"
      ]
     },
     "metadata": {},
     "output_type": "display_data"
    },
    {
     "name": "stderr",
     "output_type": "stream",
     "text": [
      "[INFO] graphlab.toolkits.clustering.dbscan: Processing boundary points.\n"
     ]
    },
    {
     "data": {
      "text/html": [
       "<pre>Starting brute force nearest neighbors model training.</pre>"
      ],
      "text/plain": [
       "Starting brute force nearest neighbors model training."
      ]
     },
     "metadata": {},
     "output_type": "display_data"
    },
    {
     "data": {
      "text/html": [
       "<pre>Starting blockwise similarity graph construction.</pre>"
      ],
      "text/plain": [
       "Starting blockwise similarity graph construction."
      ]
     },
     "metadata": {},
     "output_type": "display_data"
    },
    {
     "data": {
      "text/html": [
       "<pre>max rows per data block: 8190</pre>"
      ],
      "text/plain": [
       "max rows per data block: 8190"
      ]
     },
     "metadata": {},
     "output_type": "display_data"
    },
    {
     "data": {
      "text/html": [
       "<pre>number of reference data blocks: 4</pre>"
      ],
      "text/plain": [
       "number of reference data blocks: 4"
      ]
     },
     "metadata": {},
     "output_type": "display_data"
    },
    {
     "data": {
      "text/html": [
       "<pre>+---------+-------------+--------------+</pre>"
      ],
      "text/plain": [
       "+---------+-------------+--------------+"
      ]
     },
     "metadata": {},
     "output_type": "display_data"
    },
    {
     "data": {
      "text/html": [
       "<pre>| # Pairs | % Complete. | Elapsed Time |</pre>"
      ],
      "text/plain": [
       "| # Pairs | % Complete. | Elapsed Time |"
      ]
     },
     "metadata": {},
     "output_type": "display_data"
    },
    {
     "data": {
      "text/html": [
       "<pre>+---------+-------------+--------------+</pre>"
      ],
      "text/plain": [
       "+---------+-------------+--------------+"
      ]
     },
     "metadata": {},
     "output_type": "display_data"
    },
    {
     "data": {
      "text/html": [
       "<pre>| 5423041 | 29.9777     | 54.005ms     |</pre>"
      ],
      "text/plain": [
       "| 5423041 | 29.9777     | 54.005ms     |"
      ]
     },
     "metadata": {},
     "output_type": "display_data"
    },
    {
     "data": {
      "text/html": [
       "<pre>| 2e+007  | 100         | 231.02ms     |</pre>"
      ],
      "text/plain": [
       "| 2e+007  | 100         | 231.02ms     |"
      ]
     },
     "metadata": {},
     "output_type": "display_data"
    },
    {
     "data": {
      "text/html": [
       "<pre>+---------+-------------+--------------+</pre>"
      ],
      "text/plain": [
       "+---------+-------------+--------------+"
      ]
     },
     "metadata": {},
     "output_type": "display_data"
    },
    {
     "name": "stderr",
     "output_type": "stream",
     "text": [
      "[INFO] graphlab.toolkits.clustering.dbscan: Identifying noise points and core points.\n",
      "[INFO] graphlab.toolkits.clustering.dbscan: Constructing the core point similarity graph.\n"
     ]
    },
    {
     "data": {
      "text/html": [
       "<pre>+-----------------------------+</pre>"
      ],
      "text/plain": [
       "+-----------------------------+"
      ]
     },
     "metadata": {},
     "output_type": "display_data"
    },
    {
     "data": {
      "text/html": [
       "<pre>| Number of components merged |</pre>"
      ],
      "text/plain": [
       "| Number of components merged |"
      ]
     },
     "metadata": {},
     "output_type": "display_data"
    },
    {
     "data": {
      "text/html": [
       "<pre>+-----------------------------+</pre>"
      ],
      "text/plain": [
       "+-----------------------------+"
      ]
     },
     "metadata": {},
     "output_type": "display_data"
    },
    {
     "data": {
      "text/html": [
       "<pre>| 16578                       |</pre>"
      ],
      "text/plain": [
       "| 16578                       |"
      ]
     },
     "metadata": {},
     "output_type": "display_data"
    },
    {
     "data": {
      "text/html": [
       "<pre>| 0                           |</pre>"
      ],
      "text/plain": [
       "| 0                           |"
      ]
     },
     "metadata": {},
     "output_type": "display_data"
    },
    {
     "data": {
      "text/html": [
       "<pre>+-----------------------------+</pre>"
      ],
      "text/plain": [
       "+-----------------------------+"
      ]
     },
     "metadata": {},
     "output_type": "display_data"
    },
    {
     "name": "stderr",
     "output_type": "stream",
     "text": [
      "[INFO] graphlab.toolkits.clustering.dbscan: Processing boundary points.\n"
     ]
    },
    {
     "data": {
      "text/html": [
       "<pre>Finished parsing file C:\\Users\\jdr248\\160525 +- E 004.txt</pre>"
      ],
      "text/plain": [
       "Finished parsing file C:\\Users\\jdr248\\160525 +- E 004.txt"
      ]
     },
     "metadata": {},
     "output_type": "display_data"
    },
    {
     "data": {
      "text/html": [
       "<pre>Parsing completed. Parsed 100 lines in 0.020001 secs.</pre>"
      ],
      "text/plain": [
       "Parsing completed. Parsed 100 lines in 0.020001 secs."
      ]
     },
     "metadata": {},
     "output_type": "display_data"
    },
    {
     "name": "stdout",
     "output_type": "stream",
     "text": [
      "------------------------------------------------------\n",
      "Inferred types from first 100 line(s) of file as \n",
      "column_type_hints=[float,float,str,str,str,str,float,str,str,long,long,long,long,long,long]\n",
      "If parsing fails due to incorrect types, you can correct\n",
      "the inferred type list above and pass it to read_csv in\n",
      "the column_type_hints argument\n",
      "------------------------------------------------------\n"
     ]
    },
    {
     "data": {
      "text/html": [
       "<pre>Finished parsing file C:\\Users\\jdr248\\160525 +- E 004.txt</pre>"
      ],
      "text/plain": [
       "Finished parsing file C:\\Users\\jdr248\\160525 +- E 004.txt"
      ]
     },
     "metadata": {},
     "output_type": "display_data"
    },
    {
     "data": {
      "text/html": [
       "<pre>Parsing completed. Parsed 4017 lines in 0.017002 secs.</pre>"
      ],
      "text/plain": [
       "Parsing completed. Parsed 4017 lines in 0.017002 secs."
      ]
     },
     "metadata": {},
     "output_type": "display_data"
    },
    {
     "data": {
      "text/html": [
       "<pre>Starting brute force nearest neighbors model training.</pre>"
      ],
      "text/plain": [
       "Starting brute force nearest neighbors model training."
      ]
     },
     "metadata": {},
     "output_type": "display_data"
    },
    {
     "data": {
      "text/html": [
       "<pre>Starting blockwise similarity graph construction.</pre>"
      ],
      "text/plain": [
       "Starting blockwise similarity graph construction."
      ]
     },
     "metadata": {},
     "output_type": "display_data"
    },
    {
     "data": {
      "text/html": [
       "<pre>max rows per data block: 8190</pre>"
      ],
      "text/plain": [
       "max rows per data block: 8190"
      ]
     },
     "metadata": {},
     "output_type": "display_data"
    },
    {
     "data": {
      "text/html": [
       "<pre>number of reference data blocks: 4</pre>"
      ],
      "text/plain": [
       "number of reference data blocks: 4"
      ]
     },
     "metadata": {},
     "output_type": "display_data"
    },
    {
     "data": {
      "text/html": [
       "<pre>+---------+-------------+--------------+</pre>"
      ],
      "text/plain": [
       "+---------+-------------+--------------+"
      ]
     },
     "metadata": {},
     "output_type": "display_data"
    },
    {
     "data": {
      "text/html": [
       "<pre>| # Pairs | % Complete. | Elapsed Time |</pre>"
      ],
      "text/plain": [
       "| # Pairs | % Complete. | Elapsed Time |"
      ]
     },
     "metadata": {},
     "output_type": "display_data"
    },
    {
     "data": {
      "text/html": [
       "<pre>+---------+-------------+--------------+</pre>"
      ],
      "text/plain": [
       "+---------+-------------+--------------+"
      ]
     },
     "metadata": {},
     "output_type": "display_data"
    },
    {
     "data": {
      "text/html": [
       "<pre>| 3024048 | 29.9403     | 36.003ms     |</pre>"
      ],
      "text/plain": [
       "| 3024048 | 29.9403     | 36.003ms     |"
      ]
     },
     "metadata": {},
     "output_type": "display_data"
    },
    {
     "data": {
      "text/html": [
       "<pre>| 1e+007  | 100         | 135.013ms    |</pre>"
      ],
      "text/plain": [
       "| 1e+007  | 100         | 135.013ms    |"
      ]
     },
     "metadata": {},
     "output_type": "display_data"
    },
    {
     "data": {
      "text/html": [
       "<pre>+---------+-------------+--------------+</pre>"
      ],
      "text/plain": [
       "+---------+-------------+--------------+"
      ]
     },
     "metadata": {},
     "output_type": "display_data"
    },
    {
     "name": "stderr",
     "output_type": "stream",
     "text": [
      "[INFO] graphlab.toolkits.clustering.dbscan: Identifying noise points and core points.\n",
      "[INFO] graphlab.toolkits.clustering.dbscan: Constructing the core point similarity graph.\n"
     ]
    },
    {
     "data": {
      "text/html": [
       "<pre>+-----------------------------+</pre>"
      ],
      "text/plain": [
       "+-----------------------------+"
      ]
     },
     "metadata": {},
     "output_type": "display_data"
    },
    {
     "data": {
      "text/html": [
       "<pre>| Number of components merged |</pre>"
      ],
      "text/plain": [
       "| Number of components merged |"
      ]
     },
     "metadata": {},
     "output_type": "display_data"
    },
    {
     "data": {
      "text/html": [
       "<pre>+-----------------------------+</pre>"
      ],
      "text/plain": [
       "+-----------------------------+"
      ]
     },
     "metadata": {},
     "output_type": "display_data"
    },
    {
     "data": {
      "text/html": [
       "<pre>| 5488                        |</pre>"
      ],
      "text/plain": [
       "| 5488                        |"
      ]
     },
     "metadata": {},
     "output_type": "display_data"
    },
    {
     "data": {
      "text/html": [
       "<pre>| 0                           |</pre>"
      ],
      "text/plain": [
       "| 0                           |"
      ]
     },
     "metadata": {},
     "output_type": "display_data"
    },
    {
     "data": {
      "text/html": [
       "<pre>+-----------------------------+</pre>"
      ],
      "text/plain": [
       "+-----------------------------+"
      ]
     },
     "metadata": {},
     "output_type": "display_data"
    },
    {
     "name": "stderr",
     "output_type": "stream",
     "text": [
      "[INFO] graphlab.toolkits.clustering.dbscan: Processing boundary points.\n"
     ]
    },
    {
     "data": {
      "text/html": [
       "<pre>Starting brute force nearest neighbors model training.</pre>"
      ],
      "text/plain": [
       "Starting brute force nearest neighbors model training."
      ]
     },
     "metadata": {},
     "output_type": "display_data"
    },
    {
     "data": {
      "text/html": [
       "<pre>Starting blockwise similarity graph construction.</pre>"
      ],
      "text/plain": [
       "Starting blockwise similarity graph construction."
      ]
     },
     "metadata": {},
     "output_type": "display_data"
    },
    {
     "data": {
      "text/html": [
       "<pre>max rows per data block: 8190</pre>"
      ],
      "text/plain": [
       "max rows per data block: 8190"
      ]
     },
     "metadata": {},
     "output_type": "display_data"
    },
    {
     "data": {
      "text/html": [
       "<pre>number of reference data blocks: 4</pre>"
      ],
      "text/plain": [
       "number of reference data blocks: 4"
      ]
     },
     "metadata": {},
     "output_type": "display_data"
    },
    {
     "data": {
      "text/html": [
       "<pre>+---------+-------------+--------------+</pre>"
      ],
      "text/plain": [
       "+---------+-------------+--------------+"
      ]
     },
     "metadata": {},
     "output_type": "display_data"
    },
    {
     "data": {
      "text/html": [
       "<pre>| # Pairs | % Complete. | Elapsed Time |</pre>"
      ],
      "text/plain": [
       "| # Pairs | % Complete. | Elapsed Time |"
      ]
     },
     "metadata": {},
     "output_type": "display_data"
    },
    {
     "data": {
      "text/html": [
       "<pre>+---------+-------------+--------------+</pre>"
      ],
      "text/plain": [
       "+---------+-------------+--------------+"
      ]
     },
     "metadata": {},
     "output_type": "display_data"
    },
    {
     "data": {
      "text/html": [
       "<pre>| 3024048 | 29.9403     | 23.002ms     |</pre>"
      ],
      "text/plain": [
       "| 3024048 | 29.9403     | 23.002ms     |"
      ]
     },
     "metadata": {},
     "output_type": "display_data"
    },
    {
     "data": {
      "text/html": [
       "<pre>| 1e+007  | 100         | 142.013ms    |</pre>"
      ],
      "text/plain": [
       "| 1e+007  | 100         | 142.013ms    |"
      ]
     },
     "metadata": {},
     "output_type": "display_data"
    },
    {
     "data": {
      "text/html": [
       "<pre>+---------+-------------+--------------+</pre>"
      ],
      "text/plain": [
       "+---------+-------------+--------------+"
      ]
     },
     "metadata": {},
     "output_type": "display_data"
    },
    {
     "name": "stderr",
     "output_type": "stream",
     "text": [
      "[INFO] graphlab.toolkits.clustering.dbscan: Identifying noise points and core points.\n",
      "[INFO] graphlab.toolkits.clustering.dbscan: Constructing the core point similarity graph.\n"
     ]
    },
    {
     "data": {
      "text/html": [
       "<pre>+-----------------------------+</pre>"
      ],
      "text/plain": [
       "+-----------------------------+"
      ]
     },
     "metadata": {},
     "output_type": "display_data"
    },
    {
     "data": {
      "text/html": [
       "<pre>| Number of components merged |</pre>"
      ],
      "text/plain": [
       "| Number of components merged |"
      ]
     },
     "metadata": {},
     "output_type": "display_data"
    },
    {
     "data": {
      "text/html": [
       "<pre>+-----------------------------+</pre>"
      ],
      "text/plain": [
       "+-----------------------------+"
      ]
     },
     "metadata": {},
     "output_type": "display_data"
    },
    {
     "data": {
      "text/html": [
       "<pre>| 10841                       |</pre>"
      ],
      "text/plain": [
       "| 10841                       |"
      ]
     },
     "metadata": {},
     "output_type": "display_data"
    },
    {
     "data": {
      "text/html": [
       "<pre>| 0                           |</pre>"
      ],
      "text/plain": [
       "| 0                           |"
      ]
     },
     "metadata": {},
     "output_type": "display_data"
    },
    {
     "data": {
      "text/html": [
       "<pre>+-----------------------------+</pre>"
      ],
      "text/plain": [
       "+-----------------------------+"
      ]
     },
     "metadata": {},
     "output_type": "display_data"
    },
    {
     "name": "stderr",
     "output_type": "stream",
     "text": [
      "[INFO] graphlab.toolkits.clustering.dbscan: Processing boundary points.\n"
     ]
    },
    {
     "data": {
      "text/html": [
       "<pre>Finished parsing file C:\\Users\\jdr248\\160525 +- E 005 01.txt</pre>"
      ],
      "text/plain": [
       "Finished parsing file C:\\Users\\jdr248\\160525 +- E 005 01.txt"
      ]
     },
     "metadata": {},
     "output_type": "display_data"
    },
    {
     "data": {
      "text/html": [
       "<pre>Parsing completed. Parsed 100 lines in 0.020002 secs.</pre>"
      ],
      "text/plain": [
       "Parsing completed. Parsed 100 lines in 0.020002 secs."
      ]
     },
     "metadata": {},
     "output_type": "display_data"
    },
    {
     "name": "stdout",
     "output_type": "stream",
     "text": [
      "------------------------------------------------------\n",
      "Inferred types from first 100 line(s) of file as \n",
      "column_type_hints=[float,float,str,str,str,str,float,str,str,long,long,long,long,long,long]\n",
      "If parsing fails due to incorrect types, you can correct\n",
      "the inferred type list above and pass it to read_csv in\n",
      "the column_type_hints argument\n",
      "------------------------------------------------------\n"
     ]
    },
    {
     "data": {
      "text/html": [
       "<pre>Finished parsing file C:\\Users\\jdr248\\160525 +- E 005 01.txt</pre>"
      ],
      "text/plain": [
       "Finished parsing file C:\\Users\\jdr248\\160525 +- E 005 01.txt"
      ]
     },
     "metadata": {},
     "output_type": "display_data"
    },
    {
     "data": {
      "text/html": [
       "<pre>Parsing completed. Parsed 3049 lines in 0.016001 secs.</pre>"
      ],
      "text/plain": [
       "Parsing completed. Parsed 3049 lines in 0.016001 secs."
      ]
     },
     "metadata": {},
     "output_type": "display_data"
    },
    {
     "data": {
      "text/html": [
       "<pre>Starting brute force nearest neighbors model training.</pre>"
      ],
      "text/plain": [
       "Starting brute force nearest neighbors model training."
      ]
     },
     "metadata": {},
     "output_type": "display_data"
    },
    {
     "data": {
      "text/html": [
       "<pre>Starting blockwise similarity graph construction.</pre>"
      ],
      "text/plain": [
       "Starting blockwise similarity graph construction."
      ]
     },
     "metadata": {},
     "output_type": "display_data"
    },
    {
     "data": {
      "text/html": [
       "<pre>max rows per data block: 8190</pre>"
      ],
      "text/plain": [
       "max rows per data block: 8190"
      ]
     },
     "metadata": {},
     "output_type": "display_data"
    },
    {
     "data": {
      "text/html": [
       "<pre>number of reference data blocks: 4</pre>"
      ],
      "text/plain": [
       "number of reference data blocks: 4"
      ]
     },
     "metadata": {},
     "output_type": "display_data"
    },
    {
     "data": {
      "text/html": [
       "<pre>+---------+-------------+--------------+</pre>"
      ],
      "text/plain": [
       "+---------+-------------+--------------+"
      ]
     },
     "metadata": {},
     "output_type": "display_data"
    },
    {
     "data": {
      "text/html": [
       "<pre>| # Pairs | % Complete. | Elapsed Time |</pre>"
      ],
      "text/plain": [
       "| # Pairs | % Complete. | Elapsed Time |"
      ]
     },
     "metadata": {},
     "output_type": "display_data"
    },
    {
     "data": {
      "text/html": [
       "<pre>+---------+-------------+--------------+</pre>"
      ],
      "text/plain": [
       "+---------+-------------+--------------+"
      ]
     },
     "metadata": {},
     "output_type": "display_data"
    },
    {
     "data": {
      "text/html": [
       "<pre>| 1741932 | 29.9214     | 18.002ms     |</pre>"
      ],
      "text/plain": [
       "| 1741932 | 29.9214     | 18.002ms     |"
      ]
     },
     "metadata": {},
     "output_type": "display_data"
    },
    {
     "data": {
      "text/html": [
       "<pre>| 5821690 | 100         | 84.008ms     |</pre>"
      ],
      "text/plain": [
       "| 5821690 | 100         | 84.008ms     |"
      ]
     },
     "metadata": {},
     "output_type": "display_data"
    },
    {
     "data": {
      "text/html": [
       "<pre>+---------+-------------+--------------+</pre>"
      ],
      "text/plain": [
       "+---------+-------------+--------------+"
      ]
     },
     "metadata": {},
     "output_type": "display_data"
    },
    {
     "name": "stderr",
     "output_type": "stream",
     "text": [
      "[INFO] graphlab.toolkits.clustering.dbscan: Identifying noise points and core points.\n",
      "[INFO] graphlab.toolkits.clustering.dbscan: Constructing the core point similarity graph.\n"
     ]
    },
    {
     "data": {
      "text/html": [
       "<pre>+-----------------------------+</pre>"
      ],
      "text/plain": [
       "+-----------------------------+"
      ]
     },
     "metadata": {},
     "output_type": "display_data"
    },
    {
     "data": {
      "text/html": [
       "<pre>| Number of components merged |</pre>"
      ],
      "text/plain": [
       "| Number of components merged |"
      ]
     },
     "metadata": {},
     "output_type": "display_data"
    },
    {
     "data": {
      "text/html": [
       "<pre>+-----------------------------+</pre>"
      ],
      "text/plain": [
       "+-----------------------------+"
      ]
     },
     "metadata": {},
     "output_type": "display_data"
    },
    {
     "data": {
      "text/html": [
       "<pre>| 4485                        |</pre>"
      ],
      "text/plain": [
       "| 4485                        |"
      ]
     },
     "metadata": {},
     "output_type": "display_data"
    },
    {
     "data": {
      "text/html": [
       "<pre>| 0                           |</pre>"
      ],
      "text/plain": [
       "| 0                           |"
      ]
     },
     "metadata": {},
     "output_type": "display_data"
    },
    {
     "data": {
      "text/html": [
       "<pre>+-----------------------------+</pre>"
      ],
      "text/plain": [
       "+-----------------------------+"
      ]
     },
     "metadata": {},
     "output_type": "display_data"
    },
    {
     "name": "stderr",
     "output_type": "stream",
     "text": [
      "[INFO] graphlab.toolkits.clustering.dbscan: Processing boundary points.\n"
     ]
    },
    {
     "data": {
      "text/html": [
       "<pre>Starting brute force nearest neighbors model training.</pre>"
      ],
      "text/plain": [
       "Starting brute force nearest neighbors model training."
      ]
     },
     "metadata": {},
     "output_type": "display_data"
    },
    {
     "data": {
      "text/html": [
       "<pre>Starting blockwise similarity graph construction.</pre>"
      ],
      "text/plain": [
       "Starting blockwise similarity graph construction."
      ]
     },
     "metadata": {},
     "output_type": "display_data"
    },
    {
     "data": {
      "text/html": [
       "<pre>max rows per data block: 8190</pre>"
      ],
      "text/plain": [
       "max rows per data block: 8190"
      ]
     },
     "metadata": {},
     "output_type": "display_data"
    },
    {
     "data": {
      "text/html": [
       "<pre>number of reference data blocks: 4</pre>"
      ],
      "text/plain": [
       "number of reference data blocks: 4"
      ]
     },
     "metadata": {},
     "output_type": "display_data"
    },
    {
     "data": {
      "text/html": [
       "<pre>+---------+-------------+--------------+</pre>"
      ],
      "text/plain": [
       "+---------+-------------+--------------+"
      ]
     },
     "metadata": {},
     "output_type": "display_data"
    },
    {
     "data": {
      "text/html": [
       "<pre>| # Pairs | % Complete. | Elapsed Time |</pre>"
      ],
      "text/plain": [
       "| # Pairs | % Complete. | Elapsed Time |"
      ]
     },
     "metadata": {},
     "output_type": "display_data"
    },
    {
     "data": {
      "text/html": [
       "<pre>+---------+-------------+--------------+</pre>"
      ],
      "text/plain": [
       "+---------+-------------+--------------+"
      ]
     },
     "metadata": {},
     "output_type": "display_data"
    },
    {
     "data": {
      "text/html": [
       "<pre>| 1741932 | 29.9214     | 9.001ms      |</pre>"
      ],
      "text/plain": [
       "| 1741932 | 29.9214     | 9.001ms      |"
      ]
     },
     "metadata": {},
     "output_type": "display_data"
    },
    {
     "data": {
      "text/html": [
       "<pre>| 5821690 | 100         | 69.007ms     |</pre>"
      ],
      "text/plain": [
       "| 5821690 | 100         | 69.007ms     |"
      ]
     },
     "metadata": {},
     "output_type": "display_data"
    },
    {
     "data": {
      "text/html": [
       "<pre>+---------+-------------+--------------+</pre>"
      ],
      "text/plain": [
       "+---------+-------------+--------------+"
      ]
     },
     "metadata": {},
     "output_type": "display_data"
    },
    {
     "name": "stderr",
     "output_type": "stream",
     "text": [
      "[INFO] graphlab.toolkits.clustering.dbscan: Identifying noise points and core points.\n",
      "[INFO] graphlab.toolkits.clustering.dbscan: Constructing the core point similarity graph.\n"
     ]
    },
    {
     "data": {
      "text/html": [
       "<pre>+-----------------------------+</pre>"
      ],
      "text/plain": [
       "+-----------------------------+"
      ]
     },
     "metadata": {},
     "output_type": "display_data"
    },
    {
     "data": {
      "text/html": [
       "<pre>| Number of components merged |</pre>"
      ],
      "text/plain": [
       "| Number of components merged |"
      ]
     },
     "metadata": {},
     "output_type": "display_data"
    },
    {
     "data": {
      "text/html": [
       "<pre>+-----------------------------+</pre>"
      ],
      "text/plain": [
       "+-----------------------------+"
      ]
     },
     "metadata": {},
     "output_type": "display_data"
    },
    {
     "data": {
      "text/html": [
       "<pre>| 8317                        |</pre>"
      ],
      "text/plain": [
       "| 8317                        |"
      ]
     },
     "metadata": {},
     "output_type": "display_data"
    },
    {
     "data": {
      "text/html": [
       "<pre>| 0                           |</pre>"
      ],
      "text/plain": [
       "| 0                           |"
      ]
     },
     "metadata": {},
     "output_type": "display_data"
    },
    {
     "data": {
      "text/html": [
       "<pre>+-----------------------------+</pre>"
      ],
      "text/plain": [
       "+-----------------------------+"
      ]
     },
     "metadata": {},
     "output_type": "display_data"
    },
    {
     "name": "stderr",
     "output_type": "stream",
     "text": [
      "[INFO] graphlab.toolkits.clustering.dbscan: Processing boundary points.\n"
     ]
    },
    {
     "data": {
      "text/html": [
       "<pre>Finished parsing file C:\\Users\\jdr248\\160525 +- E 005 02.txt</pre>"
      ],
      "text/plain": [
       "Finished parsing file C:\\Users\\jdr248\\160525 +- E 005 02.txt"
      ]
     },
     "metadata": {},
     "output_type": "display_data"
    },
    {
     "data": {
      "text/html": [
       "<pre>Parsing completed. Parsed 100 lines in 0.020002 secs.</pre>"
      ],
      "text/plain": [
       "Parsing completed. Parsed 100 lines in 0.020002 secs."
      ]
     },
     "metadata": {},
     "output_type": "display_data"
    },
    {
     "name": "stdout",
     "output_type": "stream",
     "text": [
      "------------------------------------------------------\n",
      "Inferred types from first 100 line(s) of file as \n",
      "column_type_hints=[float,float,str,str,str,str,float,str,str,long,long,long,long,long,long]\n",
      "If parsing fails due to incorrect types, you can correct\n",
      "the inferred type list above and pass it to read_csv in\n",
      "the column_type_hints argument\n",
      "------------------------------------------------------\n"
     ]
    },
    {
     "data": {
      "text/html": [
       "<pre>Finished parsing file C:\\Users\\jdr248\\160525 +- E 005 02.txt</pre>"
      ],
      "text/plain": [
       "Finished parsing file C:\\Users\\jdr248\\160525 +- E 005 02.txt"
      ]
     },
     "metadata": {},
     "output_type": "display_data"
    },
    {
     "data": {
      "text/html": [
       "<pre>Parsing completed. Parsed 1273 lines in 0.013001 secs.</pre>"
      ],
      "text/plain": [
       "Parsing completed. Parsed 1273 lines in 0.013001 secs."
      ]
     },
     "metadata": {},
     "output_type": "display_data"
    },
    {
     "data": {
      "text/html": [
       "<pre>Starting brute force nearest neighbors model training.</pre>"
      ],
      "text/plain": [
       "Starting brute force nearest neighbors model training."
      ]
     },
     "metadata": {},
     "output_type": "display_data"
    },
    {
     "data": {
      "text/html": [
       "<pre>Starting blockwise similarity graph construction.</pre>"
      ],
      "text/plain": [
       "Starting blockwise similarity graph construction."
      ]
     },
     "metadata": {},
     "output_type": "display_data"
    },
    {
     "data": {
      "text/html": [
       "<pre>max rows per data block: 8190</pre>"
      ],
      "text/plain": [
       "max rows per data block: 8190"
      ]
     },
     "metadata": {},
     "output_type": "display_data"
    },
    {
     "data": {
      "text/html": [
       "<pre>number of reference data blocks: 4</pre>"
      ],
      "text/plain": [
       "number of reference data blocks: 4"
      ]
     },
     "metadata": {},
     "output_type": "display_data"
    },
    {
     "data": {
      "text/html": [
       "<pre>+---------+-------------+--------------+</pre>"
      ],
      "text/plain": [
       "+---------+-------------+--------------+"
      ]
     },
     "metadata": {},
     "output_type": "display_data"
    },
    {
     "data": {
      "text/html": [
       "<pre>| # Pairs | % Complete. | Elapsed Time |</pre>"
      ],
      "text/plain": [
       "| # Pairs | % Complete. | Elapsed Time |"
      ]
     },
     "metadata": {},
     "output_type": "display_data"
    },
    {
     "data": {
      "text/html": [
       "<pre>+---------+-------------+--------------+</pre>"
      ],
      "text/plain": [
       "+---------+-------------+--------------+"
      ]
     },
     "metadata": {},
     "output_type": "display_data"
    },
    {
     "data": {
      "text/html": [
       "<pre>| 101124  | 9.9374      | 1ms          |</pre>"
      ],
      "text/plain": [
       "| 101124  | 9.9374      | 1ms          |"
      ]
     },
     "metadata": {},
     "output_type": "display_data"
    },
    {
     "data": {
      "text/html": [
       "<pre>| 1017610 | 100         | 9.001ms      |</pre>"
      ],
      "text/plain": [
       "| 1017610 | 100         | 9.001ms      |"
      ]
     },
     "metadata": {},
     "output_type": "display_data"
    },
    {
     "data": {
      "text/html": [
       "<pre>+---------+-------------+--------------+</pre>"
      ],
      "text/plain": [
       "+---------+-------------+--------------+"
      ]
     },
     "metadata": {},
     "output_type": "display_data"
    },
    {
     "name": "stderr",
     "output_type": "stream",
     "text": [
      "[INFO] graphlab.toolkits.clustering.dbscan: Identifying noise points and core points.\n",
      "[INFO] graphlab.toolkits.clustering.dbscan: Constructing the core point similarity graph.\n"
     ]
    },
    {
     "data": {
      "text/html": [
       "<pre>+-----------------------------+</pre>"
      ],
      "text/plain": [
       "+-----------------------------+"
      ]
     },
     "metadata": {},
     "output_type": "display_data"
    },
    {
     "data": {
      "text/html": [
       "<pre>| Number of components merged |</pre>"
      ],
      "text/plain": [
       "| Number of components merged |"
      ]
     },
     "metadata": {},
     "output_type": "display_data"
    },
    {
     "data": {
      "text/html": [
       "<pre>+-----------------------------+</pre>"
      ],
      "text/plain": [
       "+-----------------------------+"
      ]
     },
     "metadata": {},
     "output_type": "display_data"
    },
    {
     "data": {
      "text/html": [
       "<pre>| 619                         |</pre>"
      ],
      "text/plain": [
       "| 619                         |"
      ]
     },
     "metadata": {},
     "output_type": "display_data"
    },
    {
     "data": {
      "text/html": [
       "<pre>| 0                           |</pre>"
      ],
      "text/plain": [
       "| 0                           |"
      ]
     },
     "metadata": {},
     "output_type": "display_data"
    },
    {
     "data": {
      "text/html": [
       "<pre>+-----------------------------+</pre>"
      ],
      "text/plain": [
       "+-----------------------------+"
      ]
     },
     "metadata": {},
     "output_type": "display_data"
    },
    {
     "name": "stderr",
     "output_type": "stream",
     "text": [
      "[INFO] graphlab.toolkits.clustering.dbscan: Processing boundary points.\n"
     ]
    },
    {
     "data": {
      "text/html": [
       "<pre>Starting brute force nearest neighbors model training.</pre>"
      ],
      "text/plain": [
       "Starting brute force nearest neighbors model training."
      ]
     },
     "metadata": {},
     "output_type": "display_data"
    },
    {
     "data": {
      "text/html": [
       "<pre>Starting blockwise similarity graph construction.</pre>"
      ],
      "text/plain": [
       "Starting blockwise similarity graph construction."
      ]
     },
     "metadata": {},
     "output_type": "display_data"
    },
    {
     "data": {
      "text/html": [
       "<pre>max rows per data block: 8190</pre>"
      ],
      "text/plain": [
       "max rows per data block: 8190"
      ]
     },
     "metadata": {},
     "output_type": "display_data"
    },
    {
     "data": {
      "text/html": [
       "<pre>number of reference data blocks: 4</pre>"
      ],
      "text/plain": [
       "number of reference data blocks: 4"
      ]
     },
     "metadata": {},
     "output_type": "display_data"
    },
    {
     "data": {
      "text/html": [
       "<pre>+---------+-------------+--------------+</pre>"
      ],
      "text/plain": [
       "+---------+-------------+--------------+"
      ]
     },
     "metadata": {},
     "output_type": "display_data"
    },
    {
     "data": {
      "text/html": [
       "<pre>| # Pairs | % Complete. | Elapsed Time |</pre>"
      ],
      "text/plain": [
       "| # Pairs | % Complete. | Elapsed Time |"
      ]
     },
     "metadata": {},
     "output_type": "display_data"
    },
    {
     "data": {
      "text/html": [
       "<pre>+---------+-------------+--------------+</pre>"
      ],
      "text/plain": [
       "+---------+-------------+--------------+"
      ]
     },
     "metadata": {},
     "output_type": "display_data"
    },
    {
     "data": {
      "text/html": [
       "<pre>| 303372  | 29.8122     | 1ms          |</pre>"
      ],
      "text/plain": [
       "| 303372  | 29.8122     | 1ms          |"
      ]
     },
     "metadata": {},
     "output_type": "display_data"
    },
    {
     "data": {
      "text/html": [
       "<pre>| 1017610 | 100         | 9.001ms      |</pre>"
      ],
      "text/plain": [
       "| 1017610 | 100         | 9.001ms      |"
      ]
     },
     "metadata": {},
     "output_type": "display_data"
    },
    {
     "data": {
      "text/html": [
       "<pre>+---------+-------------+--------------+</pre>"
      ],
      "text/plain": [
       "+---------+-------------+--------------+"
      ]
     },
     "metadata": {},
     "output_type": "display_data"
    },
    {
     "name": "stderr",
     "output_type": "stream",
     "text": [
      "[INFO] graphlab.toolkits.clustering.dbscan: Identifying noise points and core points.\n",
      "[INFO] graphlab.toolkits.clustering.dbscan: Constructing the core point similarity graph.\n"
     ]
    },
    {
     "data": {
      "text/html": [
       "<pre>+-----------------------------+</pre>"
      ],
      "text/plain": [
       "+-----------------------------+"
      ]
     },
     "metadata": {},
     "output_type": "display_data"
    },
    {
     "data": {
      "text/html": [
       "<pre>| Number of components merged |</pre>"
      ],
      "text/plain": [
       "| Number of components merged |"
      ]
     },
     "metadata": {},
     "output_type": "display_data"
    },
    {
     "data": {
      "text/html": [
       "<pre>+-----------------------------+</pre>"
      ],
      "text/plain": [
       "+-----------------------------+"
      ]
     },
     "metadata": {},
     "output_type": "display_data"
    },
    {
     "data": {
      "text/html": [
       "<pre>| 2221                        |</pre>"
      ],
      "text/plain": [
       "| 2221                        |"
      ]
     },
     "metadata": {},
     "output_type": "display_data"
    },
    {
     "data": {
      "text/html": [
       "<pre>| 0                           |</pre>"
      ],
      "text/plain": [
       "| 0                           |"
      ]
     },
     "metadata": {},
     "output_type": "display_data"
    },
    {
     "data": {
      "text/html": [
       "<pre>+-----------------------------+</pre>"
      ],
      "text/plain": [
       "+-----------------------------+"
      ]
     },
     "metadata": {},
     "output_type": "display_data"
    },
    {
     "name": "stderr",
     "output_type": "stream",
     "text": [
      "[INFO] graphlab.toolkits.clustering.dbscan: Processing boundary points.\n"
     ]
    },
    {
     "data": {
      "text/html": [
       "<pre>Finished parsing file C:\\Users\\jdr248\\160525 +- E 006 01.txt</pre>"
      ],
      "text/plain": [
       "Finished parsing file C:\\Users\\jdr248\\160525 +- E 006 01.txt"
      ]
     },
     "metadata": {},
     "output_type": "display_data"
    },
    {
     "data": {
      "text/html": [
       "<pre>Parsing completed. Parsed 100 lines in 0.018002 secs.</pre>"
      ],
      "text/plain": [
       "Parsing completed. Parsed 100 lines in 0.018002 secs."
      ]
     },
     "metadata": {},
     "output_type": "display_data"
    },
    {
     "name": "stdout",
     "output_type": "stream",
     "text": [
      "------------------------------------------------------\n",
      "Inferred types from first 100 line(s) of file as \n",
      "column_type_hints=[float,float,str,str,str,str,float,str,str,long,long,long,long,long,long]\n",
      "If parsing fails due to incorrect types, you can correct\n",
      "the inferred type list above and pass it to read_csv in\n",
      "the column_type_hints argument\n",
      "------------------------------------------------------\n"
     ]
    },
    {
     "data": {
      "text/html": [
       "<pre>Finished parsing file C:\\Users\\jdr248\\160525 +- E 006 01.txt</pre>"
      ],
      "text/plain": [
       "Finished parsing file C:\\Users\\jdr248\\160525 +- E 006 01.txt"
      ]
     },
     "metadata": {},
     "output_type": "display_data"
    },
    {
     "data": {
      "text/html": [
       "<pre>Parsing completed. Parsed 2587 lines in 0.016002 secs.</pre>"
      ],
      "text/plain": [
       "Parsing completed. Parsed 2587 lines in 0.016002 secs."
      ]
     },
     "metadata": {},
     "output_type": "display_data"
    },
    {
     "data": {
      "text/html": [
       "<pre>Starting brute force nearest neighbors model training.</pre>"
      ],
      "text/plain": [
       "Starting brute force nearest neighbors model training."
      ]
     },
     "metadata": {},
     "output_type": "display_data"
    },
    {
     "data": {
      "text/html": [
       "<pre>Starting blockwise similarity graph construction.</pre>"
      ],
      "text/plain": [
       "Starting blockwise similarity graph construction."
      ]
     },
     "metadata": {},
     "output_type": "display_data"
    },
    {
     "data": {
      "text/html": [
       "<pre>max rows per data block: 8190</pre>"
      ],
      "text/plain": [
       "max rows per data block: 8190"
      ]
     },
     "metadata": {},
     "output_type": "display_data"
    },
    {
     "data": {
      "text/html": [
       "<pre>number of reference data blocks: 4</pre>"
      ],
      "text/plain": [
       "number of reference data blocks: 4"
      ]
     },
     "metadata": {},
     "output_type": "display_data"
    },
    {
     "data": {
      "text/html": [
       "<pre>+---------+-------------+--------------+</pre>"
      ],
      "text/plain": [
       "+---------+-------------+--------------+"
      ]
     },
     "metadata": {},
     "output_type": "display_data"
    },
    {
     "data": {
      "text/html": [
       "<pre>| # Pairs | % Complete. | Elapsed Time |</pre>"
      ],
      "text/plain": [
       "| # Pairs | % Complete. | Elapsed Time |"
      ]
     },
     "metadata": {},
     "output_type": "display_data"
    },
    {
     "data": {
      "text/html": [
       "<pre>+---------+-------------+--------------+</pre>"
      ],
      "text/plain": [
       "+---------+-------------+--------------+"
      ]
     },
     "metadata": {},
     "output_type": "display_data"
    },
    {
     "data": {
      "text/html": [
       "<pre>| 1253887 | 29.9537     | 16.001ms     |</pre>"
      ],
      "text/plain": [
       "| 1253887 | 29.9537     | 16.001ms     |"
      ]
     },
     "metadata": {},
     "output_type": "display_data"
    },
    {
     "data": {
      "text/html": [
       "<pre>| 4186090 | 100         | 60.006ms     |</pre>"
      ],
      "text/plain": [
       "| 4186090 | 100         | 60.006ms     |"
      ]
     },
     "metadata": {},
     "output_type": "display_data"
    },
    {
     "data": {
      "text/html": [
       "<pre>+---------+-------------+--------------+</pre>"
      ],
      "text/plain": [
       "+---------+-------------+--------------+"
      ]
     },
     "metadata": {},
     "output_type": "display_data"
    },
    {
     "name": "stderr",
     "output_type": "stream",
     "text": [
      "[INFO] graphlab.toolkits.clustering.dbscan: Identifying noise points and core points.\n",
      "[INFO] graphlab.toolkits.clustering.dbscan: Constructing the core point similarity graph.\n"
     ]
    },
    {
     "data": {
      "text/html": [
       "<pre>+-----------------------------+</pre>"
      ],
      "text/plain": [
       "+-----------------------------+"
      ]
     },
     "metadata": {},
     "output_type": "display_data"
    },
    {
     "data": {
      "text/html": [
       "<pre>| Number of components merged |</pre>"
      ],
      "text/plain": [
       "| Number of components merged |"
      ]
     },
     "metadata": {},
     "output_type": "display_data"
    },
    {
     "data": {
      "text/html": [
       "<pre>+-----------------------------+</pre>"
      ],
      "text/plain": [
       "+-----------------------------+"
      ]
     },
     "metadata": {},
     "output_type": "display_data"
    },
    {
     "data": {
      "text/html": [
       "<pre>| 3229                        |</pre>"
      ],
      "text/plain": [
       "| 3229                        |"
      ]
     },
     "metadata": {},
     "output_type": "display_data"
    },
    {
     "data": {
      "text/html": [
       "<pre>| 0                           |</pre>"
      ],
      "text/plain": [
       "| 0                           |"
      ]
     },
     "metadata": {},
     "output_type": "display_data"
    },
    {
     "data": {
      "text/html": [
       "<pre>+-----------------------------+</pre>"
      ],
      "text/plain": [
       "+-----------------------------+"
      ]
     },
     "metadata": {},
     "output_type": "display_data"
    },
    {
     "name": "stderr",
     "output_type": "stream",
     "text": [
      "[INFO] graphlab.toolkits.clustering.dbscan: Processing boundary points.\n"
     ]
    },
    {
     "data": {
      "text/html": [
       "<pre>Starting brute force nearest neighbors model training.</pre>"
      ],
      "text/plain": [
       "Starting brute force nearest neighbors model training."
      ]
     },
     "metadata": {},
     "output_type": "display_data"
    },
    {
     "data": {
      "text/html": [
       "<pre>Starting blockwise similarity graph construction.</pre>"
      ],
      "text/plain": [
       "Starting blockwise similarity graph construction."
      ]
     },
     "metadata": {},
     "output_type": "display_data"
    },
    {
     "data": {
      "text/html": [
       "<pre>max rows per data block: 8190</pre>"
      ],
      "text/plain": [
       "max rows per data block: 8190"
      ]
     },
     "metadata": {},
     "output_type": "display_data"
    },
    {
     "data": {
      "text/html": [
       "<pre>number of reference data blocks: 4</pre>"
      ],
      "text/plain": [
       "number of reference data blocks: 4"
      ]
     },
     "metadata": {},
     "output_type": "display_data"
    },
    {
     "data": {
      "text/html": [
       "<pre>+---------+-------------+--------------+</pre>"
      ],
      "text/plain": [
       "+---------+-------------+--------------+"
      ]
     },
     "metadata": {},
     "output_type": "display_data"
    },
    {
     "data": {
      "text/html": [
       "<pre>| # Pairs | % Complete. | Elapsed Time |</pre>"
      ],
      "text/plain": [
       "| # Pairs | % Complete. | Elapsed Time |"
      ]
     },
     "metadata": {},
     "output_type": "display_data"
    },
    {
     "data": {
      "text/html": [
       "<pre>+---------+-------------+--------------+</pre>"
      ],
      "text/plain": [
       "+---------+-------------+--------------+"
      ]
     },
     "metadata": {},
     "output_type": "display_data"
    },
    {
     "data": {
      "text/html": [
       "<pre>| 1253887 | 29.9537     | 1ms          |</pre>"
      ],
      "text/plain": [
       "| 1253887 | 29.9537     | 1ms          |"
      ]
     },
     "metadata": {},
     "output_type": "display_data"
    },
    {
     "data": {
      "text/html": [
       "<pre>| 4186090 | 100         | 56.006ms     |</pre>"
      ],
      "text/plain": [
       "| 4186090 | 100         | 56.006ms     |"
      ]
     },
     "metadata": {},
     "output_type": "display_data"
    },
    {
     "data": {
      "text/html": [
       "<pre>+---------+-------------+--------------+</pre>"
      ],
      "text/plain": [
       "+---------+-------------+--------------+"
      ]
     },
     "metadata": {},
     "output_type": "display_data"
    },
    {
     "name": "stderr",
     "output_type": "stream",
     "text": [
      "[INFO] graphlab.toolkits.clustering.dbscan: Identifying noise points and core points.\n",
      "[INFO] graphlab.toolkits.clustering.dbscan: Constructing the core point similarity graph.\n"
     ]
    },
    {
     "data": {
      "text/html": [
       "<pre>+-----------------------------+</pre>"
      ],
      "text/plain": [
       "+-----------------------------+"
      ]
     },
     "metadata": {},
     "output_type": "display_data"
    },
    {
     "data": {
      "text/html": [
       "<pre>| Number of components merged |</pre>"
      ],
      "text/plain": [
       "| Number of components merged |"
      ]
     },
     "metadata": {},
     "output_type": "display_data"
    },
    {
     "data": {
      "text/html": [
       "<pre>+-----------------------------+</pre>"
      ],
      "text/plain": [
       "+-----------------------------+"
      ]
     },
     "metadata": {},
     "output_type": "display_data"
    },
    {
     "data": {
      "text/html": [
       "<pre>| 8394                        |</pre>"
      ],
      "text/plain": [
       "| 8394                        |"
      ]
     },
     "metadata": {},
     "output_type": "display_data"
    },
    {
     "data": {
      "text/html": [
       "<pre>| 0                           |</pre>"
      ],
      "text/plain": [
       "| 0                           |"
      ]
     },
     "metadata": {},
     "output_type": "display_data"
    },
    {
     "data": {
      "text/html": [
       "<pre>+-----------------------------+</pre>"
      ],
      "text/plain": [
       "+-----------------------------+"
      ]
     },
     "metadata": {},
     "output_type": "display_data"
    },
    {
     "name": "stderr",
     "output_type": "stream",
     "text": [
      "[INFO] graphlab.toolkits.clustering.dbscan: Processing boundary points.\n"
     ]
    },
    {
     "data": {
      "text/html": [
       "<pre>Finished parsing file C:\\Users\\jdr248\\160525 +- E 006 02.txt</pre>"
      ],
      "text/plain": [
       "Finished parsing file C:\\Users\\jdr248\\160525 +- E 006 02.txt"
      ]
     },
     "metadata": {},
     "output_type": "display_data"
    },
    {
     "data": {
      "text/html": [
       "<pre>Parsing completed. Parsed 100 lines in 0.020001 secs.</pre>"
      ],
      "text/plain": [
       "Parsing completed. Parsed 100 lines in 0.020001 secs."
      ]
     },
     "metadata": {},
     "output_type": "display_data"
    },
    {
     "name": "stdout",
     "output_type": "stream",
     "text": [
      "------------------------------------------------------\n",
      "Inferred types from first 100 line(s) of file as \n",
      "column_type_hints=[float,float,str,str,str,str,float,str,str,long,long,long,long,long,long]\n",
      "If parsing fails due to incorrect types, you can correct\n",
      "the inferred type list above and pass it to read_csv in\n",
      "the column_type_hints argument\n",
      "------------------------------------------------------\n"
     ]
    },
    {
     "data": {
      "text/html": [
       "<pre>Finished parsing file C:\\Users\\jdr248\\160525 +- E 006 02.txt</pre>"
      ],
      "text/plain": [
       "Finished parsing file C:\\Users\\jdr248\\160525 +- E 006 02.txt"
      ]
     },
     "metadata": {},
     "output_type": "display_data"
    },
    {
     "data": {
      "text/html": [
       "<pre>Parsing completed. Parsed 2442 lines in 0.015001 secs.</pre>"
      ],
      "text/plain": [
       "Parsing completed. Parsed 2442 lines in 0.015001 secs."
      ]
     },
     "metadata": {},
     "output_type": "display_data"
    },
    {
     "data": {
      "text/html": [
       "<pre>Starting brute force nearest neighbors model training.</pre>"
      ],
      "text/plain": [
       "Starting brute force nearest neighbors model training."
      ]
     },
     "metadata": {},
     "output_type": "display_data"
    },
    {
     "data": {
      "text/html": [
       "<pre>Starting blockwise similarity graph construction.</pre>"
      ],
      "text/plain": [
       "Starting blockwise similarity graph construction."
      ]
     },
     "metadata": {},
     "output_type": "display_data"
    },
    {
     "data": {
      "text/html": [
       "<pre>max rows per data block: 8190</pre>"
      ],
      "text/plain": [
       "max rows per data block: 8190"
      ]
     },
     "metadata": {},
     "output_type": "display_data"
    },
    {
     "data": {
      "text/html": [
       "<pre>number of reference data blocks: 4</pre>"
      ],
      "text/plain": [
       "number of reference data blocks: 4"
      ]
     },
     "metadata": {},
     "output_type": "display_data"
    },
    {
     "data": {
      "text/html": [
       "<pre>+---------+-------------+--------------+</pre>"
      ],
      "text/plain": [
       "+---------+-------------+--------------+"
      ]
     },
     "metadata": {},
     "output_type": "display_data"
    },
    {
     "data": {
      "text/html": [
       "<pre>| # Pairs | % Complete. | Elapsed Time |</pre>"
      ],
      "text/plain": [
       "| # Pairs | % Complete. | Elapsed Time |"
      ]
     },
     "metadata": {},
     "output_type": "display_data"
    },
    {
     "data": {
      "text/html": [
       "<pre>+---------+-------------+--------------+</pre>"
      ],
      "text/plain": [
       "+---------+-------------+--------------+"
      ]
     },
     "metadata": {},
     "output_type": "display_data"
    },
    {
     "data": {
      "text/html": [
       "<pre>| 1116910 | 29.9182     | 11.001ms     |</pre>"
      ],
      "text/plain": [
       "| 1116910 | 29.9182     | 11.001ms     |"
      ]
     },
     "metadata": {},
     "output_type": "display_data"
    },
    {
     "data": {
      "text/html": [
       "<pre>| 3733210 | 100         | 44.004ms     |</pre>"
      ],
      "text/plain": [
       "| 3733210 | 100         | 44.004ms     |"
      ]
     },
     "metadata": {},
     "output_type": "display_data"
    },
    {
     "data": {
      "text/html": [
       "<pre>+---------+-------------+--------------+</pre>"
      ],
      "text/plain": [
       "+---------+-------------+--------------+"
      ]
     },
     "metadata": {},
     "output_type": "display_data"
    },
    {
     "name": "stderr",
     "output_type": "stream",
     "text": [
      "[INFO] graphlab.toolkits.clustering.dbscan: Identifying noise points and core points.\n",
      "[INFO] graphlab.toolkits.clustering.dbscan: Constructing the core point similarity graph.\n"
     ]
    },
    {
     "data": {
      "text/html": [
       "<pre>+-----------------------------+</pre>"
      ],
      "text/plain": [
       "+-----------------------------+"
      ]
     },
     "metadata": {},
     "output_type": "display_data"
    },
    {
     "data": {
      "text/html": [
       "<pre>| Number of components merged |</pre>"
      ],
      "text/plain": [
       "| Number of components merged |"
      ]
     },
     "metadata": {},
     "output_type": "display_data"
    },
    {
     "data": {
      "text/html": [
       "<pre>+-----------------------------+</pre>"
      ],
      "text/plain": [
       "+-----------------------------+"
      ]
     },
     "metadata": {},
     "output_type": "display_data"
    },
    {
     "data": {
      "text/html": [
       "<pre>| 2374                        |</pre>"
      ],
      "text/plain": [
       "| 2374                        |"
      ]
     },
     "metadata": {},
     "output_type": "display_data"
    },
    {
     "data": {
      "text/html": [
       "<pre>| 0                           |</pre>"
      ],
      "text/plain": [
       "| 0                           |"
      ]
     },
     "metadata": {},
     "output_type": "display_data"
    },
    {
     "data": {
      "text/html": [
       "<pre>+-----------------------------+</pre>"
      ],
      "text/plain": [
       "+-----------------------------+"
      ]
     },
     "metadata": {},
     "output_type": "display_data"
    },
    {
     "name": "stderr",
     "output_type": "stream",
     "text": [
      "[INFO] graphlab.toolkits.clustering.dbscan: Processing boundary points.\n"
     ]
    },
    {
     "data": {
      "text/html": [
       "<pre>Starting brute force nearest neighbors model training.</pre>"
      ],
      "text/plain": [
       "Starting brute force nearest neighbors model training."
      ]
     },
     "metadata": {},
     "output_type": "display_data"
    },
    {
     "data": {
      "text/html": [
       "<pre>Starting blockwise similarity graph construction.</pre>"
      ],
      "text/plain": [
       "Starting blockwise similarity graph construction."
      ]
     },
     "metadata": {},
     "output_type": "display_data"
    },
    {
     "data": {
      "text/html": [
       "<pre>max rows per data block: 8190</pre>"
      ],
      "text/plain": [
       "max rows per data block: 8190"
      ]
     },
     "metadata": {},
     "output_type": "display_data"
    },
    {
     "data": {
      "text/html": [
       "<pre>number of reference data blocks: 4</pre>"
      ],
      "text/plain": [
       "number of reference data blocks: 4"
      ]
     },
     "metadata": {},
     "output_type": "display_data"
    },
    {
     "data": {
      "text/html": [
       "<pre>+---------+-------------+--------------+</pre>"
      ],
      "text/plain": [
       "+---------+-------------+--------------+"
      ]
     },
     "metadata": {},
     "output_type": "display_data"
    },
    {
     "data": {
      "text/html": [
       "<pre>| # Pairs | % Complete. | Elapsed Time |</pre>"
      ],
      "text/plain": [
       "| # Pairs | % Complete. | Elapsed Time |"
      ]
     },
     "metadata": {},
     "output_type": "display_data"
    },
    {
     "data": {
      "text/html": [
       "<pre>+---------+-------------+--------------+</pre>"
      ],
      "text/plain": [
       "+---------+-------------+--------------+"
      ]
     },
     "metadata": {},
     "output_type": "display_data"
    },
    {
     "data": {
      "text/html": [
       "<pre>| 1116910 | 29.9182     | 1.001ms      |</pre>"
      ],
      "text/plain": [
       "| 1116910 | 29.9182     | 1.001ms      |"
      ]
     },
     "metadata": {},
     "output_type": "display_data"
    },
    {
     "data": {
      "text/html": [
       "<pre>| 3733210 | 100         | 39.004ms     |</pre>"
      ],
      "text/plain": [
       "| 3733210 | 100         | 39.004ms     |"
      ]
     },
     "metadata": {},
     "output_type": "display_data"
    },
    {
     "data": {
      "text/html": [
       "<pre>+---------+-------------+--------------+</pre>"
      ],
      "text/plain": [
       "+---------+-------------+--------------+"
      ]
     },
     "metadata": {},
     "output_type": "display_data"
    },
    {
     "name": "stderr",
     "output_type": "stream",
     "text": [
      "[INFO] graphlab.toolkits.clustering.dbscan: Identifying noise points and core points.\n",
      "[INFO] graphlab.toolkits.clustering.dbscan: Constructing the core point similarity graph.\n"
     ]
    },
    {
     "data": {
      "text/html": [
       "<pre>+-----------------------------+</pre>"
      ],
      "text/plain": [
       "+-----------------------------+"
      ]
     },
     "metadata": {},
     "output_type": "display_data"
    },
    {
     "data": {
      "text/html": [
       "<pre>| Number of components merged |</pre>"
      ],
      "text/plain": [
       "| Number of components merged |"
      ]
     },
     "metadata": {},
     "output_type": "display_data"
    },
    {
     "data": {
      "text/html": [
       "<pre>+-----------------------------+</pre>"
      ],
      "text/plain": [
       "+-----------------------------+"
      ]
     },
     "metadata": {},
     "output_type": "display_data"
    },
    {
     "data": {
      "text/html": [
       "<pre>| 4835                        |</pre>"
      ],
      "text/plain": [
       "| 4835                        |"
      ]
     },
     "metadata": {},
     "output_type": "display_data"
    },
    {
     "data": {
      "text/html": [
       "<pre>| 0                           |</pre>"
      ],
      "text/plain": [
       "| 0                           |"
      ]
     },
     "metadata": {},
     "output_type": "display_data"
    },
    {
     "data": {
      "text/html": [
       "<pre>+-----------------------------+</pre>"
      ],
      "text/plain": [
       "+-----------------------------+"
      ]
     },
     "metadata": {},
     "output_type": "display_data"
    },
    {
     "name": "stderr",
     "output_type": "stream",
     "text": [
      "[INFO] graphlab.toolkits.clustering.dbscan: Processing boundary points.\n"
     ]
    },
    {
     "data": {
      "text/html": [
       "<pre>Finished parsing file C:\\Users\\jdr248\\160525 +- E 009 01.txt</pre>"
      ],
      "text/plain": [
       "Finished parsing file C:\\Users\\jdr248\\160525 +- E 009 01.txt"
      ]
     },
     "metadata": {},
     "output_type": "display_data"
    },
    {
     "data": {
      "text/html": [
       "<pre>Parsing completed. Parsed 100 lines in 0.020001 secs.</pre>"
      ],
      "text/plain": [
       "Parsing completed. Parsed 100 lines in 0.020001 secs."
      ]
     },
     "metadata": {},
     "output_type": "display_data"
    },
    {
     "name": "stdout",
     "output_type": "stream",
     "text": [
      "------------------------------------------------------\n",
      "Inferred types from first 100 line(s) of file as \n",
      "column_type_hints=[float,float,str,str,str,str,float,str,str,long,long,long,long,long,long]\n",
      "If parsing fails due to incorrect types, you can correct\n",
      "the inferred type list above and pass it to read_csv in\n",
      "the column_type_hints argument\n",
      "------------------------------------------------------\n"
     ]
    },
    {
     "data": {
      "text/html": [
       "<pre>Finished parsing file C:\\Users\\jdr248\\160525 +- E 009 01.txt</pre>"
      ],
      "text/plain": [
       "Finished parsing file C:\\Users\\jdr248\\160525 +- E 009 01.txt"
      ]
     },
     "metadata": {},
     "output_type": "display_data"
    },
    {
     "data": {
      "text/html": [
       "<pre>Parsing completed. Parsed 2474 lines in 0.015002 secs.</pre>"
      ],
      "text/plain": [
       "Parsing completed. Parsed 2474 lines in 0.015002 secs."
      ]
     },
     "metadata": {},
     "output_type": "display_data"
    },
    {
     "data": {
      "text/html": [
       "<pre>Starting brute force nearest neighbors model training.</pre>"
      ],
      "text/plain": [
       "Starting brute force nearest neighbors model training."
      ]
     },
     "metadata": {},
     "output_type": "display_data"
    },
    {
     "data": {
      "text/html": [
       "<pre>Starting blockwise similarity graph construction.</pre>"
      ],
      "text/plain": [
       "Starting blockwise similarity graph construction."
      ]
     },
     "metadata": {},
     "output_type": "display_data"
    },
    {
     "data": {
      "text/html": [
       "<pre>max rows per data block: 8190</pre>"
      ],
      "text/plain": [
       "max rows per data block: 8190"
      ]
     },
     "metadata": {},
     "output_type": "display_data"
    },
    {
     "data": {
      "text/html": [
       "<pre>number of reference data blocks: 4</pre>"
      ],
      "text/plain": [
       "number of reference data blocks: 4"
      ]
     },
     "metadata": {},
     "output_type": "display_data"
    },
    {
     "data": {
      "text/html": [
       "<pre>+---------+-------------+--------------+</pre>"
      ],
      "text/plain": [
       "+---------+-------------+--------------+"
      ]
     },
     "metadata": {},
     "output_type": "display_data"
    },
    {
     "data": {
      "text/html": [
       "<pre>| # Pairs | % Complete. | Elapsed Time |</pre>"
      ],
      "text/plain": [
       "| # Pairs | % Complete. | Elapsed Time |"
      ]
     },
     "metadata": {},
     "output_type": "display_data"
    },
    {
     "data": {
      "text/html": [
       "<pre>+---------+-------------+--------------+</pre>"
      ],
      "text/plain": [
       "+---------+-------------+--------------+"
      ]
     },
     "metadata": {},
     "output_type": "display_data"
    },
    {
     "data": {
      "text/html": [
       "<pre>| 1146390 | 29.9193     | 11.001ms     |</pre>"
      ],
      "text/plain": [
       "| 1146390 | 29.9193     | 11.001ms     |"
      ]
     },
     "metadata": {},
     "output_type": "display_data"
    },
    {
     "data": {
      "text/html": [
       "<pre>| 3831610 | 100         | 61.006ms     |</pre>"
      ],
      "text/plain": [
       "| 3831610 | 100         | 61.006ms     |"
      ]
     },
     "metadata": {},
     "output_type": "display_data"
    },
    {
     "data": {
      "text/html": [
       "<pre>+---------+-------------+--------------+</pre>"
      ],
      "text/plain": [
       "+---------+-------------+--------------+"
      ]
     },
     "metadata": {},
     "output_type": "display_data"
    },
    {
     "name": "stderr",
     "output_type": "stream",
     "text": [
      "[INFO] graphlab.toolkits.clustering.dbscan: Identifying noise points and core points.\n",
      "[INFO] graphlab.toolkits.clustering.dbscan: Constructing the core point similarity graph.\n"
     ]
    },
    {
     "data": {
      "text/html": [
       "<pre>+-----------------------------+</pre>"
      ],
      "text/plain": [
       "+-----------------------------+"
      ]
     },
     "metadata": {},
     "output_type": "display_data"
    },
    {
     "data": {
      "text/html": [
       "<pre>| Number of components merged |</pre>"
      ],
      "text/plain": [
       "| Number of components merged |"
      ]
     },
     "metadata": {},
     "output_type": "display_data"
    },
    {
     "data": {
      "text/html": [
       "<pre>+-----------------------------+</pre>"
      ],
      "text/plain": [
       "+-----------------------------+"
      ]
     },
     "metadata": {},
     "output_type": "display_data"
    },
    {
     "data": {
      "text/html": [
       "<pre>| 3817                        |</pre>"
      ],
      "text/plain": [
       "| 3817                        |"
      ]
     },
     "metadata": {},
     "output_type": "display_data"
    },
    {
     "data": {
      "text/html": [
       "<pre>| 0                           |</pre>"
      ],
      "text/plain": [
       "| 0                           |"
      ]
     },
     "metadata": {},
     "output_type": "display_data"
    },
    {
     "data": {
      "text/html": [
       "<pre>+-----------------------------+</pre>"
      ],
      "text/plain": [
       "+-----------------------------+"
      ]
     },
     "metadata": {},
     "output_type": "display_data"
    },
    {
     "name": "stderr",
     "output_type": "stream",
     "text": [
      "[INFO] graphlab.toolkits.clustering.dbscan: Processing boundary points.\n"
     ]
    },
    {
     "data": {
      "text/html": [
       "<pre>Starting brute force nearest neighbors model training.</pre>"
      ],
      "text/plain": [
       "Starting brute force nearest neighbors model training."
      ]
     },
     "metadata": {},
     "output_type": "display_data"
    },
    {
     "data": {
      "text/html": [
       "<pre>Starting blockwise similarity graph construction.</pre>"
      ],
      "text/plain": [
       "Starting blockwise similarity graph construction."
      ]
     },
     "metadata": {},
     "output_type": "display_data"
    },
    {
     "data": {
      "text/html": [
       "<pre>max rows per data block: 8190</pre>"
      ],
      "text/plain": [
       "max rows per data block: 8190"
      ]
     },
     "metadata": {},
     "output_type": "display_data"
    },
    {
     "data": {
      "text/html": [
       "<pre>number of reference data blocks: 4</pre>"
      ],
      "text/plain": [
       "number of reference data blocks: 4"
      ]
     },
     "metadata": {},
     "output_type": "display_data"
    },
    {
     "data": {
      "text/html": [
       "<pre>+---------+-------------+--------------+</pre>"
      ],
      "text/plain": [
       "+---------+-------------+--------------+"
      ]
     },
     "metadata": {},
     "output_type": "display_data"
    },
    {
     "data": {
      "text/html": [
       "<pre>| # Pairs | % Complete. | Elapsed Time |</pre>"
      ],
      "text/plain": [
       "| # Pairs | % Complete. | Elapsed Time |"
      ]
     },
     "metadata": {},
     "output_type": "display_data"
    },
    {
     "data": {
      "text/html": [
       "<pre>+---------+-------------+--------------+</pre>"
      ],
      "text/plain": [
       "+---------+-------------+--------------+"
      ]
     },
     "metadata": {},
     "output_type": "display_data"
    },
    {
     "data": {
      "text/html": [
       "<pre>| 1146390 | 29.9193     | 1ms          |</pre>"
      ],
      "text/plain": [
       "| 1146390 | 29.9193     | 1ms          |"
      ]
     },
     "metadata": {},
     "output_type": "display_data"
    },
    {
     "data": {
      "text/html": [
       "<pre>| 3831610 | 100         | 42.004ms     |</pre>"
      ],
      "text/plain": [
       "| 3831610 | 100         | 42.004ms     |"
      ]
     },
     "metadata": {},
     "output_type": "display_data"
    },
    {
     "data": {
      "text/html": [
       "<pre>+---------+-------------+--------------+</pre>"
      ],
      "text/plain": [
       "+---------+-------------+--------------+"
      ]
     },
     "metadata": {},
     "output_type": "display_data"
    },
    {
     "name": "stderr",
     "output_type": "stream",
     "text": [
      "[INFO] graphlab.toolkits.clustering.dbscan: Identifying noise points and core points.\n",
      "[INFO] graphlab.toolkits.clustering.dbscan: Constructing the core point similarity graph.\n"
     ]
    },
    {
     "data": {
      "text/html": [
       "<pre>+-----------------------------+</pre>"
      ],
      "text/plain": [
       "+-----------------------------+"
      ]
     },
     "metadata": {},
     "output_type": "display_data"
    },
    {
     "data": {
      "text/html": [
       "<pre>| Number of components merged |</pre>"
      ],
      "text/plain": [
       "| Number of components merged |"
      ]
     },
     "metadata": {},
     "output_type": "display_data"
    },
    {
     "data": {
      "text/html": [
       "<pre>+-----------------------------+</pre>"
      ],
      "text/plain": [
       "+-----------------------------+"
      ]
     },
     "metadata": {},
     "output_type": "display_data"
    },
    {
     "data": {
      "text/html": [
       "<pre>| 6546                        |</pre>"
      ],
      "text/plain": [
       "| 6546                        |"
      ]
     },
     "metadata": {},
     "output_type": "display_data"
    },
    {
     "data": {
      "text/html": [
       "<pre>| 0                           |</pre>"
      ],
      "text/plain": [
       "| 0                           |"
      ]
     },
     "metadata": {},
     "output_type": "display_data"
    },
    {
     "data": {
      "text/html": [
       "<pre>+-----------------------------+</pre>"
      ],
      "text/plain": [
       "+-----------------------------+"
      ]
     },
     "metadata": {},
     "output_type": "display_data"
    },
    {
     "name": "stderr",
     "output_type": "stream",
     "text": [
      "[INFO] graphlab.toolkits.clustering.dbscan: Processing boundary points.\n"
     ]
    },
    {
     "data": {
      "text/html": [
       "<pre>Finished parsing file C:\\Users\\jdr248\\160525 +- E 009 02.txt</pre>"
      ],
      "text/plain": [
       "Finished parsing file C:\\Users\\jdr248\\160525 +- E 009 02.txt"
      ]
     },
     "metadata": {},
     "output_type": "display_data"
    },
    {
     "data": {
      "text/html": [
       "<pre>Parsing completed. Parsed 100 lines in 0.020001 secs.</pre>"
      ],
      "text/plain": [
       "Parsing completed. Parsed 100 lines in 0.020001 secs."
      ]
     },
     "metadata": {},
     "output_type": "display_data"
    },
    {
     "name": "stdout",
     "output_type": "stream",
     "text": [
      "------------------------------------------------------\n",
      "Inferred types from first 100 line(s) of file as \n",
      "column_type_hints=[float,float,str,str,str,str,float,str,str,long,long,long,long,long,long]\n",
      "If parsing fails due to incorrect types, you can correct\n",
      "the inferred type list above and pass it to read_csv in\n",
      "the column_type_hints argument\n",
      "------------------------------------------------------\n"
     ]
    },
    {
     "data": {
      "text/html": [
       "<pre>Finished parsing file C:\\Users\\jdr248\\160525 +- E 009 02.txt</pre>"
      ],
      "text/plain": [
       "Finished parsing file C:\\Users\\jdr248\\160525 +- E 009 02.txt"
      ]
     },
     "metadata": {},
     "output_type": "display_data"
    },
    {
     "data": {
      "text/html": [
       "<pre>Parsing completed. Parsed 2719 lines in 0.016002 secs.</pre>"
      ],
      "text/plain": [
       "Parsing completed. Parsed 2719 lines in 0.016002 secs."
      ]
     },
     "metadata": {},
     "output_type": "display_data"
    },
    {
     "data": {
      "text/html": [
       "<pre>Starting brute force nearest neighbors model training.</pre>"
      ],
      "text/plain": [
       "Starting brute force nearest neighbors model training."
      ]
     },
     "metadata": {},
     "output_type": "display_data"
    },
    {
     "data": {
      "text/html": [
       "<pre>Starting blockwise similarity graph construction.</pre>"
      ],
      "text/plain": [
       "Starting blockwise similarity graph construction."
      ]
     },
     "metadata": {},
     "output_type": "display_data"
    },
    {
     "data": {
      "text/html": [
       "<pre>max rows per data block: 8190</pre>"
      ],
      "text/plain": [
       "max rows per data block: 8190"
      ]
     },
     "metadata": {},
     "output_type": "display_data"
    },
    {
     "data": {
      "text/html": [
       "<pre>number of reference data blocks: 4</pre>"
      ],
      "text/plain": [
       "number of reference data blocks: 4"
      ]
     },
     "metadata": {},
     "output_type": "display_data"
    },
    {
     "data": {
      "text/html": [
       "<pre>+---------+-------------+--------------+</pre>"
      ],
      "text/plain": [
       "+---------+-------------+--------------+"
      ]
     },
     "metadata": {},
     "output_type": "display_data"
    },
    {
     "data": {
      "text/html": [
       "<pre>| # Pairs | % Complete. | Elapsed Time |</pre>"
      ],
      "text/plain": [
       "| # Pairs | % Complete. | Elapsed Time |"
      ]
     },
     "metadata": {},
     "output_type": "display_data"
    },
    {
     "data": {
      "text/html": [
       "<pre>+---------+-------------+--------------+</pre>"
      ],
      "text/plain": [
       "+---------+-------------+--------------+"
      ]
     },
     "metadata": {},
     "output_type": "display_data"
    },
    {
     "data": {
      "text/html": [
       "<pre>| 1385161 | 29.9559     | 15.001ms     |</pre>"
      ],
      "text/plain": [
       "| 1385161 | 29.9559     | 15.001ms     |"
      ]
     },
     "metadata": {},
     "output_type": "display_data"
    },
    {
     "data": {
      "text/html": [
       "<pre>| 4624000 | 100         | 61.006ms     |</pre>"
      ],
      "text/plain": [
       "| 4624000 | 100         | 61.006ms     |"
      ]
     },
     "metadata": {},
     "output_type": "display_data"
    },
    {
     "data": {
      "text/html": [
       "<pre>+---------+-------------+--------------+</pre>"
      ],
      "text/plain": [
       "+---------+-------------+--------------+"
      ]
     },
     "metadata": {},
     "output_type": "display_data"
    },
    {
     "name": "stderr",
     "output_type": "stream",
     "text": [
      "[INFO] graphlab.toolkits.clustering.dbscan: Identifying noise points and core points.\n",
      "[INFO] graphlab.toolkits.clustering.dbscan: Constructing the core point similarity graph.\n"
     ]
    },
    {
     "data": {
      "text/html": [
       "<pre>+-----------------------------+</pre>"
      ],
      "text/plain": [
       "+-----------------------------+"
      ]
     },
     "metadata": {},
     "output_type": "display_data"
    },
    {
     "data": {
      "text/html": [
       "<pre>| Number of components merged |</pre>"
      ],
      "text/plain": [
       "| Number of components merged |"
      ]
     },
     "metadata": {},
     "output_type": "display_data"
    },
    {
     "data": {
      "text/html": [
       "<pre>+-----------------------------+</pre>"
      ],
      "text/plain": [
       "+-----------------------------+"
      ]
     },
     "metadata": {},
     "output_type": "display_data"
    },
    {
     "data": {
      "text/html": [
       "<pre>| 4753                        |</pre>"
      ],
      "text/plain": [
       "| 4753                        |"
      ]
     },
     "metadata": {},
     "output_type": "display_data"
    },
    {
     "data": {
      "text/html": [
       "<pre>| 0                           |</pre>"
      ],
      "text/plain": [
       "| 0                           |"
      ]
     },
     "metadata": {},
     "output_type": "display_data"
    },
    {
     "data": {
      "text/html": [
       "<pre>+-----------------------------+</pre>"
      ],
      "text/plain": [
       "+-----------------------------+"
      ]
     },
     "metadata": {},
     "output_type": "display_data"
    },
    {
     "name": "stderr",
     "output_type": "stream",
     "text": [
      "[INFO] graphlab.toolkits.clustering.dbscan: Processing boundary points.\n"
     ]
    },
    {
     "data": {
      "text/html": [
       "<pre>Starting brute force nearest neighbors model training.</pre>"
      ],
      "text/plain": [
       "Starting brute force nearest neighbors model training."
      ]
     },
     "metadata": {},
     "output_type": "display_data"
    },
    {
     "data": {
      "text/html": [
       "<pre>Starting blockwise similarity graph construction.</pre>"
      ],
      "text/plain": [
       "Starting blockwise similarity graph construction."
      ]
     },
     "metadata": {},
     "output_type": "display_data"
    },
    {
     "data": {
      "text/html": [
       "<pre>max rows per data block: 8190</pre>"
      ],
      "text/plain": [
       "max rows per data block: 8190"
      ]
     },
     "metadata": {},
     "output_type": "display_data"
    },
    {
     "data": {
      "text/html": [
       "<pre>number of reference data blocks: 4</pre>"
      ],
      "text/plain": [
       "number of reference data blocks: 4"
      ]
     },
     "metadata": {},
     "output_type": "display_data"
    },
    {
     "data": {
      "text/html": [
       "<pre>+---------+-------------+--------------+</pre>"
      ],
      "text/plain": [
       "+---------+-------------+--------------+"
      ]
     },
     "metadata": {},
     "output_type": "display_data"
    },
    {
     "data": {
      "text/html": [
       "<pre>| # Pairs | % Complete. | Elapsed Time |</pre>"
      ],
      "text/plain": [
       "| # Pairs | % Complete. | Elapsed Time |"
      ]
     },
     "metadata": {},
     "output_type": "display_data"
    },
    {
     "data": {
      "text/html": [
       "<pre>+---------+-------------+--------------+</pre>"
      ],
      "text/plain": [
       "+---------+-------------+--------------+"
      ]
     },
     "metadata": {},
     "output_type": "display_data"
    },
    {
     "data": {
      "text/html": [
       "<pre>| 1385161 | 29.9559     | 2ms          |</pre>"
      ],
      "text/plain": [
       "| 1385161 | 29.9559     | 2ms          |"
      ]
     },
     "metadata": {},
     "output_type": "display_data"
    },
    {
     "data": {
      "text/html": [
       "<pre>| 4624000 | 100         | 49.005ms     |</pre>"
      ],
      "text/plain": [
       "| 4624000 | 100         | 49.005ms     |"
      ]
     },
     "metadata": {},
     "output_type": "display_data"
    },
    {
     "data": {
      "text/html": [
       "<pre>+---------+-------------+--------------+</pre>"
      ],
      "text/plain": [
       "+---------+-------------+--------------+"
      ]
     },
     "metadata": {},
     "output_type": "display_data"
    },
    {
     "name": "stderr",
     "output_type": "stream",
     "text": [
      "[INFO] graphlab.toolkits.clustering.dbscan: Identifying noise points and core points.\n",
      "[INFO] graphlab.toolkits.clustering.dbscan: Constructing the core point similarity graph.\n"
     ]
    },
    {
     "data": {
      "text/html": [
       "<pre>+-----------------------------+</pre>"
      ],
      "text/plain": [
       "+-----------------------------+"
      ]
     },
     "metadata": {},
     "output_type": "display_data"
    },
    {
     "data": {
      "text/html": [
       "<pre>| Number of components merged |</pre>"
      ],
      "text/plain": [
       "| Number of components merged |"
      ]
     },
     "metadata": {},
     "output_type": "display_data"
    },
    {
     "data": {
      "text/html": [
       "<pre>+-----------------------------+</pre>"
      ],
      "text/plain": [
       "+-----------------------------+"
      ]
     },
     "metadata": {},
     "output_type": "display_data"
    },
    {
     "data": {
      "text/html": [
       "<pre>| 8412                        |</pre>"
      ],
      "text/plain": [
       "| 8412                        |"
      ]
     },
     "metadata": {},
     "output_type": "display_data"
    },
    {
     "data": {
      "text/html": [
       "<pre>| 0                           |</pre>"
      ],
      "text/plain": [
       "| 0                           |"
      ]
     },
     "metadata": {},
     "output_type": "display_data"
    },
    {
     "data": {
      "text/html": [
       "<pre>+-----------------------------+</pre>"
      ],
      "text/plain": [
       "+-----------------------------+"
      ]
     },
     "metadata": {},
     "output_type": "display_data"
    },
    {
     "name": "stderr",
     "output_type": "stream",
     "text": [
      "[INFO] graphlab.toolkits.clustering.dbscan: Processing boundary points.\n"
     ]
    },
    {
     "data": {
      "text/html": [
       "<pre>Finished parsing file C:\\Users\\jdr248\\160525 +- E 010 01.txt</pre>"
      ],
      "text/plain": [
       "Finished parsing file C:\\Users\\jdr248\\160525 +- E 010 01.txt"
      ]
     },
     "metadata": {},
     "output_type": "display_data"
    },
    {
     "data": {
      "text/html": [
       "<pre>Parsing completed. Parsed 100 lines in 0.020001 secs.</pre>"
      ],
      "text/plain": [
       "Parsing completed. Parsed 100 lines in 0.020001 secs."
      ]
     },
     "metadata": {},
     "output_type": "display_data"
    },
    {
     "name": "stdout",
     "output_type": "stream",
     "text": [
      "------------------------------------------------------\n",
      "Inferred types from first 100 line(s) of file as \n",
      "column_type_hints=[float,float,str,str,str,str,float,str,str,long,long,long,long,long,long]\n",
      "If parsing fails due to incorrect types, you can correct\n",
      "the inferred type list above and pass it to read_csv in\n",
      "the column_type_hints argument\n",
      "------------------------------------------------------\n"
     ]
    },
    {
     "data": {
      "text/html": [
       "<pre>Finished parsing file C:\\Users\\jdr248\\160525 +- E 010 01.txt</pre>"
      ],
      "text/plain": [
       "Finished parsing file C:\\Users\\jdr248\\160525 +- E 010 01.txt"
      ]
     },
     "metadata": {},
     "output_type": "display_data"
    },
    {
     "data": {
      "text/html": [
       "<pre>Parsing completed. Parsed 1603 lines in 0.020001 secs.</pre>"
      ],
      "text/plain": [
       "Parsing completed. Parsed 1603 lines in 0.020001 secs."
      ]
     },
     "metadata": {},
     "output_type": "display_data"
    },
    {
     "data": {
      "text/html": [
       "<pre>Starting brute force nearest neighbors model training.</pre>"
      ],
      "text/plain": [
       "Starting brute force nearest neighbors model training."
      ]
     },
     "metadata": {},
     "output_type": "display_data"
    },
    {
     "data": {
      "text/html": [
       "<pre>Starting blockwise similarity graph construction.</pre>"
      ],
      "text/plain": [
       "Starting blockwise similarity graph construction."
      ]
     },
     "metadata": {},
     "output_type": "display_data"
    },
    {
     "data": {
      "text/html": [
       "<pre>max rows per data block: 8190</pre>"
      ],
      "text/plain": [
       "max rows per data block: 8190"
      ]
     },
     "metadata": {},
     "output_type": "display_data"
    },
    {
     "data": {
      "text/html": [
       "<pre>number of reference data blocks: 4</pre>"
      ],
      "text/plain": [
       "number of reference data blocks: 4"
      ]
     },
     "metadata": {},
     "output_type": "display_data"
    },
    {
     "data": {
      "text/html": [
       "<pre>+---------+-------------+--------------+</pre>"
      ],
      "text/plain": [
       "+---------+-------------+--------------+"
      ]
     },
     "metadata": {},
     "output_type": "display_data"
    },
    {
     "data": {
      "text/html": [
       "<pre>| # Pairs | % Complete. | Elapsed Time |</pre>"
      ],
      "text/plain": [
       "| # Pairs | % Complete. | Elapsed Time |"
      ]
     },
     "metadata": {},
     "output_type": "display_data"
    },
    {
     "data": {
      "text/html": [
       "<pre>+---------+-------------+--------------+</pre>"
      ],
      "text/plain": [
       "+---------+-------------+--------------+"
      ]
     },
     "metadata": {},
     "output_type": "display_data"
    },
    {
     "data": {
      "text/html": [
       "<pre>| 481201  | 29.9252     | 4.001ms      |</pre>"
      ],
      "text/plain": [
       "| 481201  | 29.9252     | 4.001ms      |"
      ]
     },
     "metadata": {},
     "output_type": "display_data"
    },
    {
     "data": {
      "text/html": [
       "<pre>| 1608010 | 100         | 23.003ms     |</pre>"
      ],
      "text/plain": [
       "| 1608010 | 100         | 23.003ms     |"
      ]
     },
     "metadata": {},
     "output_type": "display_data"
    },
    {
     "data": {
      "text/html": [
       "<pre>+---------+-------------+--------------+</pre>"
      ],
      "text/plain": [
       "+---------+-------------+--------------+"
      ]
     },
     "metadata": {},
     "output_type": "display_data"
    },
    {
     "name": "stderr",
     "output_type": "stream",
     "text": [
      "[INFO] graphlab.toolkits.clustering.dbscan: Identifying noise points and core points.\n",
      "[INFO] graphlab.toolkits.clustering.dbscan: Constructing the core point similarity graph.\n"
     ]
    },
    {
     "data": {
      "text/html": [
       "<pre>+-----------------------------+</pre>"
      ],
      "text/plain": [
       "+-----------------------------+"
      ]
     },
     "metadata": {},
     "output_type": "display_data"
    },
    {
     "data": {
      "text/html": [
       "<pre>| Number of components merged |</pre>"
      ],
      "text/plain": [
       "| Number of components merged |"
      ]
     },
     "metadata": {},
     "output_type": "display_data"
    },
    {
     "data": {
      "text/html": [
       "<pre>+-----------------------------+</pre>"
      ],
      "text/plain": [
       "+-----------------------------+"
      ]
     },
     "metadata": {},
     "output_type": "display_data"
    },
    {
     "data": {
      "text/html": [
       "<pre>| 2134                        |</pre>"
      ],
      "text/plain": [
       "| 2134                        |"
      ]
     },
     "metadata": {},
     "output_type": "display_data"
    },
    {
     "data": {
      "text/html": [
       "<pre>| 0                           |</pre>"
      ],
      "text/plain": [
       "| 0                           |"
      ]
     },
     "metadata": {},
     "output_type": "display_data"
    },
    {
     "data": {
      "text/html": [
       "<pre>+-----------------------------+</pre>"
      ],
      "text/plain": [
       "+-----------------------------+"
      ]
     },
     "metadata": {},
     "output_type": "display_data"
    },
    {
     "name": "stderr",
     "output_type": "stream",
     "text": [
      "[INFO] graphlab.toolkits.clustering.dbscan: Processing boundary points.\n"
     ]
    },
    {
     "data": {
      "text/html": [
       "<pre>Starting brute force nearest neighbors model training.</pre>"
      ],
      "text/plain": [
       "Starting brute force nearest neighbors model training."
      ]
     },
     "metadata": {},
     "output_type": "display_data"
    },
    {
     "data": {
      "text/html": [
       "<pre>Starting blockwise similarity graph construction.</pre>"
      ],
      "text/plain": [
       "Starting blockwise similarity graph construction."
      ]
     },
     "metadata": {},
     "output_type": "display_data"
    },
    {
     "data": {
      "text/html": [
       "<pre>max rows per data block: 8190</pre>"
      ],
      "text/plain": [
       "max rows per data block: 8190"
      ]
     },
     "metadata": {},
     "output_type": "display_data"
    },
    {
     "data": {
      "text/html": [
       "<pre>number of reference data blocks: 4</pre>"
      ],
      "text/plain": [
       "number of reference data blocks: 4"
      ]
     },
     "metadata": {},
     "output_type": "display_data"
    },
    {
     "data": {
      "text/html": [
       "<pre>+---------+-------------+--------------+</pre>"
      ],
      "text/plain": [
       "+---------+-------------+--------------+"
      ]
     },
     "metadata": {},
     "output_type": "display_data"
    },
    {
     "data": {
      "text/html": [
       "<pre>| # Pairs | % Complete. | Elapsed Time |</pre>"
      ],
      "text/plain": [
       "| # Pairs | % Complete. | Elapsed Time |"
      ]
     },
     "metadata": {},
     "output_type": "display_data"
    },
    {
     "data": {
      "text/html": [
       "<pre>+---------+-------------+--------------+</pre>"
      ],
      "text/plain": [
       "+---------+-------------+--------------+"
      ]
     },
     "metadata": {},
     "output_type": "display_data"
    },
    {
     "data": {
      "text/html": [
       "<pre>| 481201  | 29.9252     | 10.001ms     |</pre>"
      ],
      "text/plain": [
       "| 481201  | 29.9252     | 10.001ms     |"
      ]
     },
     "metadata": {},
     "output_type": "display_data"
    },
    {
     "data": {
      "text/html": [
       "<pre>| 1608010 | 100         | 11.001ms     |</pre>"
      ],
      "text/plain": [
       "| 1608010 | 100         | 11.001ms     |"
      ]
     },
     "metadata": {},
     "output_type": "display_data"
    },
    {
     "data": {
      "text/html": [
       "<pre>+---------+-------------+--------------+</pre>"
      ],
      "text/plain": [
       "+---------+-------------+--------------+"
      ]
     },
     "metadata": {},
     "output_type": "display_data"
    },
    {
     "name": "stderr",
     "output_type": "stream",
     "text": [
      "[INFO] graphlab.toolkits.clustering.dbscan: Identifying noise points and core points.\n",
      "[INFO] graphlab.toolkits.clustering.dbscan: Constructing the core point similarity graph.\n"
     ]
    },
    {
     "data": {
      "text/html": [
       "<pre>+-----------------------------+</pre>"
      ],
      "text/plain": [
       "+-----------------------------+"
      ]
     },
     "metadata": {},
     "output_type": "display_data"
    },
    {
     "data": {
      "text/html": [
       "<pre>| Number of components merged |</pre>"
      ],
      "text/plain": [
       "| Number of components merged |"
      ]
     },
     "metadata": {},
     "output_type": "display_data"
    },
    {
     "data": {
      "text/html": [
       "<pre>+-----------------------------+</pre>"
      ],
      "text/plain": [
       "+-----------------------------+"
      ]
     },
     "metadata": {},
     "output_type": "display_data"
    },
    {
     "data": {
      "text/html": [
       "<pre>| 3203                        |</pre>"
      ],
      "text/plain": [
       "| 3203                        |"
      ]
     },
     "metadata": {},
     "output_type": "display_data"
    },
    {
     "data": {
      "text/html": [
       "<pre>| 0                           |</pre>"
      ],
      "text/plain": [
       "| 0                           |"
      ]
     },
     "metadata": {},
     "output_type": "display_data"
    },
    {
     "data": {
      "text/html": [
       "<pre>+-----------------------------+</pre>"
      ],
      "text/plain": [
       "+-----------------------------+"
      ]
     },
     "metadata": {},
     "output_type": "display_data"
    },
    {
     "name": "stderr",
     "output_type": "stream",
     "text": [
      "[INFO] graphlab.toolkits.clustering.dbscan: Processing boundary points.\n"
     ]
    },
    {
     "data": {
      "text/html": [
       "<pre>Finished parsing file C:\\Users\\jdr248\\160525 +- E 010 02.txt</pre>"
      ],
      "text/plain": [
       "Finished parsing file C:\\Users\\jdr248\\160525 +- E 010 02.txt"
      ]
     },
     "metadata": {},
     "output_type": "display_data"
    },
    {
     "data": {
      "text/html": [
       "<pre>Parsing completed. Parsed 100 lines in 0.020001 secs.</pre>"
      ],
      "text/plain": [
       "Parsing completed. Parsed 100 lines in 0.020001 secs."
      ]
     },
     "metadata": {},
     "output_type": "display_data"
    },
    {
     "name": "stdout",
     "output_type": "stream",
     "text": [
      "------------------------------------------------------\n",
      "Inferred types from first 100 line(s) of file as \n",
      "column_type_hints=[float,float,str,str,str,str,float,str,str,long,long,long,long,long,long]\n",
      "If parsing fails due to incorrect types, you can correct\n",
      "the inferred type list above and pass it to read_csv in\n",
      "the column_type_hints argument\n",
      "------------------------------------------------------\n"
     ]
    },
    {
     "data": {
      "text/html": [
       "<pre>Finished parsing file C:\\Users\\jdr248\\160525 +- E 010 02.txt</pre>"
      ],
      "text/plain": [
       "Finished parsing file C:\\Users\\jdr248\\160525 +- E 010 02.txt"
      ]
     },
     "metadata": {},
     "output_type": "display_data"
    },
    {
     "data": {
      "text/html": [
       "<pre>Parsing completed. Parsed 2116 lines in 0.015001 secs.</pre>"
      ],
      "text/plain": [
       "Parsing completed. Parsed 2116 lines in 0.015001 secs."
      ]
     },
     "metadata": {},
     "output_type": "display_data"
    },
    {
     "data": {
      "text/html": [
       "<pre>Starting brute force nearest neighbors model training.</pre>"
      ],
      "text/plain": [
       "Starting brute force nearest neighbors model training."
      ]
     },
     "metadata": {},
     "output_type": "display_data"
    },
    {
     "data": {
      "text/html": [
       "<pre>Starting blockwise similarity graph construction.</pre>"
      ],
      "text/plain": [
       "Starting blockwise similarity graph construction."
      ]
     },
     "metadata": {},
     "output_type": "display_data"
    },
    {
     "data": {
      "text/html": [
       "<pre>max rows per data block: 8190</pre>"
      ],
      "text/plain": [
       "max rows per data block: 8190"
      ]
     },
     "metadata": {},
     "output_type": "display_data"
    },
    {
     "data": {
      "text/html": [
       "<pre>number of reference data blocks: 4</pre>"
      ],
      "text/plain": [
       "number of reference data blocks: 4"
      ]
     },
     "metadata": {},
     "output_type": "display_data"
    },
    {
     "data": {
      "text/html": [
       "<pre>+---------+-------------+--------------+</pre>"
      ],
      "text/plain": [
       "+---------+-------------+--------------+"
      ]
     },
     "metadata": {},
     "output_type": "display_data"
    },
    {
     "data": {
      "text/html": [
       "<pre>| # Pairs | % Complete. | Elapsed Time |</pre>"
      ],
      "text/plain": [
       "| # Pairs | % Complete. | Elapsed Time |"
      ]
     },
     "metadata": {},
     "output_type": "display_data"
    },
    {
     "data": {
      "text/html": [
       "<pre>+---------+-------------+--------------+</pre>"
      ],
      "text/plain": [
       "+---------+-------------+--------------+"
      ]
     },
     "metadata": {},
     "output_type": "display_data"
    },
    {
     "data": {
      "text/html": [
       "<pre>| 839523  | 30          | 7.001ms      |</pre>"
      ],
      "text/plain": [
       "| 839523  | 30          | 7.001ms      |"
      ]
     },
     "metadata": {},
     "output_type": "display_data"
    },
    {
     "data": {
      "text/html": [
       "<pre>| 2798410 | 100         | 30.003ms     |</pre>"
      ],
      "text/plain": [
       "| 2798410 | 100         | 30.003ms     |"
      ]
     },
     "metadata": {},
     "output_type": "display_data"
    },
    {
     "data": {
      "text/html": [
       "<pre>+---------+-------------+--------------+</pre>"
      ],
      "text/plain": [
       "+---------+-------------+--------------+"
      ]
     },
     "metadata": {},
     "output_type": "display_data"
    },
    {
     "name": "stderr",
     "output_type": "stream",
     "text": [
      "[INFO] graphlab.toolkits.clustering.dbscan: Identifying noise points and core points.\n",
      "[INFO] graphlab.toolkits.clustering.dbscan: Constructing the core point similarity graph.\n"
     ]
    },
    {
     "data": {
      "text/html": [
       "<pre>+-----------------------------+</pre>"
      ],
      "text/plain": [
       "+-----------------------------+"
      ]
     },
     "metadata": {},
     "output_type": "display_data"
    },
    {
     "data": {
      "text/html": [
       "<pre>| Number of components merged |</pre>"
      ],
      "text/plain": [
       "| Number of components merged |"
      ]
     },
     "metadata": {},
     "output_type": "display_data"
    },
    {
     "data": {
      "text/html": [
       "<pre>+-----------------------------+</pre>"
      ],
      "text/plain": [
       "+-----------------------------+"
      ]
     },
     "metadata": {},
     "output_type": "display_data"
    },
    {
     "data": {
      "text/html": [
       "<pre>| 3101                        |</pre>"
      ],
      "text/plain": [
       "| 3101                        |"
      ]
     },
     "metadata": {},
     "output_type": "display_data"
    },
    {
     "data": {
      "text/html": [
       "<pre>| 0                           |</pre>"
      ],
      "text/plain": [
       "| 0                           |"
      ]
     },
     "metadata": {},
     "output_type": "display_data"
    },
    {
     "data": {
      "text/html": [
       "<pre>+-----------------------------+</pre>"
      ],
      "text/plain": [
       "+-----------------------------+"
      ]
     },
     "metadata": {},
     "output_type": "display_data"
    },
    {
     "name": "stderr",
     "output_type": "stream",
     "text": [
      "[INFO] graphlab.toolkits.clustering.dbscan: Processing boundary points.\n"
     ]
    },
    {
     "data": {
      "text/html": [
       "<pre>Starting brute force nearest neighbors model training.</pre>"
      ],
      "text/plain": [
       "Starting brute force nearest neighbors model training."
      ]
     },
     "metadata": {},
     "output_type": "display_data"
    },
    {
     "data": {
      "text/html": [
       "<pre>Starting blockwise similarity graph construction.</pre>"
      ],
      "text/plain": [
       "Starting blockwise similarity graph construction."
      ]
     },
     "metadata": {},
     "output_type": "display_data"
    },
    {
     "data": {
      "text/html": [
       "<pre>max rows per data block: 8190</pre>"
      ],
      "text/plain": [
       "max rows per data block: 8190"
      ]
     },
     "metadata": {},
     "output_type": "display_data"
    },
    {
     "data": {
      "text/html": [
       "<pre>number of reference data blocks: 4</pre>"
      ],
      "text/plain": [
       "number of reference data blocks: 4"
      ]
     },
     "metadata": {},
     "output_type": "display_data"
    },
    {
     "data": {
      "text/html": [
       "<pre>+---------+-------------+--------------+</pre>"
      ],
      "text/plain": [
       "+---------+-------------+--------------+"
      ]
     },
     "metadata": {},
     "output_type": "display_data"
    },
    {
     "data": {
      "text/html": [
       "<pre>| # Pairs | % Complete. | Elapsed Time |</pre>"
      ],
      "text/plain": [
       "| # Pairs | % Complete. | Elapsed Time |"
      ]
     },
     "metadata": {},
     "output_type": "display_data"
    },
    {
     "data": {
      "text/html": [
       "<pre>+---------+-------------+--------------+</pre>"
      ],
      "text/plain": [
       "+---------+-------------+--------------+"
      ]
     },
     "metadata": {},
     "output_type": "display_data"
    },
    {
     "data": {
      "text/html": [
       "<pre>| 839523  | 30          | 10ms         |</pre>"
      ],
      "text/plain": [
       "| 839523  | 30          | 10ms         |"
      ]
     },
     "metadata": {},
     "output_type": "display_data"
    },
    {
     "data": {
      "text/html": [
       "<pre>| 2798410 | 100         | 29.002ms     |</pre>"
      ],
      "text/plain": [
       "| 2798410 | 100         | 29.002ms     |"
      ]
     },
     "metadata": {},
     "output_type": "display_data"
    },
    {
     "data": {
      "text/html": [
       "<pre>+---------+-------------+--------------+</pre>"
      ],
      "text/plain": [
       "+---------+-------------+--------------+"
      ]
     },
     "metadata": {},
     "output_type": "display_data"
    },
    {
     "name": "stderr",
     "output_type": "stream",
     "text": [
      "[INFO] graphlab.toolkits.clustering.dbscan: Identifying noise points and core points.\n",
      "[INFO] graphlab.toolkits.clustering.dbscan: Constructing the core point similarity graph.\n"
     ]
    },
    {
     "data": {
      "text/html": [
       "<pre>+-----------------------------+</pre>"
      ],
      "text/plain": [
       "+-----------------------------+"
      ]
     },
     "metadata": {},
     "output_type": "display_data"
    },
    {
     "data": {
      "text/html": [
       "<pre>| Number of components merged |</pre>"
      ],
      "text/plain": [
       "| Number of components merged |"
      ]
     },
     "metadata": {},
     "output_type": "display_data"
    },
    {
     "data": {
      "text/html": [
       "<pre>+-----------------------------+</pre>"
      ],
      "text/plain": [
       "+-----------------------------+"
      ]
     },
     "metadata": {},
     "output_type": "display_data"
    },
    {
     "data": {
      "text/html": [
       "<pre>| 6036                        |</pre>"
      ],
      "text/plain": [
       "| 6036                        |"
      ]
     },
     "metadata": {},
     "output_type": "display_data"
    },
    {
     "data": {
      "text/html": [
       "<pre>| 0                           |</pre>"
      ],
      "text/plain": [
       "| 0                           |"
      ]
     },
     "metadata": {},
     "output_type": "display_data"
    },
    {
     "data": {
      "text/html": [
       "<pre>+-----------------------------+</pre>"
      ],
      "text/plain": [
       "+-----------------------------+"
      ]
     },
     "metadata": {},
     "output_type": "display_data"
    },
    {
     "name": "stderr",
     "output_type": "stream",
     "text": [
      "[INFO] graphlab.toolkits.clustering.dbscan: Processing boundary points.\n"
     ]
    },
    {
     "data": {
      "text/html": [
       "<pre>Finished parsing file C:\\Users\\jdr248\\160525 +- V 005 01.txt</pre>"
      ],
      "text/plain": [
       "Finished parsing file C:\\Users\\jdr248\\160525 +- V 005 01.txt"
      ]
     },
     "metadata": {},
     "output_type": "display_data"
    },
    {
     "data": {
      "text/html": [
       "<pre>Parsing completed. Parsed 100 lines in 0.030002 secs.</pre>"
      ],
      "text/plain": [
       "Parsing completed. Parsed 100 lines in 0.030002 secs."
      ]
     },
     "metadata": {},
     "output_type": "display_data"
    },
    {
     "name": "stdout",
     "output_type": "stream",
     "text": [
      "------------------------------------------------------\n",
      "Inferred types from first 100 line(s) of file as \n",
      "column_type_hints=[float,float,str,str,str,str,float,str,str,long,long,long,long,long,long]\n",
      "If parsing fails due to incorrect types, you can correct\n",
      "the inferred type list above and pass it to read_csv in\n",
      "the column_type_hints argument\n",
      "------------------------------------------------------\n"
     ]
    },
    {
     "data": {
      "text/html": [
       "<pre>Finished parsing file C:\\Users\\jdr248\\160525 +- V 005 01.txt</pre>"
      ],
      "text/plain": [
       "Finished parsing file C:\\Users\\jdr248\\160525 +- V 005 01.txt"
      ]
     },
     "metadata": {},
     "output_type": "display_data"
    },
    {
     "data": {
      "text/html": [
       "<pre>Parsing completed. Parsed 5898 lines in 0.023002 secs.</pre>"
      ],
      "text/plain": [
       "Parsing completed. Parsed 5898 lines in 0.023002 secs."
      ]
     },
     "metadata": {},
     "output_type": "display_data"
    },
    {
     "data": {
      "text/html": [
       "<pre>Starting brute force nearest neighbors model training.</pre>"
      ],
      "text/plain": [
       "Starting brute force nearest neighbors model training."
      ]
     },
     "metadata": {},
     "output_type": "display_data"
    },
    {
     "data": {
      "text/html": [
       "<pre>Starting blockwise similarity graph construction.</pre>"
      ],
      "text/plain": [
       "Starting blockwise similarity graph construction."
      ]
     },
     "metadata": {},
     "output_type": "display_data"
    },
    {
     "data": {
      "text/html": [
       "<pre>max rows per data block: 8190</pre>"
      ],
      "text/plain": [
       "max rows per data block: 8190"
      ]
     },
     "metadata": {},
     "output_type": "display_data"
    },
    {
     "data": {
      "text/html": [
       "<pre>number of reference data blocks: 4</pre>"
      ],
      "text/plain": [
       "number of reference data blocks: 4"
      ]
     },
     "metadata": {},
     "output_type": "display_data"
    },
    {
     "data": {
      "text/html": [
       "<pre>+---------+-------------+--------------+</pre>"
      ],
      "text/plain": [
       "+---------+-------------+--------------+"
      ]
     },
     "metadata": {},
     "output_type": "display_data"
    },
    {
     "data": {
      "text/html": [
       "<pre>| # Pairs | % Complete. | Elapsed Time |</pre>"
      ],
      "text/plain": [
       "| # Pairs | % Complete. | Elapsed Time |"
      ]
     },
     "metadata": {},
     "output_type": "display_data"
    },
    {
     "data": {
      "text/html": [
       "<pre>+---------+-------------+--------------+</pre>"
      ],
      "text/plain": [
       "+---------+-------------+--------------+"
      ]
     },
     "metadata": {},
     "output_type": "display_data"
    },
    {
     "data": {
      "text/html": [
       "<pre>| 6519502 | 29.9661     | 79.008ms     |</pre>"
      ],
      "text/plain": [
       "| 6519502 | 29.9661     | 79.008ms     |"
      ]
     },
     "metadata": {},
     "output_type": "display_data"
    },
    {
     "data": {
      "text/html": [
       "<pre>| 2e+007  | 100         | 298.027ms    |</pre>"
      ],
      "text/plain": [
       "| 2e+007  | 100         | 298.027ms    |"
      ]
     },
     "metadata": {},
     "output_type": "display_data"
    },
    {
     "data": {
      "text/html": [
       "<pre>+---------+-------------+--------------+</pre>"
      ],
      "text/plain": [
       "+---------+-------------+--------------+"
      ]
     },
     "metadata": {},
     "output_type": "display_data"
    },
    {
     "name": "stderr",
     "output_type": "stream",
     "text": [
      "[INFO] graphlab.toolkits.clustering.dbscan: Identifying noise points and core points.\n",
      "[INFO] graphlab.toolkits.clustering.dbscan: Constructing the core point similarity graph.\n"
     ]
    },
    {
     "data": {
      "text/html": [
       "<pre>+-----------------------------+</pre>"
      ],
      "text/plain": [
       "+-----------------------------+"
      ]
     },
     "metadata": {},
     "output_type": "display_data"
    },
    {
     "data": {
      "text/html": [
       "<pre>| Number of components merged |</pre>"
      ],
      "text/plain": [
       "| Number of components merged |"
      ]
     },
     "metadata": {},
     "output_type": "display_data"
    },
    {
     "data": {
      "text/html": [
       "<pre>+-----------------------------+</pre>"
      ],
      "text/plain": [
       "+-----------------------------+"
      ]
     },
     "metadata": {},
     "output_type": "display_data"
    },
    {
     "data": {
      "text/html": [
       "<pre>| 6616                        |</pre>"
      ],
      "text/plain": [
       "| 6616                        |"
      ]
     },
     "metadata": {},
     "output_type": "display_data"
    },
    {
     "data": {
      "text/html": [
       "<pre>| 0                           |</pre>"
      ],
      "text/plain": [
       "| 0                           |"
      ]
     },
     "metadata": {},
     "output_type": "display_data"
    },
    {
     "data": {
      "text/html": [
       "<pre>+-----------------------------+</pre>"
      ],
      "text/plain": [
       "+-----------------------------+"
      ]
     },
     "metadata": {},
     "output_type": "display_data"
    },
    {
     "name": "stderr",
     "output_type": "stream",
     "text": [
      "[INFO] graphlab.toolkits.clustering.dbscan: Processing boundary points.\n"
     ]
    },
    {
     "data": {
      "text/html": [
       "<pre>Starting brute force nearest neighbors model training.</pre>"
      ],
      "text/plain": [
       "Starting brute force nearest neighbors model training."
      ]
     },
     "metadata": {},
     "output_type": "display_data"
    },
    {
     "data": {
      "text/html": [
       "<pre>Starting blockwise similarity graph construction.</pre>"
      ],
      "text/plain": [
       "Starting blockwise similarity graph construction."
      ]
     },
     "metadata": {},
     "output_type": "display_data"
    },
    {
     "data": {
      "text/html": [
       "<pre>max rows per data block: 8190</pre>"
      ],
      "text/plain": [
       "max rows per data block: 8190"
      ]
     },
     "metadata": {},
     "output_type": "display_data"
    },
    {
     "data": {
      "text/html": [
       "<pre>number of reference data blocks: 4</pre>"
      ],
      "text/plain": [
       "number of reference data blocks: 4"
      ]
     },
     "metadata": {},
     "output_type": "display_data"
    },
    {
     "data": {
      "text/html": [
       "<pre>+---------+-------------+--------------+</pre>"
      ],
      "text/plain": [
       "+---------+-------------+--------------+"
      ]
     },
     "metadata": {},
     "output_type": "display_data"
    },
    {
     "data": {
      "text/html": [
       "<pre>| # Pairs | % Complete. | Elapsed Time |</pre>"
      ],
      "text/plain": [
       "| # Pairs | % Complete. | Elapsed Time |"
      ]
     },
     "metadata": {},
     "output_type": "display_data"
    },
    {
     "data": {
      "text/html": [
       "<pre>+---------+-------------+--------------+</pre>"
      ],
      "text/plain": [
       "+---------+-------------+--------------+"
      ]
     },
     "metadata": {},
     "output_type": "display_data"
    },
    {
     "data": {
      "text/html": [
       "<pre>| 6519502 | 29.9661     | 62.006ms     |</pre>"
      ],
      "text/plain": [
       "| 6519502 | 29.9661     | 62.006ms     |"
      ]
     },
     "metadata": {},
     "output_type": "display_data"
    },
    {
     "data": {
      "text/html": [
       "<pre>| 2e+007  | 100         | 311.029ms    |</pre>"
      ],
      "text/plain": [
       "| 2e+007  | 100         | 311.029ms    |"
      ]
     },
     "metadata": {},
     "output_type": "display_data"
    },
    {
     "data": {
      "text/html": [
       "<pre>+---------+-------------+--------------+</pre>"
      ],
      "text/plain": [
       "+---------+-------------+--------------+"
      ]
     },
     "metadata": {},
     "output_type": "display_data"
    },
    {
     "name": "stderr",
     "output_type": "stream",
     "text": [
      "[INFO] graphlab.toolkits.clustering.dbscan: Identifying noise points and core points.\n",
      "[INFO] graphlab.toolkits.clustering.dbscan: Constructing the core point similarity graph.\n"
     ]
    },
    {
     "data": {
      "text/html": [
       "<pre>+-----------------------------+</pre>"
      ],
      "text/plain": [
       "+-----------------------------+"
      ]
     },
     "metadata": {},
     "output_type": "display_data"
    },
    {
     "data": {
      "text/html": [
       "<pre>| Number of components merged |</pre>"
      ],
      "text/plain": [
       "| Number of components merged |"
      ]
     },
     "metadata": {},
     "output_type": "display_data"
    },
    {
     "data": {
      "text/html": [
       "<pre>+-----------------------------+</pre>"
      ],
      "text/plain": [
       "+-----------------------------+"
      ]
     },
     "metadata": {},
     "output_type": "display_data"
    },
    {
     "data": {
      "text/html": [
       "<pre>| 17050                       |</pre>"
      ],
      "text/plain": [
       "| 17050                       |"
      ]
     },
     "metadata": {},
     "output_type": "display_data"
    },
    {
     "data": {
      "text/html": [
       "<pre>| 0                           |</pre>"
      ],
      "text/plain": [
       "| 0                           |"
      ]
     },
     "metadata": {},
     "output_type": "display_data"
    },
    {
     "data": {
      "text/html": [
       "<pre>+-----------------------------+</pre>"
      ],
      "text/plain": [
       "+-----------------------------+"
      ]
     },
     "metadata": {},
     "output_type": "display_data"
    },
    {
     "name": "stderr",
     "output_type": "stream",
     "text": [
      "[INFO] graphlab.toolkits.clustering.dbscan: Processing boundary points.\n"
     ]
    },
    {
     "data": {
      "text/html": [
       "<pre>Finished parsing file C:\\Users\\jdr248\\160525 +- V 005 02.txt</pre>"
      ],
      "text/plain": [
       "Finished parsing file C:\\Users\\jdr248\\160525 +- V 005 02.txt"
      ]
     },
     "metadata": {},
     "output_type": "display_data"
    },
    {
     "data": {
      "text/html": [
       "<pre>Parsing completed. Parsed 100 lines in 0.020001 secs.</pre>"
      ],
      "text/plain": [
       "Parsing completed. Parsed 100 lines in 0.020001 secs."
      ]
     },
     "metadata": {},
     "output_type": "display_data"
    },
    {
     "name": "stdout",
     "output_type": "stream",
     "text": [
      "------------------------------------------------------\n",
      "Inferred types from first 100 line(s) of file as \n",
      "column_type_hints=[float,float,str,str,str,str,float,str,str,long,long,long,long,long,long]\n",
      "If parsing fails due to incorrect types, you can correct\n",
      "the inferred type list above and pass it to read_csv in\n",
      "the column_type_hints argument\n",
      "------------------------------------------------------\n"
     ]
    },
    {
     "data": {
      "text/html": [
       "<pre>Finished parsing file C:\\Users\\jdr248\\160525 +- V 005 02.txt</pre>"
      ],
      "text/plain": [
       "Finished parsing file C:\\Users\\jdr248\\160525 +- V 005 02.txt"
      ]
     },
     "metadata": {},
     "output_type": "display_data"
    },
    {
     "data": {
      "text/html": [
       "<pre>Parsing completed. Parsed 3103 lines in 0.013001 secs.</pre>"
      ],
      "text/plain": [
       "Parsing completed. Parsed 3103 lines in 0.013001 secs."
      ]
     },
     "metadata": {},
     "output_type": "display_data"
    },
    {
     "data": {
      "text/html": [
       "<pre>Starting brute force nearest neighbors model training.</pre>"
      ],
      "text/plain": [
       "Starting brute force nearest neighbors model training."
      ]
     },
     "metadata": {},
     "output_type": "display_data"
    },
    {
     "data": {
      "text/html": [
       "<pre>Starting blockwise similarity graph construction.</pre>"
      ],
      "text/plain": [
       "Starting blockwise similarity graph construction."
      ]
     },
     "metadata": {},
     "output_type": "display_data"
    },
    {
     "data": {
      "text/html": [
       "<pre>max rows per data block: 8190</pre>"
      ],
      "text/plain": [
       "max rows per data block: 8190"
      ]
     },
     "metadata": {},
     "output_type": "display_data"
    },
    {
     "data": {
      "text/html": [
       "<pre>number of reference data blocks: 4</pre>"
      ],
      "text/plain": [
       "number of reference data blocks: 4"
      ]
     },
     "metadata": {},
     "output_type": "display_data"
    },
    {
     "data": {
      "text/html": [
       "<pre>+---------+-------------+--------------+</pre>"
      ],
      "text/plain": [
       "+---------+-------------+--------------+"
      ]
     },
     "metadata": {},
     "output_type": "display_data"
    },
    {
     "data": {
      "text/html": [
       "<pre>| # Pairs | % Complete. | Elapsed Time |</pre>"
      ],
      "text/plain": [
       "| # Pairs | % Complete. | Elapsed Time |"
      ]
     },
     "metadata": {},
     "output_type": "display_data"
    },
    {
     "data": {
      "text/html": [
       "<pre>+---------+-------------+--------------+</pre>"
      ],
      "text/plain": [
       "+---------+-------------+--------------+"
      ]
     },
     "metadata": {},
     "output_type": "display_data"
    },
    {
     "data": {
      "text/html": [
       "<pre>| 1804201 | 29.9614     | 19.002ms     |</pre>"
      ],
      "text/plain": [
       "| 1804201 | 29.9614     | 19.002ms     |"
      ]
     },
     "metadata": {},
     "output_type": "display_data"
    },
    {
     "data": {
      "text/html": [
       "<pre>| 6021760 | 100         | 75.008ms     |</pre>"
      ],
      "text/plain": [
       "| 6021760 | 100         | 75.008ms     |"
      ]
     },
     "metadata": {},
     "output_type": "display_data"
    },
    {
     "data": {
      "text/html": [
       "<pre>+---------+-------------+--------------+</pre>"
      ],
      "text/plain": [
       "+---------+-------------+--------------+"
      ]
     },
     "metadata": {},
     "output_type": "display_data"
    },
    {
     "name": "stderr",
     "output_type": "stream",
     "text": [
      "[INFO] graphlab.toolkits.clustering.dbscan: Identifying noise points and core points.\n",
      "[INFO] graphlab.toolkits.clustering.dbscan: Constructing the core point similarity graph.\n"
     ]
    },
    {
     "data": {
      "text/html": [
       "<pre>+-----------------------------+</pre>"
      ],
      "text/plain": [
       "+-----------------------------+"
      ]
     },
     "metadata": {},
     "output_type": "display_data"
    },
    {
     "data": {
      "text/html": [
       "<pre>| Number of components merged |</pre>"
      ],
      "text/plain": [
       "| Number of components merged |"
      ]
     },
     "metadata": {},
     "output_type": "display_data"
    },
    {
     "data": {
      "text/html": [
       "<pre>+-----------------------------+</pre>"
      ],
      "text/plain": [
       "+-----------------------------+"
      ]
     },
     "metadata": {},
     "output_type": "display_data"
    },
    {
     "data": {
      "text/html": [
       "<pre>| 3712                        |</pre>"
      ],
      "text/plain": [
       "| 3712                        |"
      ]
     },
     "metadata": {},
     "output_type": "display_data"
    },
    {
     "data": {
      "text/html": [
       "<pre>| 0                           |</pre>"
      ],
      "text/plain": [
       "| 0                           |"
      ]
     },
     "metadata": {},
     "output_type": "display_data"
    },
    {
     "data": {
      "text/html": [
       "<pre>+-----------------------------+</pre>"
      ],
      "text/plain": [
       "+-----------------------------+"
      ]
     },
     "metadata": {},
     "output_type": "display_data"
    },
    {
     "name": "stderr",
     "output_type": "stream",
     "text": [
      "[INFO] graphlab.toolkits.clustering.dbscan: Processing boundary points.\n"
     ]
    },
    {
     "data": {
      "text/html": [
       "<pre>Starting brute force nearest neighbors model training.</pre>"
      ],
      "text/plain": [
       "Starting brute force nearest neighbors model training."
      ]
     },
     "metadata": {},
     "output_type": "display_data"
    },
    {
     "data": {
      "text/html": [
       "<pre>Starting blockwise similarity graph construction.</pre>"
      ],
      "text/plain": [
       "Starting blockwise similarity graph construction."
      ]
     },
     "metadata": {},
     "output_type": "display_data"
    },
    {
     "data": {
      "text/html": [
       "<pre>max rows per data block: 8190</pre>"
      ],
      "text/plain": [
       "max rows per data block: 8190"
      ]
     },
     "metadata": {},
     "output_type": "display_data"
    },
    {
     "data": {
      "text/html": [
       "<pre>number of reference data blocks: 4</pre>"
      ],
      "text/plain": [
       "number of reference data blocks: 4"
      ]
     },
     "metadata": {},
     "output_type": "display_data"
    },
    {
     "data": {
      "text/html": [
       "<pre>+---------+-------------+--------------+</pre>"
      ],
      "text/plain": [
       "+---------+-------------+--------------+"
      ]
     },
     "metadata": {},
     "output_type": "display_data"
    },
    {
     "data": {
      "text/html": [
       "<pre>| # Pairs | % Complete. | Elapsed Time |</pre>"
      ],
      "text/plain": [
       "| # Pairs | % Complete. | Elapsed Time |"
      ]
     },
     "metadata": {},
     "output_type": "display_data"
    },
    {
     "data": {
      "text/html": [
       "<pre>+---------+-------------+--------------+</pre>"
      ],
      "text/plain": [
       "+---------+-------------+--------------+"
      ]
     },
     "metadata": {},
     "output_type": "display_data"
    },
    {
     "data": {
      "text/html": [
       "<pre>| 1804201 | 29.9614     | 12.001ms     |</pre>"
      ],
      "text/plain": [
       "| 1804201 | 29.9614     | 12.001ms     |"
      ]
     },
     "metadata": {},
     "output_type": "display_data"
    },
    {
     "data": {
      "text/html": [
       "<pre>| 6021760 | 100         | 104.009ms    |</pre>"
      ],
      "text/plain": [
       "| 6021760 | 100         | 104.009ms    |"
      ]
     },
     "metadata": {},
     "output_type": "display_data"
    },
    {
     "data": {
      "text/html": [
       "<pre>+---------+-------------+--------------+</pre>"
      ],
      "text/plain": [
       "+---------+-------------+--------------+"
      ]
     },
     "metadata": {},
     "output_type": "display_data"
    },
    {
     "name": "stderr",
     "output_type": "stream",
     "text": [
      "[INFO] graphlab.toolkits.clustering.dbscan: Identifying noise points and core points.\n",
      "[INFO] graphlab.toolkits.clustering.dbscan: Constructing the core point similarity graph.\n"
     ]
    },
    {
     "data": {
      "text/html": [
       "<pre>+-----------------------------+</pre>"
      ],
      "text/plain": [
       "+-----------------------------+"
      ]
     },
     "metadata": {},
     "output_type": "display_data"
    },
    {
     "data": {
      "text/html": [
       "<pre>| Number of components merged |</pre>"
      ],
      "text/plain": [
       "| Number of components merged |"
      ]
     },
     "metadata": {},
     "output_type": "display_data"
    },
    {
     "data": {
      "text/html": [
       "<pre>+-----------------------------+</pre>"
      ],
      "text/plain": [
       "+-----------------------------+"
      ]
     },
     "metadata": {},
     "output_type": "display_data"
    },
    {
     "data": {
      "text/html": [
       "<pre>| 9412                        |</pre>"
      ],
      "text/plain": [
       "| 9412                        |"
      ]
     },
     "metadata": {},
     "output_type": "display_data"
    },
    {
     "data": {
      "text/html": [
       "<pre>| 0                           |</pre>"
      ],
      "text/plain": [
       "| 0                           |"
      ]
     },
     "metadata": {},
     "output_type": "display_data"
    },
    {
     "data": {
      "text/html": [
       "<pre>+-----------------------------+</pre>"
      ],
      "text/plain": [
       "+-----------------------------+"
      ]
     },
     "metadata": {},
     "output_type": "display_data"
    },
    {
     "name": "stderr",
     "output_type": "stream",
     "text": [
      "[INFO] graphlab.toolkits.clustering.dbscan: Processing boundary points.\n"
     ]
    },
    {
     "data": {
      "text/html": [
       "<pre>Finished parsing file C:\\Users\\jdr248\\160525 +- V 006 01.txt</pre>"
      ],
      "text/plain": [
       "Finished parsing file C:\\Users\\jdr248\\160525 +- V 006 01.txt"
      ]
     },
     "metadata": {},
     "output_type": "display_data"
    },
    {
     "data": {
      "text/html": [
       "<pre>Parsing completed. Parsed 100 lines in 0.030002 secs.</pre>"
      ],
      "text/plain": [
       "Parsing completed. Parsed 100 lines in 0.030002 secs."
      ]
     },
     "metadata": {},
     "output_type": "display_data"
    },
    {
     "name": "stdout",
     "output_type": "stream",
     "text": [
      "------------------------------------------------------\n",
      "Inferred types from first 100 line(s) of file as \n",
      "column_type_hints=[float,float,str,str,str,str,float,str,str,long,long,long,long,long,long]\n",
      "If parsing fails due to incorrect types, you can correct\n",
      "the inferred type list above and pass it to read_csv in\n",
      "the column_type_hints argument\n",
      "------------------------------------------------------\n"
     ]
    },
    {
     "data": {
      "text/html": [
       "<pre>Finished parsing file C:\\Users\\jdr248\\160525 +- V 006 01.txt</pre>"
      ],
      "text/plain": [
       "Finished parsing file C:\\Users\\jdr248\\160525 +- V 006 01.txt"
      ]
     },
     "metadata": {},
     "output_type": "display_data"
    },
    {
     "data": {
      "text/html": [
       "<pre>Parsing completed. Parsed 4999 lines in 0.023003 secs.</pre>"
      ],
      "text/plain": [
       "Parsing completed. Parsed 4999 lines in 0.023003 secs."
      ]
     },
     "metadata": {},
     "output_type": "display_data"
    },
    {
     "data": {
      "text/html": [
       "<pre>Starting brute force nearest neighbors model training.</pre>"
      ],
      "text/plain": [
       "Starting brute force nearest neighbors model training."
      ]
     },
     "metadata": {},
     "output_type": "display_data"
    },
    {
     "data": {
      "text/html": [
       "<pre>Starting blockwise similarity graph construction.</pre>"
      ],
      "text/plain": [
       "Starting blockwise similarity graph construction."
      ]
     },
     "metadata": {},
     "output_type": "display_data"
    },
    {
     "data": {
      "text/html": [
       "<pre>max rows per data block: 8190</pre>"
      ],
      "text/plain": [
       "max rows per data block: 8190"
      ]
     },
     "metadata": {},
     "output_type": "display_data"
    },
    {
     "data": {
      "text/html": [
       "<pre>number of reference data blocks: 4</pre>"
      ],
      "text/plain": [
       "number of reference data blocks: 4"
      ]
     },
     "metadata": {},
     "output_type": "display_data"
    },
    {
     "data": {
      "text/html": [
       "<pre>+---------+-------------+--------------+</pre>"
      ],
      "text/plain": [
       "+---------+-------------+--------------+"
      ]
     },
     "metadata": {},
     "output_type": "display_data"
    },
    {
     "data": {
      "text/html": [
       "<pre>| # Pairs | % Complete. | Elapsed Time |</pre>"
      ],
      "text/plain": [
       "| # Pairs | % Complete. | Elapsed Time |"
      ]
     },
     "metadata": {},
     "output_type": "display_data"
    },
    {
     "data": {
      "text/html": [
       "<pre>+---------+-------------+--------------+</pre>"
      ],
      "text/plain": [
       "+---------+-------------+--------------+"
      ]
     },
     "metadata": {},
     "output_type": "display_data"
    },
    {
     "data": {
      "text/html": [
       "<pre>| 4683751 | 29.976      | 58.005ms     |</pre>"
      ],
      "text/plain": [
       "| 4683751 | 29.976      | 58.005ms     |"
      ]
     },
     "metadata": {},
     "output_type": "display_data"
    },
    {
     "data": {
      "text/html": [
       "<pre>| 2e+007  | 100         | 208.019ms    |</pre>"
      ],
      "text/plain": [
       "| 2e+007  | 100         | 208.019ms    |"
      ]
     },
     "metadata": {},
     "output_type": "display_data"
    },
    {
     "data": {
      "text/html": [
       "<pre>+---------+-------------+--------------+</pre>"
      ],
      "text/plain": [
       "+---------+-------------+--------------+"
      ]
     },
     "metadata": {},
     "output_type": "display_data"
    },
    {
     "name": "stderr",
     "output_type": "stream",
     "text": [
      "[INFO] graphlab.toolkits.clustering.dbscan: Identifying noise points and core points.\n",
      "[INFO] graphlab.toolkits.clustering.dbscan: Constructing the core point similarity graph.\n"
     ]
    },
    {
     "data": {
      "text/html": [
       "<pre>+-----------------------------+</pre>"
      ],
      "text/plain": [
       "+-----------------------------+"
      ]
     },
     "metadata": {},
     "output_type": "display_data"
    },
    {
     "data": {
      "text/html": [
       "<pre>| Number of components merged |</pre>"
      ],
      "text/plain": [
       "| Number of components merged |"
      ]
     },
     "metadata": {},
     "output_type": "display_data"
    },
    {
     "data": {
      "text/html": [
       "<pre>+-----------------------------+</pre>"
      ],
      "text/plain": [
       "+-----------------------------+"
      ]
     },
     "metadata": {},
     "output_type": "display_data"
    },
    {
     "data": {
      "text/html": [
       "<pre>| 5725                        |</pre>"
      ],
      "text/plain": [
       "| 5725                        |"
      ]
     },
     "metadata": {},
     "output_type": "display_data"
    },
    {
     "data": {
      "text/html": [
       "<pre>| 0                           |</pre>"
      ],
      "text/plain": [
       "| 0                           |"
      ]
     },
     "metadata": {},
     "output_type": "display_data"
    },
    {
     "data": {
      "text/html": [
       "<pre>+-----------------------------+</pre>"
      ],
      "text/plain": [
       "+-----------------------------+"
      ]
     },
     "metadata": {},
     "output_type": "display_data"
    },
    {
     "name": "stderr",
     "output_type": "stream",
     "text": [
      "[INFO] graphlab.toolkits.clustering.dbscan: Processing boundary points.\n"
     ]
    },
    {
     "data": {
      "text/html": [
       "<pre>Starting brute force nearest neighbors model training.</pre>"
      ],
      "text/plain": [
       "Starting brute force nearest neighbors model training."
      ]
     },
     "metadata": {},
     "output_type": "display_data"
    },
    {
     "data": {
      "text/html": [
       "<pre>Starting blockwise similarity graph construction.</pre>"
      ],
      "text/plain": [
       "Starting blockwise similarity graph construction."
      ]
     },
     "metadata": {},
     "output_type": "display_data"
    },
    {
     "data": {
      "text/html": [
       "<pre>max rows per data block: 8190</pre>"
      ],
      "text/plain": [
       "max rows per data block: 8190"
      ]
     },
     "metadata": {},
     "output_type": "display_data"
    },
    {
     "data": {
      "text/html": [
       "<pre>number of reference data blocks: 4</pre>"
      ],
      "text/plain": [
       "number of reference data blocks: 4"
      ]
     },
     "metadata": {},
     "output_type": "display_data"
    },
    {
     "data": {
      "text/html": [
       "<pre>+---------+-------------+--------------+</pre>"
      ],
      "text/plain": [
       "+---------+-------------+--------------+"
      ]
     },
     "metadata": {},
     "output_type": "display_data"
    },
    {
     "data": {
      "text/html": [
       "<pre>| # Pairs | % Complete. | Elapsed Time |</pre>"
      ],
      "text/plain": [
       "| # Pairs | % Complete. | Elapsed Time |"
      ]
     },
     "metadata": {},
     "output_type": "display_data"
    },
    {
     "data": {
      "text/html": [
       "<pre>+---------+-------------+--------------+</pre>"
      ],
      "text/plain": [
       "+---------+-------------+--------------+"
      ]
     },
     "metadata": {},
     "output_type": "display_data"
    },
    {
     "data": {
      "text/html": [
       "<pre>| 4683751 | 29.976      | 55.005ms     |</pre>"
      ],
      "text/plain": [
       "| 4683751 | 29.976      | 55.005ms     |"
      ]
     },
     "metadata": {},
     "output_type": "display_data"
    },
    {
     "data": {
      "text/html": [
       "<pre>| 2e+007  | 100         | 222.02ms     |</pre>"
      ],
      "text/plain": [
       "| 2e+007  | 100         | 222.02ms     |"
      ]
     },
     "metadata": {},
     "output_type": "display_data"
    },
    {
     "data": {
      "text/html": [
       "<pre>+---------+-------------+--------------+</pre>"
      ],
      "text/plain": [
       "+---------+-------------+--------------+"
      ]
     },
     "metadata": {},
     "output_type": "display_data"
    },
    {
     "name": "stderr",
     "output_type": "stream",
     "text": [
      "[INFO] graphlab.toolkits.clustering.dbscan: Identifying noise points and core points.\n",
      "[INFO] graphlab.toolkits.clustering.dbscan: Constructing the core point similarity graph.\n"
     ]
    },
    {
     "data": {
      "text/html": [
       "<pre>+-----------------------------+</pre>"
      ],
      "text/plain": [
       "+-----------------------------+"
      ]
     },
     "metadata": {},
     "output_type": "display_data"
    },
    {
     "data": {
      "text/html": [
       "<pre>| Number of components merged |</pre>"
      ],
      "text/plain": [
       "| Number of components merged |"
      ]
     },
     "metadata": {},
     "output_type": "display_data"
    },
    {
     "data": {
      "text/html": [
       "<pre>+-----------------------------+</pre>"
      ],
      "text/plain": [
       "+-----------------------------+"
      ]
     },
     "metadata": {},
     "output_type": "display_data"
    },
    {
     "data": {
      "text/html": [
       "<pre>| 15218                       |</pre>"
      ],
      "text/plain": [
       "| 15218                       |"
      ]
     },
     "metadata": {},
     "output_type": "display_data"
    },
    {
     "data": {
      "text/html": [
       "<pre>| 0                           |</pre>"
      ],
      "text/plain": [
       "| 0                           |"
      ]
     },
     "metadata": {},
     "output_type": "display_data"
    },
    {
     "data": {
      "text/html": [
       "<pre>+-----------------------------+</pre>"
      ],
      "text/plain": [
       "+-----------------------------+"
      ]
     },
     "metadata": {},
     "output_type": "display_data"
    },
    {
     "name": "stderr",
     "output_type": "stream",
     "text": [
      "[INFO] graphlab.toolkits.clustering.dbscan: Processing boundary points.\n"
     ]
    },
    {
     "data": {
      "text/html": [
       "<pre>Finished parsing file C:\\Users\\jdr248\\160525 +- V 006 02.txt</pre>"
      ],
      "text/plain": [
       "Finished parsing file C:\\Users\\jdr248\\160525 +- V 006 02.txt"
      ]
     },
     "metadata": {},
     "output_type": "display_data"
    },
    {
     "data": {
      "text/html": [
       "<pre>Parsing completed. Parsed 100 lines in 0.020001 secs.</pre>"
      ],
      "text/plain": [
       "Parsing completed. Parsed 100 lines in 0.020001 secs."
      ]
     },
     "metadata": {},
     "output_type": "display_data"
    },
    {
     "name": "stdout",
     "output_type": "stream",
     "text": [
      "------------------------------------------------------\n",
      "Inferred types from first 100 line(s) of file as \n",
      "column_type_hints=[float,float,str,str,str,str,float,str,str,long,long,long,long,long,long]\n",
      "If parsing fails due to incorrect types, you can correct\n",
      "the inferred type list above and pass it to read_csv in\n",
      "the column_type_hints argument\n",
      "------------------------------------------------------\n"
     ]
    },
    {
     "data": {
      "text/html": [
       "<pre>Finished parsing file C:\\Users\\jdr248\\160525 +- V 006 02.txt</pre>"
      ],
      "text/plain": [
       "Finished parsing file C:\\Users\\jdr248\\160525 +- V 006 02.txt"
      ]
     },
     "metadata": {},
     "output_type": "display_data"
    },
    {
     "data": {
      "text/html": [
       "<pre>Parsing completed. Parsed 4422 lines in 0.019002 secs.</pre>"
      ],
      "text/plain": [
       "Parsing completed. Parsed 4422 lines in 0.019002 secs."
      ]
     },
     "metadata": {},
     "output_type": "display_data"
    },
    {
     "data": {
      "text/html": [
       "<pre>Starting brute force nearest neighbors model training.</pre>"
      ],
      "text/plain": [
       "Starting brute force nearest neighbors model training."
      ]
     },
     "metadata": {},
     "output_type": "display_data"
    },
    {
     "data": {
      "text/html": [
       "<pre>Starting blockwise similarity graph construction.</pre>"
      ],
      "text/plain": [
       "Starting blockwise similarity graph construction."
      ]
     },
     "metadata": {},
     "output_type": "display_data"
    },
    {
     "data": {
      "text/html": [
       "<pre>max rows per data block: 8190</pre>"
      ],
      "text/plain": [
       "max rows per data block: 8190"
      ]
     },
     "metadata": {},
     "output_type": "display_data"
    },
    {
     "data": {
      "text/html": [
       "<pre>number of reference data blocks: 4</pre>"
      ],
      "text/plain": [
       "number of reference data blocks: 4"
      ]
     },
     "metadata": {},
     "output_type": "display_data"
    },
    {
     "data": {
      "text/html": [
       "<pre>+---------+-------------+--------------+</pre>"
      ],
      "text/plain": [
       "+---------+-------------+--------------+"
      ]
     },
     "metadata": {},
     "output_type": "display_data"
    },
    {
     "data": {
      "text/html": [
       "<pre>| # Pairs | % Complete. | Elapsed Time |</pre>"
      ],
      "text/plain": [
       "| # Pairs | % Complete. | Elapsed Time |"
      ]
     },
     "metadata": {},
     "output_type": "display_data"
    },
    {
     "data": {
      "text/html": [
       "<pre>+---------+-------------+--------------+</pre>"
      ],
      "text/plain": [
       "+---------+-------------+--------------+"
      ]
     },
     "metadata": {},
     "output_type": "display_data"
    },
    {
     "data": {
      "text/html": [
       "<pre>| 3664180 | 29.9548     | 37.003ms     |</pre>"
      ],
      "text/plain": [
       "| 3664180 | 29.9548     | 37.003ms     |"
      ]
     },
     "metadata": {},
     "output_type": "display_data"
    },
    {
     "data": {
      "text/html": [
       "<pre>| 1e+007  | 100         | 169.015ms    |</pre>"
      ],
      "text/plain": [
       "| 1e+007  | 100         | 169.015ms    |"
      ]
     },
     "metadata": {},
     "output_type": "display_data"
    },
    {
     "data": {
      "text/html": [
       "<pre>+---------+-------------+--------------+</pre>"
      ],
      "text/plain": [
       "+---------+-------------+--------------+"
      ]
     },
     "metadata": {},
     "output_type": "display_data"
    },
    {
     "name": "stderr",
     "output_type": "stream",
     "text": [
      "[INFO] graphlab.toolkits.clustering.dbscan: Identifying noise points and core points.\n",
      "[INFO] graphlab.toolkits.clustering.dbscan: Constructing the core point similarity graph.\n"
     ]
    },
    {
     "data": {
      "text/html": [
       "<pre>+-----------------------------+</pre>"
      ],
      "text/plain": [
       "+-----------------------------+"
      ]
     },
     "metadata": {},
     "output_type": "display_data"
    },
    {
     "data": {
      "text/html": [
       "<pre>| Number of components merged |</pre>"
      ],
      "text/plain": [
       "| Number of components merged |"
      ]
     },
     "metadata": {},
     "output_type": "display_data"
    },
    {
     "data": {
      "text/html": [
       "<pre>+-----------------------------+</pre>"
      ],
      "text/plain": [
       "+-----------------------------+"
      ]
     },
     "metadata": {},
     "output_type": "display_data"
    },
    {
     "data": {
      "text/html": [
       "<pre>| 4824                        |</pre>"
      ],
      "text/plain": [
       "| 4824                        |"
      ]
     },
     "metadata": {},
     "output_type": "display_data"
    },
    {
     "data": {
      "text/html": [
       "<pre>| 0                           |</pre>"
      ],
      "text/plain": [
       "| 0                           |"
      ]
     },
     "metadata": {},
     "output_type": "display_data"
    },
    {
     "data": {
      "text/html": [
       "<pre>+-----------------------------+</pre>"
      ],
      "text/plain": [
       "+-----------------------------+"
      ]
     },
     "metadata": {},
     "output_type": "display_data"
    },
    {
     "name": "stderr",
     "output_type": "stream",
     "text": [
      "[INFO] graphlab.toolkits.clustering.dbscan: Processing boundary points.\n"
     ]
    },
    {
     "data": {
      "text/html": [
       "<pre>Starting brute force nearest neighbors model training.</pre>"
      ],
      "text/plain": [
       "Starting brute force nearest neighbors model training."
      ]
     },
     "metadata": {},
     "output_type": "display_data"
    },
    {
     "data": {
      "text/html": [
       "<pre>Starting blockwise similarity graph construction.</pre>"
      ],
      "text/plain": [
       "Starting blockwise similarity graph construction."
      ]
     },
     "metadata": {},
     "output_type": "display_data"
    },
    {
     "data": {
      "text/html": [
       "<pre>max rows per data block: 8190</pre>"
      ],
      "text/plain": [
       "max rows per data block: 8190"
      ]
     },
     "metadata": {},
     "output_type": "display_data"
    },
    {
     "data": {
      "text/html": [
       "<pre>number of reference data blocks: 4</pre>"
      ],
      "text/plain": [
       "number of reference data blocks: 4"
      ]
     },
     "metadata": {},
     "output_type": "display_data"
    },
    {
     "data": {
      "text/html": [
       "<pre>+---------+-------------+--------------+</pre>"
      ],
      "text/plain": [
       "+---------+-------------+--------------+"
      ]
     },
     "metadata": {},
     "output_type": "display_data"
    },
    {
     "data": {
      "text/html": [
       "<pre>| # Pairs | % Complete. | Elapsed Time |</pre>"
      ],
      "text/plain": [
       "| # Pairs | % Complete. | Elapsed Time |"
      ]
     },
     "metadata": {},
     "output_type": "display_data"
    },
    {
     "data": {
      "text/html": [
       "<pre>+---------+-------------+--------------+</pre>"
      ],
      "text/plain": [
       "+---------+-------------+--------------+"
      ]
     },
     "metadata": {},
     "output_type": "display_data"
    },
    {
     "data": {
      "text/html": [
       "<pre>| 3664180 | 29.9548     | 37.003ms     |</pre>"
      ],
      "text/plain": [
       "| 3664180 | 29.9548     | 37.003ms     |"
      ]
     },
     "metadata": {},
     "output_type": "display_data"
    },
    {
     "data": {
      "text/html": [
       "<pre>| 1e+007  | 100         | 192.017ms    |</pre>"
      ],
      "text/plain": [
       "| 1e+007  | 100         | 192.017ms    |"
      ]
     },
     "metadata": {},
     "output_type": "display_data"
    },
    {
     "data": {
      "text/html": [
       "<pre>+---------+-------------+--------------+</pre>"
      ],
      "text/plain": [
       "+---------+-------------+--------------+"
      ]
     },
     "metadata": {},
     "output_type": "display_data"
    },
    {
     "name": "stderr",
     "output_type": "stream",
     "text": [
      "[INFO] graphlab.toolkits.clustering.dbscan: Identifying noise points and core points.\n",
      "[INFO] graphlab.toolkits.clustering.dbscan: Constructing the core point similarity graph.\n"
     ]
    },
    {
     "data": {
      "text/html": [
       "<pre>+-----------------------------+</pre>"
      ],
      "text/plain": [
       "+-----------------------------+"
      ]
     },
     "metadata": {},
     "output_type": "display_data"
    },
    {
     "data": {
      "text/html": [
       "<pre>| Number of components merged |</pre>"
      ],
      "text/plain": [
       "| Number of components merged |"
      ]
     },
     "metadata": {},
     "output_type": "display_data"
    },
    {
     "data": {
      "text/html": [
       "<pre>+-----------------------------+</pre>"
      ],
      "text/plain": [
       "+-----------------------------+"
      ]
     },
     "metadata": {},
     "output_type": "display_data"
    },
    {
     "data": {
      "text/html": [
       "<pre>| 15022                       |</pre>"
      ],
      "text/plain": [
       "| 15022                       |"
      ]
     },
     "metadata": {},
     "output_type": "display_data"
    },
    {
     "data": {
      "text/html": [
       "<pre>| 0                           |</pre>"
      ],
      "text/plain": [
       "| 0                           |"
      ]
     },
     "metadata": {},
     "output_type": "display_data"
    },
    {
     "data": {
      "text/html": [
       "<pre>+-----------------------------+</pre>"
      ],
      "text/plain": [
       "+-----------------------------+"
      ]
     },
     "metadata": {},
     "output_type": "display_data"
    },
    {
     "name": "stderr",
     "output_type": "stream",
     "text": [
      "[INFO] graphlab.toolkits.clustering.dbscan: Processing boundary points.\n"
     ]
    },
    {
     "data": {
      "text/html": [
       "<pre>Finished parsing file C:\\Users\\jdr248\\160525 +- V 009 01.txt</pre>"
      ],
      "text/plain": [
       "Finished parsing file C:\\Users\\jdr248\\160525 +- V 009 01.txt"
      ]
     },
     "metadata": {},
     "output_type": "display_data"
    },
    {
     "data": {
      "text/html": [
       "<pre>Parsing completed. Parsed 100 lines in 0.020001 secs.</pre>"
      ],
      "text/plain": [
       "Parsing completed. Parsed 100 lines in 0.020001 secs."
      ]
     },
     "metadata": {},
     "output_type": "display_data"
    },
    {
     "name": "stdout",
     "output_type": "stream",
     "text": [
      "------------------------------------------------------\n",
      "Inferred types from first 100 line(s) of file as \n",
      "column_type_hints=[float,float,str,str,str,str,float,str,str,long,long,long,long,long,long]\n",
      "If parsing fails due to incorrect types, you can correct\n",
      "the inferred type list above and pass it to read_csv in\n",
      "the column_type_hints argument\n",
      "------------------------------------------------------\n"
     ]
    },
    {
     "data": {
      "text/html": [
       "<pre>Finished parsing file C:\\Users\\jdr248\\160525 +- V 009 01.txt</pre>"
      ],
      "text/plain": [
       "Finished parsing file C:\\Users\\jdr248\\160525 +- V 009 01.txt"
      ]
     },
     "metadata": {},
     "output_type": "display_data"
    },
    {
     "data": {
      "text/html": [
       "<pre>Parsing completed. Parsed 3881 lines in 0.017002 secs.</pre>"
      ],
      "text/plain": [
       "Parsing completed. Parsed 3881 lines in 0.017002 secs."
      ]
     },
     "metadata": {},
     "output_type": "display_data"
    },
    {
     "data": {
      "text/html": [
       "<pre>Starting brute force nearest neighbors model training.</pre>"
      ],
      "text/plain": [
       "Starting brute force nearest neighbors model training."
      ]
     },
     "metadata": {},
     "output_type": "display_data"
    },
    {
     "data": {
      "text/html": [
       "<pre>Starting blockwise similarity graph construction.</pre>"
      ],
      "text/plain": [
       "Starting blockwise similarity graph construction."
      ]
     },
     "metadata": {},
     "output_type": "display_data"
    },
    {
     "data": {
      "text/html": [
       "<pre>max rows per data block: 8190</pre>"
      ],
      "text/plain": [
       "max rows per data block: 8190"
      ]
     },
     "metadata": {},
     "output_type": "display_data"
    },
    {
     "data": {
      "text/html": [
       "<pre>number of reference data blocks: 4</pre>"
      ],
      "text/plain": [
       "number of reference data blocks: 4"
      ]
     },
     "metadata": {},
     "output_type": "display_data"
    },
    {
     "data": {
      "text/html": [
       "<pre>+---------+-------------+--------------+</pre>"
      ],
      "text/plain": [
       "+---------+-------------+--------------+"
      ]
     },
     "metadata": {},
     "output_type": "display_data"
    },
    {
     "data": {
      "text/html": [
       "<pre>| # Pairs | % Complete. | Elapsed Time |</pre>"
      ],
      "text/plain": [
       "| # Pairs | % Complete. | Elapsed Time |"
      ]
     },
     "metadata": {},
     "output_type": "display_data"
    },
    {
     "data": {
      "text/html": [
       "<pre>+---------+-------------+--------------+</pre>"
      ],
      "text/plain": [
       "+---------+-------------+--------------+"
      ]
     },
     "metadata": {},
     "output_type": "display_data"
    },
    {
     "data": {
      "text/html": [
       "<pre>| 2822700 | 29.9382     | 33.003ms     |</pre>"
      ],
      "text/plain": [
       "| 2822700 | 29.9382     | 33.003ms     |"
      ]
     },
     "metadata": {},
     "output_type": "display_data"
    },
    {
     "data": {
      "text/html": [
       "<pre>| 9428410 | 100         | 135.012ms    |</pre>"
      ],
      "text/plain": [
       "| 9428410 | 100         | 135.012ms    |"
      ]
     },
     "metadata": {},
     "output_type": "display_data"
    },
    {
     "data": {
      "text/html": [
       "<pre>+---------+-------------+--------------+</pre>"
      ],
      "text/plain": [
       "+---------+-------------+--------------+"
      ]
     },
     "metadata": {},
     "output_type": "display_data"
    },
    {
     "name": "stderr",
     "output_type": "stream",
     "text": [
      "[INFO] graphlab.toolkits.clustering.dbscan: Identifying noise points and core points.\n",
      "[INFO] graphlab.toolkits.clustering.dbscan: Constructing the core point similarity graph.\n"
     ]
    },
    {
     "data": {
      "text/html": [
       "<pre>+-----------------------------+</pre>"
      ],
      "text/plain": [
       "+-----------------------------+"
      ]
     },
     "metadata": {},
     "output_type": "display_data"
    },
    {
     "data": {
      "text/html": [
       "<pre>| Number of components merged |</pre>"
      ],
      "text/plain": [
       "| Number of components merged |"
      ]
     },
     "metadata": {},
     "output_type": "display_data"
    },
    {
     "data": {
      "text/html": [
       "<pre>+-----------------------------+</pre>"
      ],
      "text/plain": [
       "+-----------------------------+"
      ]
     },
     "metadata": {},
     "output_type": "display_data"
    },
    {
     "data": {
      "text/html": [
       "<pre>| 4963                        |</pre>"
      ],
      "text/plain": [
       "| 4963                        |"
      ]
     },
     "metadata": {},
     "output_type": "display_data"
    },
    {
     "data": {
      "text/html": [
       "<pre>| 0                           |</pre>"
      ],
      "text/plain": [
       "| 0                           |"
      ]
     },
     "metadata": {},
     "output_type": "display_data"
    },
    {
     "data": {
      "text/html": [
       "<pre>+-----------------------------+</pre>"
      ],
      "text/plain": [
       "+-----------------------------+"
      ]
     },
     "metadata": {},
     "output_type": "display_data"
    },
    {
     "name": "stderr",
     "output_type": "stream",
     "text": [
      "[INFO] graphlab.toolkits.clustering.dbscan: Processing boundary points.\n"
     ]
    },
    {
     "data": {
      "text/html": [
       "<pre>Starting brute force nearest neighbors model training.</pre>"
      ],
      "text/plain": [
       "Starting brute force nearest neighbors model training."
      ]
     },
     "metadata": {},
     "output_type": "display_data"
    },
    {
     "data": {
      "text/html": [
       "<pre>Starting blockwise similarity graph construction.</pre>"
      ],
      "text/plain": [
       "Starting blockwise similarity graph construction."
      ]
     },
     "metadata": {},
     "output_type": "display_data"
    },
    {
     "data": {
      "text/html": [
       "<pre>max rows per data block: 8190</pre>"
      ],
      "text/plain": [
       "max rows per data block: 8190"
      ]
     },
     "metadata": {},
     "output_type": "display_data"
    },
    {
     "data": {
      "text/html": [
       "<pre>number of reference data blocks: 4</pre>"
      ],
      "text/plain": [
       "number of reference data blocks: 4"
      ]
     },
     "metadata": {},
     "output_type": "display_data"
    },
    {
     "data": {
      "text/html": [
       "<pre>+---------+-------------+--------------+</pre>"
      ],
      "text/plain": [
       "+---------+-------------+--------------+"
      ]
     },
     "metadata": {},
     "output_type": "display_data"
    },
    {
     "data": {
      "text/html": [
       "<pre>| # Pairs | % Complete. | Elapsed Time |</pre>"
      ],
      "text/plain": [
       "| # Pairs | % Complete. | Elapsed Time |"
      ]
     },
     "metadata": {},
     "output_type": "display_data"
    },
    {
     "data": {
      "text/html": [
       "<pre>+---------+-------------+--------------+</pre>"
      ],
      "text/plain": [
       "+---------+-------------+--------------+"
      ]
     },
     "metadata": {},
     "output_type": "display_data"
    },
    {
     "data": {
      "text/html": [
       "<pre>| 2822700 | 29.9382     | 36.004ms     |</pre>"
      ],
      "text/plain": [
       "| 2822700 | 29.9382     | 36.004ms     |"
      ]
     },
     "metadata": {},
     "output_type": "display_data"
    },
    {
     "data": {
      "text/html": [
       "<pre>| 9428410 | 100         | 135.013ms    |</pre>"
      ],
      "text/plain": [
       "| 9428410 | 100         | 135.013ms    |"
      ]
     },
     "metadata": {},
     "output_type": "display_data"
    },
    {
     "data": {
      "text/html": [
       "<pre>+---------+-------------+--------------+</pre>"
      ],
      "text/plain": [
       "+---------+-------------+--------------+"
      ]
     },
     "metadata": {},
     "output_type": "display_data"
    },
    {
     "name": "stderr",
     "output_type": "stream",
     "text": [
      "[INFO] graphlab.toolkits.clustering.dbscan: Identifying noise points and core points.\n",
      "[INFO] graphlab.toolkits.clustering.dbscan: Constructing the core point similarity graph.\n"
     ]
    },
    {
     "data": {
      "text/html": [
       "<pre>+-----------------------------+</pre>"
      ],
      "text/plain": [
       "+-----------------------------+"
      ]
     },
     "metadata": {},
     "output_type": "display_data"
    },
    {
     "data": {
      "text/html": [
       "<pre>| Number of components merged |</pre>"
      ],
      "text/plain": [
       "| Number of components merged |"
      ]
     },
     "metadata": {},
     "output_type": "display_data"
    },
    {
     "data": {
      "text/html": [
       "<pre>+-----------------------------+</pre>"
      ],
      "text/plain": [
       "+-----------------------------+"
      ]
     },
     "metadata": {},
     "output_type": "display_data"
    },
    {
     "data": {
      "text/html": [
       "<pre>| 9949                        |</pre>"
      ],
      "text/plain": [
       "| 9949                        |"
      ]
     },
     "metadata": {},
     "output_type": "display_data"
    },
    {
     "data": {
      "text/html": [
       "<pre>| 0                           |</pre>"
      ],
      "text/plain": [
       "| 0                           |"
      ]
     },
     "metadata": {},
     "output_type": "display_data"
    },
    {
     "data": {
      "text/html": [
       "<pre>+-----------------------------+</pre>"
      ],
      "text/plain": [
       "+-----------------------------+"
      ]
     },
     "metadata": {},
     "output_type": "display_data"
    },
    {
     "name": "stderr",
     "output_type": "stream",
     "text": [
      "[INFO] graphlab.toolkits.clustering.dbscan: Processing boundary points.\n"
     ]
    },
    {
     "data": {
      "text/html": [
       "<pre>Finished parsing file C:\\Users\\jdr248\\160525 +- V 009 02.txt</pre>"
      ],
      "text/plain": [
       "Finished parsing file C:\\Users\\jdr248\\160525 +- V 009 02.txt"
      ]
     },
     "metadata": {},
     "output_type": "display_data"
    },
    {
     "data": {
      "text/html": [
       "<pre>Parsing completed. Parsed 100 lines in 0.020001 secs.</pre>"
      ],
      "text/plain": [
       "Parsing completed. Parsed 100 lines in 0.020001 secs."
      ]
     },
     "metadata": {},
     "output_type": "display_data"
    },
    {
     "name": "stdout",
     "output_type": "stream",
     "text": [
      "------------------------------------------------------\n",
      "Inferred types from first 100 line(s) of file as \n",
      "column_type_hints=[float,float,str,str,str,str,float,str,str,long,long,long,long,long,long]\n",
      "If parsing fails due to incorrect types, you can correct\n",
      "the inferred type list above and pass it to read_csv in\n",
      "the column_type_hints argument\n",
      "------------------------------------------------------\n"
     ]
    },
    {
     "data": {
      "text/html": [
       "<pre>Finished parsing file C:\\Users\\jdr248\\160525 +- V 009 02.txt</pre>"
      ],
      "text/plain": [
       "Finished parsing file C:\\Users\\jdr248\\160525 +- V 009 02.txt"
      ]
     },
     "metadata": {},
     "output_type": "display_data"
    },
    {
     "data": {
      "text/html": [
       "<pre>Parsing completed. Parsed 3509 lines in 0.016001 secs.</pre>"
      ],
      "text/plain": [
       "Parsing completed. Parsed 3509 lines in 0.016001 secs."
      ]
     },
     "metadata": {},
     "output_type": "display_data"
    },
    {
     "data": {
      "text/html": [
       "<pre>Starting brute force nearest neighbors model training.</pre>"
      ],
      "text/plain": [
       "Starting brute force nearest neighbors model training."
      ]
     },
     "metadata": {},
     "output_type": "display_data"
    },
    {
     "data": {
      "text/html": [
       "<pre>Starting blockwise similarity graph construction.</pre>"
      ],
      "text/plain": [
       "Starting blockwise similarity graph construction."
      ]
     },
     "metadata": {},
     "output_type": "display_data"
    },
    {
     "data": {
      "text/html": [
       "<pre>max rows per data block: 8190</pre>"
      ],
      "text/plain": [
       "max rows per data block: 8190"
      ]
     },
     "metadata": {},
     "output_type": "display_data"
    },
    {
     "data": {
      "text/html": [
       "<pre>number of reference data blocks: 4</pre>"
      ],
      "text/plain": [
       "number of reference data blocks: 4"
      ]
     },
     "metadata": {},
     "output_type": "display_data"
    },
    {
     "data": {
      "text/html": [
       "<pre>+---------+-------------+--------------+</pre>"
      ],
      "text/plain": [
       "+---------+-------------+--------------+"
      ]
     },
     "metadata": {},
     "output_type": "display_data"
    },
    {
     "data": {
      "text/html": [
       "<pre>| # Pairs | % Complete. | Elapsed Time |</pre>"
      ],
      "text/plain": [
       "| # Pairs | % Complete. | Elapsed Time |"
      ]
     },
     "metadata": {},
     "output_type": "display_data"
    },
    {
     "data": {
      "text/html": [
       "<pre>+---------+-------------+--------------+</pre>"
      ],
      "text/plain": [
       "+---------+-------------+--------------+"
      ]
     },
     "metadata": {},
     "output_type": "display_data"
    },
    {
     "data": {
      "text/html": [
       "<pre>| 2307387 | 29.9317     | 23.002ms     |</pre>"
      ],
      "text/plain": [
       "| 2307387 | 29.9317     | 23.002ms     |"
      ]
     },
     "metadata": {},
     "output_type": "display_data"
    },
    {
     "data": {
      "text/html": [
       "<pre>| 7708840 | 100         | 107.01ms     |</pre>"
      ],
      "text/plain": [
       "| 7708840 | 100         | 107.01ms     |"
      ]
     },
     "metadata": {},
     "output_type": "display_data"
    },
    {
     "data": {
      "text/html": [
       "<pre>+---------+-------------+--------------+</pre>"
      ],
      "text/plain": [
       "+---------+-------------+--------------+"
      ]
     },
     "metadata": {},
     "output_type": "display_data"
    },
    {
     "name": "stderr",
     "output_type": "stream",
     "text": [
      "[INFO] graphlab.toolkits.clustering.dbscan: Identifying noise points and core points.\n",
      "[INFO] graphlab.toolkits.clustering.dbscan: Constructing the core point similarity graph.\n"
     ]
    },
    {
     "data": {
      "text/html": [
       "<pre>+-----------------------------+</pre>"
      ],
      "text/plain": [
       "+-----------------------------+"
      ]
     },
     "metadata": {},
     "output_type": "display_data"
    },
    {
     "data": {
      "text/html": [
       "<pre>| Number of components merged |</pre>"
      ],
      "text/plain": [
       "| Number of components merged |"
      ]
     },
     "metadata": {},
     "output_type": "display_data"
    },
    {
     "data": {
      "text/html": [
       "<pre>+-----------------------------+</pre>"
      ],
      "text/plain": [
       "+-----------------------------+"
      ]
     },
     "metadata": {},
     "output_type": "display_data"
    },
    {
     "data": {
      "text/html": [
       "<pre>| 5634                        |</pre>"
      ],
      "text/plain": [
       "| 5634                        |"
      ]
     },
     "metadata": {},
     "output_type": "display_data"
    },
    {
     "data": {
      "text/html": [
       "<pre>| 0                           |</pre>"
      ],
      "text/plain": [
       "| 0                           |"
      ]
     },
     "metadata": {},
     "output_type": "display_data"
    },
    {
     "data": {
      "text/html": [
       "<pre>+-----------------------------+</pre>"
      ],
      "text/plain": [
       "+-----------------------------+"
      ]
     },
     "metadata": {},
     "output_type": "display_data"
    },
    {
     "name": "stderr",
     "output_type": "stream",
     "text": [
      "[INFO] graphlab.toolkits.clustering.dbscan: Processing boundary points.\n"
     ]
    },
    {
     "data": {
      "text/html": [
       "<pre>Starting brute force nearest neighbors model training.</pre>"
      ],
      "text/plain": [
       "Starting brute force nearest neighbors model training."
      ]
     },
     "metadata": {},
     "output_type": "display_data"
    },
    {
     "data": {
      "text/html": [
       "<pre>Starting blockwise similarity graph construction.</pre>"
      ],
      "text/plain": [
       "Starting blockwise similarity graph construction."
      ]
     },
     "metadata": {},
     "output_type": "display_data"
    },
    {
     "data": {
      "text/html": [
       "<pre>max rows per data block: 8190</pre>"
      ],
      "text/plain": [
       "max rows per data block: 8190"
      ]
     },
     "metadata": {},
     "output_type": "display_data"
    },
    {
     "data": {
      "text/html": [
       "<pre>number of reference data blocks: 4</pre>"
      ],
      "text/plain": [
       "number of reference data blocks: 4"
      ]
     },
     "metadata": {},
     "output_type": "display_data"
    },
    {
     "data": {
      "text/html": [
       "<pre>+---------+-------------+--------------+</pre>"
      ],
      "text/plain": [
       "+---------+-------------+--------------+"
      ]
     },
     "metadata": {},
     "output_type": "display_data"
    },
    {
     "data": {
      "text/html": [
       "<pre>| # Pairs | % Complete. | Elapsed Time |</pre>"
      ],
      "text/plain": [
       "| # Pairs | % Complete. | Elapsed Time |"
      ]
     },
     "metadata": {},
     "output_type": "display_data"
    },
    {
     "data": {
      "text/html": [
       "<pre>+---------+-------------+--------------+</pre>"
      ],
      "text/plain": [
       "+---------+-------------+--------------+"
      ]
     },
     "metadata": {},
     "output_type": "display_data"
    },
    {
     "data": {
      "text/html": [
       "<pre>| 2307387 | 29.9317     | 12.001ms     |</pre>"
      ],
      "text/plain": [
       "| 2307387 | 29.9317     | 12.001ms     |"
      ]
     },
     "metadata": {},
     "output_type": "display_data"
    },
    {
     "data": {
      "text/html": [
       "<pre>| 7708840 | 100         | 93.009ms     |</pre>"
      ],
      "text/plain": [
       "| 7708840 | 100         | 93.009ms     |"
      ]
     },
     "metadata": {},
     "output_type": "display_data"
    },
    {
     "data": {
      "text/html": [
       "<pre>+---------+-------------+--------------+</pre>"
      ],
      "text/plain": [
       "+---------+-------------+--------------+"
      ]
     },
     "metadata": {},
     "output_type": "display_data"
    },
    {
     "name": "stderr",
     "output_type": "stream",
     "text": [
      "[INFO] graphlab.toolkits.clustering.dbscan: Identifying noise points and core points.\n",
      "[INFO] graphlab.toolkits.clustering.dbscan: Constructing the core point similarity graph.\n"
     ]
    },
    {
     "data": {
      "text/html": [
       "<pre>+-----------------------------+</pre>"
      ],
      "text/plain": [
       "+-----------------------------+"
      ]
     },
     "metadata": {},
     "output_type": "display_data"
    },
    {
     "data": {
      "text/html": [
       "<pre>| Number of components merged |</pre>"
      ],
      "text/plain": [
       "| Number of components merged |"
      ]
     },
     "metadata": {},
     "output_type": "display_data"
    },
    {
     "data": {
      "text/html": [
       "<pre>+-----------------------------+</pre>"
      ],
      "text/plain": [
       "+-----------------------------+"
      ]
     },
     "metadata": {},
     "output_type": "display_data"
    },
    {
     "data": {
      "text/html": [
       "<pre>| 10939                       |</pre>"
      ],
      "text/plain": [
       "| 10939                       |"
      ]
     },
     "metadata": {},
     "output_type": "display_data"
    },
    {
     "data": {
      "text/html": [
       "<pre>| 0                           |</pre>"
      ],
      "text/plain": [
       "| 0                           |"
      ]
     },
     "metadata": {},
     "output_type": "display_data"
    },
    {
     "data": {
      "text/html": [
       "<pre>+-----------------------------+</pre>"
      ],
      "text/plain": [
       "+-----------------------------+"
      ]
     },
     "metadata": {},
     "output_type": "display_data"
    },
    {
     "name": "stderr",
     "output_type": "stream",
     "text": [
      "[INFO] graphlab.toolkits.clustering.dbscan: Processing boundary points.\n"
     ]
    },
    {
     "data": {
      "text/html": [
       "<pre>Finished parsing file C:\\Users\\jdr248\\160525 +- V 010 01.txt</pre>"
      ],
      "text/plain": [
       "Finished parsing file C:\\Users\\jdr248\\160525 +- V 010 01.txt"
      ]
     },
     "metadata": {},
     "output_type": "display_data"
    },
    {
     "data": {
      "text/html": [
       "<pre>Parsing completed. Parsed 100 lines in 0.030001 secs.</pre>"
      ],
      "text/plain": [
       "Parsing completed. Parsed 100 lines in 0.030001 secs."
      ]
     },
     "metadata": {},
     "output_type": "display_data"
    },
    {
     "name": "stdout",
     "output_type": "stream",
     "text": [
      "------------------------------------------------------\n",
      "Inferred types from first 100 line(s) of file as \n",
      "column_type_hints=[float,float,str,str,str,str,float,str,str,long,long,long,long,long,long]\n",
      "If parsing fails due to incorrect types, you can correct\n",
      "the inferred type list above and pass it to read_csv in\n",
      "the column_type_hints argument\n",
      "------------------------------------------------------\n"
     ]
    },
    {
     "data": {
      "text/html": [
       "<pre>Finished parsing file C:\\Users\\jdr248\\160525 +- V 010 01.txt</pre>"
      ],
      "text/plain": [
       "Finished parsing file C:\\Users\\jdr248\\160525 +- V 010 01.txt"
      ]
     },
     "metadata": {},
     "output_type": "display_data"
    },
    {
     "data": {
      "text/html": [
       "<pre>Parsing completed. Parsed 7005 lines in 0.026002 secs.</pre>"
      ],
      "text/plain": [
       "Parsing completed. Parsed 7005 lines in 0.026002 secs."
      ]
     },
     "metadata": {},
     "output_type": "display_data"
    },
    {
     "data": {
      "text/html": [
       "<pre>Starting brute force nearest neighbors model training.</pre>"
      ],
      "text/plain": [
       "Starting brute force nearest neighbors model training."
      ]
     },
     "metadata": {},
     "output_type": "display_data"
    },
    {
     "data": {
      "text/html": [
       "<pre>Starting blockwise similarity graph construction.</pre>"
      ],
      "text/plain": [
       "Starting blockwise similarity graph construction."
      ]
     },
     "metadata": {},
     "output_type": "display_data"
    },
    {
     "data": {
      "text/html": [
       "<pre>max rows per data block: 8190</pre>"
      ],
      "text/plain": [
       "max rows per data block: 8190"
      ]
     },
     "metadata": {},
     "output_type": "display_data"
    },
    {
     "data": {
      "text/html": [
       "<pre>number of reference data blocks: 4</pre>"
      ],
      "text/plain": [
       "number of reference data blocks: 4"
      ]
     },
     "metadata": {},
     "output_type": "display_data"
    },
    {
     "data": {
      "text/html": [
       "<pre>+---------+-------------+--------------+</pre>"
      ],
      "text/plain": [
       "+---------+-------------+--------------+"
      ]
     },
     "metadata": {},
     "output_type": "display_data"
    },
    {
     "data": {
      "text/html": [
       "<pre>| # Pairs | % Complete. | Elapsed Time |</pre>"
      ],
      "text/plain": [
       "| # Pairs | % Complete. | Elapsed Time |"
      ]
     },
     "metadata": {},
     "output_type": "display_data"
    },
    {
     "data": {
      "text/html": [
       "<pre>+---------+-------------+--------------+</pre>"
      ],
      "text/plain": [
       "+---------+-------------+--------------+"
      ]
     },
     "metadata": {},
     "output_type": "display_data"
    },
    {
     "data": {
      "text/html": [
       "<pre>| 9198003 | 29.9658     | 103.01ms     |</pre>"
      ],
      "text/plain": [
       "| 9198003 | 29.9658     | 103.01ms     |"
      ]
     },
     "metadata": {},
     "output_type": "display_data"
    },
    {
     "data": {
      "text/html": [
       "<pre>| 3e+007  | 100         | 396.036ms    |</pre>"
      ],
      "text/plain": [
       "| 3e+007  | 100         | 396.036ms    |"
      ]
     },
     "metadata": {},
     "output_type": "display_data"
    },
    {
     "data": {
      "text/html": [
       "<pre>+---------+-------------+--------------+</pre>"
      ],
      "text/plain": [
       "+---------+-------------+--------------+"
      ]
     },
     "metadata": {},
     "output_type": "display_data"
    },
    {
     "name": "stderr",
     "output_type": "stream",
     "text": [
      "[INFO] graphlab.toolkits.clustering.dbscan: Identifying noise points and core points.\n",
      "[INFO] graphlab.toolkits.clustering.dbscan: Constructing the core point similarity graph.\n"
     ]
    },
    {
     "data": {
      "text/html": [
       "<pre>+-----------------------------+</pre>"
      ],
      "text/plain": [
       "+-----------------------------+"
      ]
     },
     "metadata": {},
     "output_type": "display_data"
    },
    {
     "data": {
      "text/html": [
       "<pre>| Number of components merged |</pre>"
      ],
      "text/plain": [
       "| Number of components merged |"
      ]
     },
     "metadata": {},
     "output_type": "display_data"
    },
    {
     "data": {
      "text/html": [
       "<pre>+-----------------------------+</pre>"
      ],
      "text/plain": [
       "+-----------------------------+"
      ]
     },
     "metadata": {},
     "output_type": "display_data"
    },
    {
     "data": {
      "text/html": [
       "<pre>| 10249                       |</pre>"
      ],
      "text/plain": [
       "| 10249                       |"
      ]
     },
     "metadata": {},
     "output_type": "display_data"
    },
    {
     "data": {
      "text/html": [
       "<pre>| 0                           |</pre>"
      ],
      "text/plain": [
       "| 0                           |"
      ]
     },
     "metadata": {},
     "output_type": "display_data"
    },
    {
     "data": {
      "text/html": [
       "<pre>+-----------------------------+</pre>"
      ],
      "text/plain": [
       "+-----------------------------+"
      ]
     },
     "metadata": {},
     "output_type": "display_data"
    },
    {
     "name": "stderr",
     "output_type": "stream",
     "text": [
      "[INFO] graphlab.toolkits.clustering.dbscan: Processing boundary points.\n"
     ]
    },
    {
     "data": {
      "text/html": [
       "<pre>Starting brute force nearest neighbors model training.</pre>"
      ],
      "text/plain": [
       "Starting brute force nearest neighbors model training."
      ]
     },
     "metadata": {},
     "output_type": "display_data"
    },
    {
     "data": {
      "text/html": [
       "<pre>Starting blockwise similarity graph construction.</pre>"
      ],
      "text/plain": [
       "Starting blockwise similarity graph construction."
      ]
     },
     "metadata": {},
     "output_type": "display_data"
    },
    {
     "data": {
      "text/html": [
       "<pre>max rows per data block: 8190</pre>"
      ],
      "text/plain": [
       "max rows per data block: 8190"
      ]
     },
     "metadata": {},
     "output_type": "display_data"
    },
    {
     "data": {
      "text/html": [
       "<pre>number of reference data blocks: 4</pre>"
      ],
      "text/plain": [
       "number of reference data blocks: 4"
      ]
     },
     "metadata": {},
     "output_type": "display_data"
    },
    {
     "data": {
      "text/html": [
       "<pre>+---------+-------------+--------------+</pre>"
      ],
      "text/plain": [
       "+---------+-------------+--------------+"
      ]
     },
     "metadata": {},
     "output_type": "display_data"
    },
    {
     "data": {
      "text/html": [
       "<pre>| # Pairs | % Complete. | Elapsed Time |</pre>"
      ],
      "text/plain": [
       "| # Pairs | % Complete. | Elapsed Time |"
      ]
     },
     "metadata": {},
     "output_type": "display_data"
    },
    {
     "data": {
      "text/html": [
       "<pre>+---------+-------------+--------------+</pre>"
      ],
      "text/plain": [
       "+---------+-------------+--------------+"
      ]
     },
     "metadata": {},
     "output_type": "display_data"
    },
    {
     "data": {
      "text/html": [
       "<pre>| 9198003 | 29.9658     | 96.01ms      |</pre>"
      ],
      "text/plain": [
       "| 9198003 | 29.9658     | 96.01ms      |"
      ]
     },
     "metadata": {},
     "output_type": "display_data"
    },
    {
     "data": {
      "text/html": [
       "<pre>| 3e+007  | 100         | 442.039ms    |</pre>"
      ],
      "text/plain": [
       "| 3e+007  | 100         | 442.039ms    |"
      ]
     },
     "metadata": {},
     "output_type": "display_data"
    },
    {
     "data": {
      "text/html": [
       "<pre>+---------+-------------+--------------+</pre>"
      ],
      "text/plain": [
       "+---------+-------------+--------------+"
      ]
     },
     "metadata": {},
     "output_type": "display_data"
    },
    {
     "name": "stderr",
     "output_type": "stream",
     "text": [
      "[INFO] graphlab.toolkits.clustering.dbscan: Identifying noise points and core points.\n",
      "[INFO] graphlab.toolkits.clustering.dbscan: Constructing the core point similarity graph.\n"
     ]
    },
    {
     "data": {
      "text/html": [
       "<pre>+-----------------------------+</pre>"
      ],
      "text/plain": [
       "+-----------------------------+"
      ]
     },
     "metadata": {},
     "output_type": "display_data"
    },
    {
     "data": {
      "text/html": [
       "<pre>| Number of components merged |</pre>"
      ],
      "text/plain": [
       "| Number of components merged |"
      ]
     },
     "metadata": {},
     "output_type": "display_data"
    },
    {
     "data": {
      "text/html": [
       "<pre>+-----------------------------+</pre>"
      ],
      "text/plain": [
       "+-----------------------------+"
      ]
     },
     "metadata": {},
     "output_type": "display_data"
    },
    {
     "data": {
      "text/html": [
       "<pre>| 20995                       |</pre>"
      ],
      "text/plain": [
       "| 20995                       |"
      ]
     },
     "metadata": {},
     "output_type": "display_data"
    },
    {
     "data": {
      "text/html": [
       "<pre>| 0                           |</pre>"
      ],
      "text/plain": [
       "| 0                           |"
      ]
     },
     "metadata": {},
     "output_type": "display_data"
    },
    {
     "data": {
      "text/html": [
       "<pre>+-----------------------------+</pre>"
      ],
      "text/plain": [
       "+-----------------------------+"
      ]
     },
     "metadata": {},
     "output_type": "display_data"
    },
    {
     "name": "stderr",
     "output_type": "stream",
     "text": [
      "[INFO] graphlab.toolkits.clustering.dbscan: Processing boundary points.\n"
     ]
    },
    {
     "data": {
      "text/html": [
       "<pre>Finished parsing file C:\\Users\\jdr248\\160525 +- V 010 02.txt</pre>"
      ],
      "text/plain": [
       "Finished parsing file C:\\Users\\jdr248\\160525 +- V 010 02.txt"
      ]
     },
     "metadata": {},
     "output_type": "display_data"
    },
    {
     "data": {
      "text/html": [
       "<pre>Parsing completed. Parsed 100 lines in 0.029002 secs.</pre>"
      ],
      "text/plain": [
       "Parsing completed. Parsed 100 lines in 0.029002 secs."
      ]
     },
     "metadata": {},
     "output_type": "display_data"
    },
    {
     "name": "stdout",
     "output_type": "stream",
     "text": [
      "------------------------------------------------------\n",
      "Inferred types from first 100 line(s) of file as \n",
      "column_type_hints=[float,float,str,str,str,str,float,str,str,long,long,long,long,long,long]\n",
      "If parsing fails due to incorrect types, you can correct\n",
      "the inferred type list above and pass it to read_csv in\n",
      "the column_type_hints argument\n",
      "------------------------------------------------------\n"
     ]
    },
    {
     "data": {
      "text/html": [
       "<pre>Finished parsing file C:\\Users\\jdr248\\160525 +- V 010 02.txt</pre>"
      ],
      "text/plain": [
       "Finished parsing file C:\\Users\\jdr248\\160525 +- V 010 02.txt"
      ]
     },
     "metadata": {},
     "output_type": "display_data"
    },
    {
     "data": {
      "text/html": [
       "<pre>Parsing completed. Parsed 6182 lines in 0.024002 secs.</pre>"
      ],
      "text/plain": [
       "Parsing completed. Parsed 6182 lines in 0.024002 secs."
      ]
     },
     "metadata": {},
     "output_type": "display_data"
    },
    {
     "data": {
      "text/html": [
       "<pre>Starting brute force nearest neighbors model training.</pre>"
      ],
      "text/plain": [
       "Starting brute force nearest neighbors model training."
      ]
     },
     "metadata": {},
     "output_type": "display_data"
    },
    {
     "data": {
      "text/html": [
       "<pre>Starting blockwise similarity graph construction.</pre>"
      ],
      "text/plain": [
       "Starting blockwise similarity graph construction."
      ]
     },
     "metadata": {},
     "output_type": "display_data"
    },
    {
     "data": {
      "text/html": [
       "<pre>max rows per data block: 8190</pre>"
      ],
      "text/plain": [
       "max rows per data block: 8190"
      ]
     },
     "metadata": {},
     "output_type": "display_data"
    },
    {
     "data": {
      "text/html": [
       "<pre>number of reference data blocks: 4</pre>"
      ],
      "text/plain": [
       "number of reference data blocks: 4"
      ]
     },
     "metadata": {},
     "output_type": "display_data"
    },
    {
     "data": {
      "text/html": [
       "<pre>+---------+-------------+--------------+</pre>"
      ],
      "text/plain": [
       "+---------+-------------+--------------+"
      ]
     },
     "metadata": {},
     "output_type": "display_data"
    },
    {
     "data": {
      "text/html": [
       "<pre>| # Pairs | % Complete. | Elapsed Time |</pre>"
      ],
      "text/plain": [
       "| # Pairs | % Complete. | Elapsed Time |"
      ]
     },
     "metadata": {},
     "output_type": "display_data"
    },
    {
     "data": {
      "text/html": [
       "<pre>+---------+-------------+--------------+</pre>"
      ],
      "text/plain": [
       "+---------+-------------+--------------+"
      ]
     },
     "metadata": {},
     "output_type": "display_data"
    },
    {
     "data": {
      "text/html": [
       "<pre>| 7162620 | 29.9677     | 85.008ms     |</pre>"
      ],
      "text/plain": [
       "| 7162620 | 29.9677     | 85.008ms     |"
      ]
     },
     "metadata": {},
     "output_type": "display_data"
    },
    {
     "data": {
      "text/html": [
       "<pre>| 2e+007  | 100         | 389.039ms    |</pre>"
      ],
      "text/plain": [
       "| 2e+007  | 100         | 389.039ms    |"
      ]
     },
     "metadata": {},
     "output_type": "display_data"
    },
    {
     "data": {
      "text/html": [
       "<pre>+---------+-------------+--------------+</pre>"
      ],
      "text/plain": [
       "+---------+-------------+--------------+"
      ]
     },
     "metadata": {},
     "output_type": "display_data"
    },
    {
     "name": "stderr",
     "output_type": "stream",
     "text": [
      "[INFO] graphlab.toolkits.clustering.dbscan: Identifying noise points and core points.\n",
      "[INFO] graphlab.toolkits.clustering.dbscan: Constructing the core point similarity graph.\n"
     ]
    },
    {
     "data": {
      "text/html": [
       "<pre>+-----------------------------+</pre>"
      ],
      "text/plain": [
       "+-----------------------------+"
      ]
     },
     "metadata": {},
     "output_type": "display_data"
    },
    {
     "data": {
      "text/html": [
       "<pre>| Number of components merged |</pre>"
      ],
      "text/plain": [
       "| Number of components merged |"
      ]
     },
     "metadata": {},
     "output_type": "display_data"
    },
    {
     "data": {
      "text/html": [
       "<pre>+-----------------------------+</pre>"
      ],
      "text/plain": [
       "+-----------------------------+"
      ]
     },
     "metadata": {},
     "output_type": "display_data"
    },
    {
     "data": {
      "text/html": [
       "<pre>| 10847                       |</pre>"
      ],
      "text/plain": [
       "| 10847                       |"
      ]
     },
     "metadata": {},
     "output_type": "display_data"
    },
    {
     "data": {
      "text/html": [
       "<pre>| 0                           |</pre>"
      ],
      "text/plain": [
       "| 0                           |"
      ]
     },
     "metadata": {},
     "output_type": "display_data"
    },
    {
     "data": {
      "text/html": [
       "<pre>+-----------------------------+</pre>"
      ],
      "text/plain": [
       "+-----------------------------+"
      ]
     },
     "metadata": {},
     "output_type": "display_data"
    },
    {
     "name": "stderr",
     "output_type": "stream",
     "text": [
      "[INFO] graphlab.toolkits.clustering.dbscan: Processing boundary points.\n"
     ]
    },
    {
     "data": {
      "text/html": [
       "<pre>Starting brute force nearest neighbors model training.</pre>"
      ],
      "text/plain": [
       "Starting brute force nearest neighbors model training."
      ]
     },
     "metadata": {},
     "output_type": "display_data"
    },
    {
     "data": {
      "text/html": [
       "<pre>Starting blockwise similarity graph construction.</pre>"
      ],
      "text/plain": [
       "Starting blockwise similarity graph construction."
      ]
     },
     "metadata": {},
     "output_type": "display_data"
    },
    {
     "data": {
      "text/html": [
       "<pre>max rows per data block: 8190</pre>"
      ],
      "text/plain": [
       "max rows per data block: 8190"
      ]
     },
     "metadata": {},
     "output_type": "display_data"
    },
    {
     "data": {
      "text/html": [
       "<pre>number of reference data blocks: 4</pre>"
      ],
      "text/plain": [
       "number of reference data blocks: 4"
      ]
     },
     "metadata": {},
     "output_type": "display_data"
    },
    {
     "data": {
      "text/html": [
       "<pre>+---------+-------------+--------------+</pre>"
      ],
      "text/plain": [
       "+---------+-------------+--------------+"
      ]
     },
     "metadata": {},
     "output_type": "display_data"
    },
    {
     "data": {
      "text/html": [
       "<pre>| # Pairs | % Complete. | Elapsed Time |</pre>"
      ],
      "text/plain": [
       "| # Pairs | % Complete. | Elapsed Time |"
      ]
     },
     "metadata": {},
     "output_type": "display_data"
    },
    {
     "data": {
      "text/html": [
       "<pre>+---------+-------------+--------------+</pre>"
      ],
      "text/plain": [
       "+---------+-------------+--------------+"
      ]
     },
     "metadata": {},
     "output_type": "display_data"
    },
    {
     "data": {
      "text/html": [
       "<pre>| 7162620 | 29.9677     | 104.011ms    |</pre>"
      ],
      "text/plain": [
       "| 7162620 | 29.9677     | 104.011ms    |"
      ]
     },
     "metadata": {},
     "output_type": "display_data"
    },
    {
     "data": {
      "text/html": [
       "<pre>| 2e+007  | 100         | 324.033ms    |</pre>"
      ],
      "text/plain": [
       "| 2e+007  | 100         | 324.033ms    |"
      ]
     },
     "metadata": {},
     "output_type": "display_data"
    },
    {
     "data": {
      "text/html": [
       "<pre>+---------+-------------+--------------+</pre>"
      ],
      "text/plain": [
       "+---------+-------------+--------------+"
      ]
     },
     "metadata": {},
     "output_type": "display_data"
    },
    {
     "name": "stderr",
     "output_type": "stream",
     "text": [
      "[INFO] graphlab.toolkits.clustering.dbscan: Identifying noise points and core points.\n",
      "[INFO] graphlab.toolkits.clustering.dbscan: Constructing the core point similarity graph.\n"
     ]
    },
    {
     "data": {
      "text/html": [
       "<pre>+-----------------------------+</pre>"
      ],
      "text/plain": [
       "+-----------------------------+"
      ]
     },
     "metadata": {},
     "output_type": "display_data"
    },
    {
     "data": {
      "text/html": [
       "<pre>| Number of components merged |</pre>"
      ],
      "text/plain": [
       "| Number of components merged |"
      ]
     },
     "metadata": {},
     "output_type": "display_data"
    },
    {
     "data": {
      "text/html": [
       "<pre>+-----------------------------+</pre>"
      ],
      "text/plain": [
       "+-----------------------------+"
      ]
     },
     "metadata": {},
     "output_type": "display_data"
    },
    {
     "data": {
      "text/html": [
       "<pre>| 20433                       |</pre>"
      ],
      "text/plain": [
       "| 20433                       |"
      ]
     },
     "metadata": {},
     "output_type": "display_data"
    },
    {
     "data": {
      "text/html": [
       "<pre>| 0                           |</pre>"
      ],
      "text/plain": [
       "| 0                           |"
      ]
     },
     "metadata": {},
     "output_type": "display_data"
    },
    {
     "data": {
      "text/html": [
       "<pre>+-----------------------------+</pre>"
      ],
      "text/plain": [
       "+-----------------------------+"
      ]
     },
     "metadata": {},
     "output_type": "display_data"
    },
    {
     "name": "stderr",
     "output_type": "stream",
     "text": [
      "[INFO] graphlab.toolkits.clustering.dbscan: Processing boundary points.\n"
     ]
    }
   ],
   "source": [
    "Total = gl.SFrame({'cluster_id':gl.SArray(dtype = int),'Num_points':gl.SArray(dtype = int),\n",
    "                   'Clus_Vol':gl.SArray(dtype = float),\n",
    "                   'Clus_Dens':gl.SArray(dtype = float),'Treatment':gl.SArray(dtype = str), 'File':gl.SArray(dtype = str),\n",
    "                   'Subject':gl.SArray(dtype = str),'% Tot Clus':gl.SArray(dtype = float),'Total Area':gl.SArray(dtype = float),\n",
    "                   'Total Clustered':gl.SArray(dtype = float)})\n",
    "for f in os.listdir('Cluster_Data'):     #loads up every txt file in the cluster_data dir but sources from main dir\n",
    "    Total = Total.append(Cluster_Volume(f))    #makes master list\n",
    "    Total = Total.sort(['Subject',\"Treatment\"])\n",
    "    Total.export_csv(filename = 'Size.txt', delimiter = '\t')\n",
    "\n"
   ]
  },
  {
   "cell_type": "code",
   "execution_count": null,
   "metadata": {
    "collapsed": true
   },
   "outputs": [],
   "source": []
  }
 ],
 "metadata": {
  "kernelspec": {
   "display_name": "Python 2",
   "language": "python",
   "name": "python2"
  },
  "language_info": {
   "codemirror_mode": {
    "name": "ipython",
    "version": 2
   },
   "file_extension": ".py",
   "mimetype": "text/x-python",
   "name": "python",
   "nbconvert_exporter": "python",
   "pygments_lexer": "ipython2",
   "version": "2.7.11"
  }
 },
 "nbformat": 4,
 "nbformat_minor": 0
}
