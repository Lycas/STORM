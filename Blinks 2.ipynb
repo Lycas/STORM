{
 "cells": [
  {
   "cell_type": "code",
   "execution_count": 1,
   "metadata": {
    "collapsed": false
   },
   "outputs": [
    {
     "name": "stderr",
     "output_type": "stream",
     "text": [
      "A newer version of GraphLab Create (v2.1) is available! Your current version is v2.0.1.\n",
      "You can use pip to upgrade the graphlab-create package. For more information see https://turi.com/products/create/upgrade.\n"
     ]
    }
   ],
   "source": [
    "import graphlab as gl\n",
    "import matplotlib.pyplot as plt\n",
    "from matplotlib.widgets import Slider, Button, RadioButtons\n",
    "import os\n",
    "import graphlab.aggregate as agg\n",
    "import numpy as np\n",
    "import seaborn as sns\n"
   ]
  },
  {
   "cell_type": "code",
   "execution_count": 8,
   "metadata": {
    "collapsed": false
   },
   "outputs": [
    {
     "data": {
      "text/html": [
       "<pre>Finished parsing file C:\\Users\\jdr248\\160519 -- V 001.txt</pre>"
      ],
      "text/plain": [
       "Finished parsing file C:\\Users\\jdr248\\160519 -- V 001.txt"
      ]
     },
     "metadata": {},
     "output_type": "display_data"
    },
    {
     "data": {
      "text/html": [
       "<pre>Parsing completed. Parsed 100 lines in 0.038004 secs.</pre>"
      ],
      "text/plain": [
       "Parsing completed. Parsed 100 lines in 0.038004 secs."
      ]
     },
     "metadata": {},
     "output_type": "display_data"
    },
    {
     "name": "stdout",
     "output_type": "stream",
     "text": [
      "------------------------------------------------------\n",
      "Inferred types from first 100 line(s) of file as \n",
      "column_type_hints=[float,float,str,str,str,str,float,str,str,long,long,long,long,long,long]\n",
      "If parsing fails due to incorrect types, you can correct\n",
      "the inferred type list above and pass it to read_csv in\n",
      "the column_type_hints argument\n",
      "------------------------------------------------------\n"
     ]
    },
    {
     "data": {
      "text/html": [
       "<pre>Finished parsing file C:\\Users\\jdr248\\160519 -- V 001.txt</pre>"
      ],
      "text/plain": [
       "Finished parsing file C:\\Users\\jdr248\\160519 -- V 001.txt"
      ]
     },
     "metadata": {},
     "output_type": "display_data"
    },
    {
     "data": {
      "text/html": [
       "<pre>Parsing completed. Parsed 8402 lines in 0.058203 secs.</pre>"
      ],
      "text/plain": [
       "Parsing completed. Parsed 8402 lines in 0.058203 secs."
      ]
     },
     "metadata": {},
     "output_type": "display_data"
    },
    {
     "name": "stdout",
     "output_type": "stream",
     "text": [
      "+--------+----+--------+--------+---+----+\n",
      "| row_id | T  |   X    |   Y    | Z | OG |\n",
      "+--------+----+--------+--------+---+----+\n",
      "|   0    | 2  | 1489.9 | 2435.4 | 0 | 0  |\n",
      "|   1    | 2  | 2391.0 | 406.0  | 0 | 1  |\n",
      "|   2    | 6  | 1535.0 |  95.3  | 0 | 2  |\n",
      "|   3    | 10 | 1492.5 | 121.5  | 0 | 3  |\n",
      "|   4    | 10 | 976.7  | 196.6  | 0 | 4  |\n",
      "+--------+----+--------+--------+---+----+\n",
      "[5 rows x 6 columns]\n",
      "\n"
     ]
    }
   ],
   "source": [
    "Raw_Data = gl.SFrame.read_csv('160519 -- V 001.txt', delimiter = '\t',header = True)\n",
    "Sauce = gl.SFrame({'X': Raw_Data['Xc']-min(Raw_Data['Xc']),'Y': Raw_Data['Yc']-min(Raw_Data['Yc']),'T':Raw_Data['Frame']})\n",
    "\n",
    "Sauce = Sauce.sort('T')\n",
    "Sauce['Z']=0\n",
    "Sauce = Sauce.add_row_number('row_id')\n",
    "Sauce['OG']=Sauce['row_id']\n",
    "print Sauce.head(5)\n",
    "Datas = Sauce.to_numpy()\n",
    "Totals = gl.SArray(data = [],dtype = int)\n",
    "Delta = 25\n",
    "\n",
    "for i in range(0,len(Datas[:,1])-1):\n",
    "    if Datas[i,4] == 0:\n",
    "        for j in range(i+1,len(Datas[:,1])):\n",
    "            if Datas[j,2] < (Datas[i,2] + Delta) and Datas[j,2] > (Datas[i,2] - Delta) and Datas[j,3] < (Datas[i,3] +Delta) and Datas[j,3] > (Datas[i,3] - Delta):\n",
    "                Datas[j,4] = Datas[j,1]-Datas[i,1]\n",
    "                Datas[j,5] = Datas[i,5]\n"
   ]
  },
  {
   "cell_type": "code",
   "execution_count": 36,
   "metadata": {
    "collapsed": false
   },
   "outputs": [
    {
     "name": "stdout",
     "output_type": "stream",
     "text": [
      "[  6.00000000e+00   1.45800000e+03   2.21800000e+03   2.36200000e+03\n",
      "   2.41400000e+03   2.93800000e+03   4.11400000e+03   4.15400000e+03\n",
      "   4.23000000e+03   4.49000000e+03   5.11800000e+03   5.20600000e+03\n",
      "   6.00600000e+03   2.62900000e+04   2.78180000e+04   2.79620000e+04\n",
      "   2.81780000e+04   3.09620000e+04   3.48220000e+04   3.52060000e+04\n",
      "   3.75540000e+04]\n"
     ]
    }
   ],
   "source": [
    "print Datas[Datas[:,5] == 2][:,1]\n"
   ]
  },
  {
   "cell_type": "code",
   "execution_count": 107,
   "metadata": {
    "collapsed": false
   },
   "outputs": [],
   "source": [
    "from sklearn.neighbors import KDTree\n",
    "Info = Datas[:,[1,2,3]]\n",
    "Tree = KDTree(Info)"
   ]
  },
  {
   "cell_type": "code",
   "execution_count": 112,
   "metadata": {
    "collapsed": false
   },
   "outputs": [
    {
     "name": "stdout",
     "output_type": "stream",
     "text": [
      "[[   0.          183.44704958  310.1390817   312.47644711  405.24799814\n",
      "   434.68219425  449.04988587  588.65277541  638.81804921  678.73989864\n",
      "   714.82073977  715.34612601  718.8186489   781.28589518  791.6587775\n",
      "   839.04560067  910.65168423  942.50013263  962.17612733  999.03859785]]\n",
      "[[ 1 20 10  9 26 23 32 38 37 13 43 24 42 48 49 50  2  3  7 55]]\n",
      "+--------------------------+\n",
      "|            X             |\n",
      "+--------------------------+\n",
      "|          [0.0]           |\n",
      "|          [1.0]           |\n",
      "|          [2.0]           |\n",
      "|          [3.0]           |\n",
      "|          [4.0]           |\n",
      "|     [5.0, 14.0, 8.0]     |\n",
      "|          [6.0]           |\n",
      "|          [7.0]           |\n",
      "|     [5.0, 14.0, 8.0]     |\n",
      "|       [10.0, 9.0]        |\n",
      "|       [10.0, 9.0]        |\n",
      "|       [11.0, 15.0]       |\n",
      "|          [12.0]          |\n",
      "|          [13.0]          |\n",
      "|  [5.0, 14.0, 8.0, 16.0]  |\n",
      "|       [11.0, 15.0]       |\n",
      "|       [14.0, 16.0]       |\n",
      "|          [17.0]          |\n",
      "|          [18.0]          |\n",
      "|          [19.0]          |\n",
      "|          [20.0]          |\n",
      "|          [21.0]          |\n",
      "|          [22.0]          |\n",
      "|          [23.0]          |\n",
      "|          [24.0]          |\n",
      "|          [25.0]          |\n",
      "|          [26.0]          |\n",
      "|          [27.0]          |\n",
      "|          [28.0]          |\n",
      "|    [29.0, 30.0, 31.0]    |\n",
      "| [29.0, 30.0, 31.0, 34.0] |\n",
      "| [29.0, 30.0, 31.0, 34.0] |\n",
      "|          [32.0]          |\n",
      "|          [33.0]          |\n",
      "|    [30.0, 31.0, 34.0]    |\n",
      "|          [35.0]          |\n",
      "|          [36.0]          |\n",
      "|          [37.0]          |\n",
      "|          [38.0]          |\n",
      "|          [39.0]          |\n",
      "|          [40.0]          |\n",
      "|          [41.0]          |\n",
      "|          [42.0]          |\n",
      "|          [43.0]          |\n",
      "|          [44.0]          |\n",
      "|          [45.0]          |\n",
      "|          [46.0]          |\n",
      "|          [47.0]          |\n",
      "|       [48.0, 49.0]       |\n",
      "|    [48.0, 49.0, 50.0]    |\n",
      "+--------------------------+\n",
      "[8402 rows x 1 columns]\n",
      "\n"
     ]
    },
    {
     "name": "stderr",
     "output_type": "stream",
     "text": [
      "C:\\Users\\jdr248\\Anaconda2\\envs\\gl-env\\lib\\site-packages\\sklearn\\utils\\validation.py:386: DeprecationWarning: Passing 1d arrays as data is deprecated in 0.17 and willraise ValueError in 0.19. Reshape your data either using X.reshape(-1, 1) if your data has a single feature or X.reshape(1, -1) if it contains a single sample.\n",
      "  DeprecationWarning)\n"
     ]
    }
   ],
   "source": [
    "Fruit =Tree.query_radius(Datas[:,[1,2,3]],r=50)\n",
    "dist, ind = Tree.query(Info[1], k=20) \n",
    "Sauce2  = gl.SFrame({'X':Fruit})\n",
    "print dist\n",
    "print ind\n",
    "Sauce2.print_rows(50)"
   ]
  },
  {
   "cell_type": "code",
   "execution_count": null,
   "metadata": {
    "collapsed": false
   },
   "outputs": [],
   "source": []
  },
  {
   "cell_type": "code",
   "execution_count": null,
   "metadata": {
    "collapsed": false
   },
   "outputs": [],
   "source": []
  },
  {
   "cell_type": "code",
   "execution_count": null,
   "metadata": {
    "collapsed": true
   },
   "outputs": [],
   "source": []
  }
 ],
 "metadata": {
  "kernelspec": {
   "display_name": "Python 2",
   "language": "python",
   "name": "python2"
  },
  "language_info": {
   "codemirror_mode": {
    "name": "ipython",
    "version": 2
   },
   "file_extension": ".py",
   "mimetype": "text/x-python",
   "name": "python",
   "nbconvert_exporter": "python",
   "pygments_lexer": "ipython2",
   "version": "2.7.11"
  }
 },
 "nbformat": 4,
 "nbformat_minor": 0
}
